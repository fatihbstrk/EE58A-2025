{
 "cells": [
  {
   "cell_type": "markdown",
   "id": "1ec72a32",
   "metadata": {},
   "source": [
    "# Subblock Detection with YOLOv8 on Apple MPS\n",
    "\n",
    "Welcome to the **Subblock Detection** notebook! Here we walk through the full lifecycle of training and evaluating an Ultralytics YOLOv8 detector on your custom circuit‐subblock dataset, all on Apple’s MPS backend. You can follow along section by section:\n",
    "\n",
    "---\n",
    "\n",
    "## 📁 1. Environment & Dataset Prep  \n",
    "- **Locate project root** and dependencies  \n",
    "- **Run** `prepare_subblock_dataset.py` to assemble images + labels  \n",
    "- Create a `trained_models/` folder to store checkpoints & CSV metrics\n",
    "\n",
    "## 🔧 2. Configuration & Helpers  \n",
    "- Set paths (`DATA_YAML`, `ORIG_MODEL`, etc.) and hyperparameters (epochs, batch size, image size)  \n",
    "- Toggle training flags (`RUN_STAGE1` / `RUN_STAGE2`)  \n",
    "- Utility functions:  \n",
    "  - `get_checkpoint()` finds `.pt` files  \n",
    "  - `load_metrics()` reads per‐epoch results into pandas\n",
    "\n",
    "## 🚀 3. Stage 1: Frozen Warm-Up  \n",
    "- Train the last layers for **30 epochs** (`freeze=10`)  \n",
    "- Save best weights & epoch‐wise metrics\n",
    "\n",
    "## 🔄 4. Stage 2: Full Fine-Tuning  \n",
    "- Unfreeze all layers and train **20 more epochs** (`freeze=0`)  \n",
    "- Save best weights & metrics  \n",
    "- Plot the combined mAP@0.5 & mAP@0.5-0.95 curves across 1…50 epochs\n",
    "\n",
    "## 🔍 5. Parameter Sweep  \n",
    "- (Dry-run mode) quickly test a grid of hyperparameters for **1 epoch**  \n",
    "- Once validated, flip `DRY_RUN=False` to run full **20 epoch** fine-tunes  \n",
    "- Collect and compare final‐epoch metrics in a summary table  \n",
    "- Identify the best variant\n",
    "\n",
    "## 🎯 6. One-Shot Baseline  \n",
    "- Train a **single 50-epoch** run from the original pretrained model (`freeze=0`)  \n",
    "- Compare its performance vs. the two-stage pipeline\n",
    "\n",
    "## 📊 7. Final Evaluation & Plots  \n",
    "- Build a **test-set comparison table** of:  \n",
    "  - Stage1+2 default  \n",
    "  - One-Shot baseline  \n",
    "  - Best-tuned sweep run  \n",
    "- Plot **epoch-wise mAP** for each experiment  \n",
    "- Zoom in on the fine-tune window (epochs 31–50) to visualize differences\n",
    "\n",
    "---\n",
    "\n",
    "## ▶️ How to Follow This Notebook  \n",
    "1. **Execute cells in order.** Each section depends on artifacts or variables defined earlier.  \n",
    "2. **Toggle flags** at the top (e.g. `RUN_STAGE1`, `DRY_RUN`) to skip or shorten expensive training steps when iterating.  \n",
    "3. **Inspect outputs** in the `trained_models/` folder—checkpoints (`.pt`) and metrics (`*_metrics.csv`).  \n",
    "4. **Adjust hyperparameters** in the parameter‐sweep section to explore other training recipes.  \n",
    "5. **Use the final detection snippet** at the end to integrate your best model into downstream analysis.\n",
    "\n",
    "> ⚠️ **Note:** If you ever re-run Stage 1 or Stage 2 under the same run name, delete the old `runs/detect/{run_name}` folder (or change the run name) to avoid appending duplicate epochs in your metrics.\n",
    "\n",
    "Enjoy experimenting, and happy detecting! 🛠️🔎  \n"
   ]
  },
  {
   "cell_type": "code",
   "execution_count": null,
   "id": "7645ab75",
   "metadata": {},
   "outputs": [
    {
     "name": "stdout",
     "output_type": "stream",
     "text": [
      "⏳ Running dataset prep script at /Users/fatihbasturk/Projects/EE58A-2025/subblock_detect/scripts/prepare_subblock_dataset.py\n",
      "STDOUT:\n",
      " Found 426 JSON files in /Users/fatihbasturk/Projects/EE58A-2025/subblock_detect/data/to_label_images\n",
      "Generated 425 YOLO label files in /Users/fatihbasturk/Projects/EE58A-2025/subblock_detect/labels/to_label\n",
      "Preparing splits for 424 labeled images\n",
      " -> train: 339 images\n",
      " -> val: 42 images\n",
      " -> test: 43 images\n",
      "✅ Dataset preparation complete. YAML written to /Users/fatihbasturk/Projects/EE58A-2025/subblock_detect/config/subblock_data.yaml\n",
      "\n",
      "STDERR:\n",
      " \n",
      "✅ Prepared dataset and ensured trained_models directory at /Users/fatihbasturk/Projects/EE58A-2025/trained_models\n"
     ]
    }
   ],
   "source": [
    "# Cell 0: Dataset preparation & setup\n",
    "\n",
    "import subprocess, sys\n",
    "from pathlib import Path\n",
    "\n",
    "# 1) Locate project root by finding 'subblock_detect' folder\n",
    "cwd = Path().resolve()\n",
    "for p in [cwd] + list(cwd.parents):\n",
    "    if (p / \"subblock_detect\").is_dir():\n",
    "        proj_root = p\n",
    "        break\n",
    "else:\n",
    "    raise FileNotFoundError(\"Could not find project root containing 'subblock_detect/'\")\n",
    "\n",
    "# 2) Run the prepare_subblock_dataset.py script\n",
    "prep_script = proj_root / \"subblock_detect\" / \"scripts\" / \"prepare_subblock_dataset.py\"\n",
    "print(f\"⏳ Running dataset prep script at {prep_script}\")\n",
    "proc = subprocess.run([sys.executable, str(prep_script)],\n",
    "                      cwd=str(proj_root),\n",
    "                      capture_output=True, text=True)\n",
    "print(\"STDOUT:\\n\", proc.stdout)\n",
    "print(\"STDERR:\\n\", proc.stderr)\n",
    "if proc.returncode != 0:\n",
    "    raise RuntimeError(\"Dataset preparation failed; see STDERR above.\")\n",
    "\n",
    "# 3) Ensure trained_models/ directory exists\n",
    "trained_dir = proj_root / \"trained_models\"\n",
    "trained_dir.mkdir(exist_ok=True)\n",
    "print(f\"✅ Prepared dataset and ensured trained_models directory at {trained_dir}\")\n"
   ]
  },
  {
   "cell_type": "code",
   "execution_count": 13,
   "id": "dac0d1ef",
   "metadata": {},
   "outputs": [
    {
     "name": "stdout",
     "output_type": "stream",
     "text": [
      "DATA_YAML: /Users/fatihbasturk/Projects/EE58A-2025/subblock_detect/config/subblock_data.yaml\n",
      "Classes: ['differential_pair', 'cascode', 'current_mirror']\n",
      "load_metrics now reads results.csv\n"
     ]
    }
   ],
   "source": [
    "# Cell 1: Imports, Configuration & Utilities\n",
    "\n",
    "import yaml\n",
    "import pandas as pd\n",
    "import matplotlib.pyplot as plt\n",
    "from pathlib import Path\n",
    "from ultralytics import YOLO\n",
    "\n",
    "# 1) Project root already found in Cell 0, reuse:\n",
    "#    proj_root, trained_dir\n",
    "\n",
    "# 2) Paths & hyperparameters\n",
    "DATA_YAML   = str(proj_root / \"subblock_detect\" / \"config\" / \"subblock_data.yaml\")\n",
    "ORIG_MODEL  = str(trained_dir   / \"yolov8_original.pt\")  # ensure you have placed your 12-class .pt here\n",
    "DEVICE      = \"mps\"           # or 'cpu' / 'cuda:0'\n",
    "STAGE1_NAME = \"exp_stage1\"\n",
    "STAGE2_NAME = \"exp_stage2\"\n",
    "EPOCHS1     = 30\n",
    "EPOCHS2     = 20\n",
    "IMG_SIZE    = 640\n",
    "BATCH_SIZE  = 16\n",
    "\n",
    "# 3) Control flags\n",
    "RUN_STAGE1 = False  # set True to train stage1\n",
    "RUN_STAGE2 =False # set True to train stage2\n",
    "\n",
    "# 4) Load class names from DATA_YAML\n",
    "with open(DATA_YAML) as f:\n",
    "    data_cfg = yaml.safe_load(f)\n",
    "CLASS_NAMES = data_cfg[\"names\"]\n",
    "print(\"DATA_YAML:\", DATA_YAML)\n",
    "print(\"Classes:\", CLASS_NAMES)\n",
    "\n",
    "# 5) Utility to locate checkpoint\n",
    "def get_checkpoint(run_name, best=True):\n",
    "    wdir = proj_root / \"runs\" / \"detect\" / run_name / \"weights\"\n",
    "    best_ckpt = wdir / \"best.pt\"\n",
    "    last_ckpt = wdir / \"last.pt\"\n",
    "    if best and best_ckpt.exists(): return str(best_ckpt)\n",
    "    if last_ckpt.exists(): \n",
    "        print(f\"⚠️ best.pt not found for {run_name}, using last.pt\")\n",
    "        return str(last_ckpt)\n",
    "    raise FileNotFoundError(f\"No checkpoint for run {run_name}\")\n",
    "\n",
    "def load_metrics(run_name):\n",
    "    \"\"\"\n",
    "    Load the Ultralytics results.csv for a given run.\n",
    "    \"\"\"\n",
    "    path = proj_root / \"runs\" / \"detect\" / run_name / \"results.csv\"\n",
    "    if not path.exists():\n",
    "        raise FileNotFoundError(f\"{path} not found\")\n",
    "    df = pd.read_csv(path)\n",
    "    # Rename columns to match expected keys\n",
    "    df = df.rename(columns={\"map50\": \"mAP50\", \"map50-95\": \"mAP50-95\"})\n",
    "    return df.set_index(\"epoch\")\n",
    "\n",
    "print(\"load_metrics now reads results.csv\")\n"
   ]
  },
  {
   "cell_type": "code",
   "execution_count": 14,
   "id": "039d7b4a",
   "metadata": {},
   "outputs": [
    {
     "name": "stdout",
     "output_type": "stream",
     "text": [
      "⏭️ Skipping Stage 1 training (RUN_STAGE1=False)\n",
      "✅ Copied Stage1 weights → /Users/fatihbasturk/Projects/EE58A-2025/trained_models/exp_stage1_best.pt\n",
      "✅ Copied Stage1 metrics → /Users/fatihbasturk/Projects/EE58A-2025/trained_models/exp_stage1_metrics.csv\n"
     ]
    }
   ],
   "source": [
    "# Cell 2: Stage 1 Training & Artifact Saving\n",
    "\n",
    "from ultralytics import YOLO\n",
    "import shutil, os, torch\n",
    "\n",
    "# 🔧 1) MPS tweaks: set env var before any MPS allocator use\n",
    "os.environ['PYTORCH_MPS_HIGH_WATERMARK_RATIO'] = '0.0'\n",
    "\n",
    "# 🔧 2) Clear out any leftover MPS cache\n",
    "if torch.backends.mps.is_available():\n",
    "    torch.mps.empty_cache()\n",
    "\n",
    "# 1) Initialize model\n",
    "model1 = YOLO(ORIG_MODEL)\n",
    "\n",
    "# 2) Train (if flag enabled)\n",
    "if RUN_STAGE1:\n",
    "    print(f\"▶️ Starting Stage 1 training for {EPOCHS1} epochs…\")\n",
    "    stage1 = model1.train(\n",
    "        data=DATA_YAML,\n",
    "        epochs=EPOCHS1,\n",
    "        imgsz=IMG_SIZE,\n",
    "        batch=BATCH_SIZE,\n",
    "        freeze=10,\n",
    "        device=DEVICE,\n",
    "        name=STAGE1_NAME,\n",
    "        save=True,\n",
    "        exist_ok=True,\n",
    "        verbose=False,\n",
    "        max_det=100\n",
    "    )\n",
    "    print(\"✅ Stage 1 training complete.\")\n",
    "else:\n",
    "    print(\"⏭️ Skipping Stage 1 training (RUN_STAGE1=False)\")\n",
    "\n",
    "# 3) Copy out best.pt and results.csv to trained_models/\n",
    "try:\n",
    "    ckpt1 = get_checkpoint(STAGE1_NAME)\n",
    "    dst_w = trained_dir / f\"{STAGE1_NAME}_best.pt\"\n",
    "    shutil.copy2(ckpt1, dst_w)\n",
    "    print(f\"✅ Copied Stage1 weights → {dst_w}\")\n",
    "\n",
    "    # Ultralytics writes results.csv, so copy that instead of metrics.csv\n",
    "    src_m = proj_root / \"runs\" / \"detect\" / STAGE1_NAME / \"results.csv\"\n",
    "    dst_m = trained_dir / f\"{STAGE1_NAME}_metrics.csv\"\n",
    "    shutil.copy2(src_m, dst_m)\n",
    "    print(f\"✅ Copied Stage1 metrics → {dst_m}\")\n",
    "except FileNotFoundError as e:\n",
    "    print(f\"⚠️ Artifact copy skipped: {e}\")\n"
   ]
  },
  {
   "cell_type": "code",
   "execution_count": 15,
   "id": "f768df72",
   "metadata": {},
   "outputs": [
    {
     "name": "stdout",
     "output_type": "stream",
     "text": [
      "⏭️ Skipping Stage 2 training (RUN_STAGE2=False)\n",
      "✅ Copied Stage2 weights → /Users/fatihbasturk/Projects/EE58A-2025/trained_models/exp_stage2_best.pt\n",
      "✅ Copied Stage2 metrics → /Users/fatihbasturk/Projects/EE58A-2025/trained_models/exp_stage2_metrics.csv\n"
     ]
    }
   ],
   "source": [
    "# Cell 3: Stage 2 Training & Artifact Saving\n",
    "\n",
    "from ultralytics import YOLO\n",
    "import shutil, os, torch\n",
    "\n",
    "# 🔧 MPS tweaks: ensure high-watermark disabled and cache cleared\n",
    "os.environ['PYTORCH_MPS_HIGH_WATERMARK_RATIO'] = '0.0'\n",
    "if torch.backends.mps.is_available():\n",
    "    torch.mps.empty_cache()\n",
    "\n",
    "# 1) Locate the Stage 1 checkpoint (best or last)\n",
    "stage1_ckpt = get_checkpoint(STAGE1_NAME)\n",
    "\n",
    "# 2) Initialize model for Stage 2\n",
    "model2 = YOLO(stage1_ckpt)\n",
    "\n",
    "# 3) Train Stage 2 (if flag enabled)\n",
    "if RUN_STAGE2:\n",
    "    print(f\"▶️ Starting Stage 2 fine-tune for {EPOCHS2} epochs…\")\n",
    "    stage2 = model2.train(\n",
    "        data=DATA_YAML,\n",
    "        epochs=EPOCHS2,\n",
    "        imgsz=IMG_SIZE,     # ↳ lower to 512 or 416 if you still hit OOM\n",
    "        batch=BATCH_SIZE,   # ↳ drop to 8 or 4 if needed\n",
    "        freeze=0,\n",
    "        device=DEVICE,\n",
    "        name=STAGE2_NAME,\n",
    "        save=True,\n",
    "        exist_ok=True,\n",
    "        verbose=False,\n",
    "        max_det=100\n",
    "    )\n",
    "    print(\"✅ Stage 2 training complete.\")\n",
    "else:\n",
    "    print(\"⏭️ Skipping Stage 2 training (RUN_STAGE2=False)\")\n",
    "\n",
    "# 4) Copy out Stage2 artifacts\n",
    "try:\n",
    "    ckpt2 = get_checkpoint(STAGE2_NAME)\n",
    "    dst_w2 = trained_dir / f\"{STAGE2_NAME}_best.pt\"\n",
    "    shutil.copy2(ckpt2, dst_w2)\n",
    "    print(f\"✅ Copied Stage2 weights → {dst_w2}\")\n",
    "\n",
    "    # Ultralytics writes results.csv, so copy that instead of metrics.csv\n",
    "    src_m2 = proj_root / \"runs\" / \"detect\" / STAGE2_NAME / \"results.csv\"\n",
    "    dst_m2 = trained_dir / f\"{STAGE2_NAME}_metrics.csv\"\n",
    "    shutil.copy2(src_m2, dst_m2)\n",
    "    print(f\"✅ Copied Stage2 metrics → {dst_m2}\")\n",
    "except FileNotFoundError as e:\n",
    "    print(f\"⚠️ Artifact copy skipped: {e}\")\n"
   ]
  },
  {
   "cell_type": "code",
   "execution_count": 43,
   "id": "80b1784a",
   "metadata": {},
   "outputs": [
    {
     "name": "stdout",
     "output_type": "stream",
     "text": [
      "Files in trained_models/:\n",
      " • exp_lr_5e-4_metrics.csv\n",
      " • exp_mixup_on_metrics.csv\n",
      " • exp_lr_1e-3_best.pt\n",
      " • exp_lr_5e-4_best.pt\n",
      " • exp_label_smooth_metrics.csv\n",
      " • exp_mosaic_off_metrics.csv\n",
      " • exp_wd_1e-3_metrics.csv\n",
      " • exp_mixup_on_best.pt\n",
      " • yolov8_best.pt\n",
      " • exp_wd_1e-4_best.pt\n",
      " • exp_lr_1e-4_metrics.csv\n",
      " • exp_cosine_lr_metrics.csv\n",
      " • exp_orig_full50_metrics.csv\n",
      " • exp_cosine_lr_best.pt\n",
      " • exp_stage1_metrics.csv\n",
      " • exp_wd_1e-2_metrics.csv\n",
      " • exp_lr_1e-4_best.pt\n",
      " • exp_stage2_best.pt\n",
      " • yolov8_original.pt\n",
      " • exp_lr_1e-3_metrics.csv\n",
      " • exp_stage1_best.pt\n",
      " • exp_wd_1e-3_best.pt\n",
      " • exp_wd_1e-4_metrics.csv\n",
      " • exp_orig_full50_best.pt\n",
      " • exp_mosaic_off_best.pt\n",
      " • exp_label_smooth_best.pt\n",
      " • exp_stage2_metrics.csv\n",
      " • exp_wd_1e-2_best.pt\n"
     ]
    }
   ],
   "source": [
    "from pathlib import Path\n",
    "\n",
    "models_dir = Path(trained_dir)\n",
    "print(\"Files in trained_models/:\")\n",
    "for f in models_dir.iterdir():\n",
    "    print(\" •\", f.name)\n"
   ]
  },
  {
   "cell_type": "code",
   "execution_count": 18,
   "id": "1e36eb7d",
   "metadata": {},
   "outputs": [
    {
     "name": "stdout",
     "output_type": "stream",
     "text": [
      "Stage1 CSV path: /Users/fatihbasturk/Projects/EE58A-2025/trained_models/exp_stage1_metrics.csv exists? True\n",
      "Stage2 CSV path: /Users/fatihbasturk/Projects/EE58A-2025/trained_models/exp_stage2_metrics.csv exists? True\n",
      "\n",
      "Stage1 head:\n",
      "           time  train/box_loss  train/cls_loss  train/dfl_loss  \\\n",
      "epoch                                                             \n",
      "1       48.0685         2.19266         3.77612         1.84415   \n",
      "2      111.0380         1.69222         2.74277         1.46883   \n",
      "1       50.6191         2.19266         3.77612         1.84415   \n",
      "2      113.5430         1.69127         2.76381         1.44597   \n",
      "3      185.2410         1.49601         2.28191         1.32701   \n",
      "\n",
      "       metrics/precision(B)  metrics/recall(B)  metrics/mAP50(B)  \\\n",
      "epoch                                                              \n",
      "1                   0.06342            0.43472           0.09906   \n",
      "2                   0.60354            0.36764           0.34851   \n",
      "1                   0.07055            0.41422           0.10471   \n",
      "2                   0.58734            0.39311           0.38375   \n",
      "3                   0.68200            0.42915           0.42226   \n",
      "\n",
      "       metrics/mAP50-95(B)  val/box_loss  val/cls_loss  val/dfl_loss  \\\n",
      "epoch                                                                  \n",
      "1                  0.04817       1.72534       3.03108       1.45560   \n",
      "2                  0.19084       1.55268       2.19667       1.36667   \n",
      "1                  0.05124       1.74234       3.02259       1.46454   \n",
      "2                  0.21208       1.53915       2.11268       1.36581   \n",
      "3                  0.22562       1.49131       1.82208       1.33479   \n",
      "\n",
      "         lr/pg0    lr/pg1    lr/pg2  \n",
      "epoch                                \n",
      "1      0.000372  0.000372  0.000372  \n",
      "2      0.000732  0.000732  0.000732  \n",
      "1      0.000372  0.000372  0.000372  \n",
      "2      0.000732  0.000732  0.000732  \n",
      "3      0.001068  0.001068  0.001068  \n",
      "\n",
      "Stage1 columns: ['time', 'train/box_loss', 'train/cls_loss', 'train/dfl_loss', 'metrics/precision(B)', 'metrics/recall(B)', 'metrics/mAP50(B)', 'metrics/mAP50-95(B)', 'val/box_loss', 'val/cls_loss', 'val/dfl_loss', 'lr/pg0', 'lr/pg1', 'lr/pg2']\n",
      "\n",
      "Stage2 head:\n",
      "          time  train/box_loss  train/cls_loss  train/dfl_loss  \\\n",
      "epoch                                                            \n",
      "1      156.115         1.31495         1.41742         1.35482   \n",
      "2      213.274         1.15630         1.01994         1.17825   \n",
      "3      345.906         1.11912         0.99202         1.15792   \n",
      "4      494.830         1.13935         0.97740         1.16856   \n",
      "5      710.692         1.09109         0.97077         1.16696   \n",
      "\n",
      "       metrics/precision(B)  metrics/recall(B)  metrics/mAP50(B)  \\\n",
      "epoch                                                              \n",
      "1                   0.91669            0.80701           0.85638   \n",
      "2                   0.90507            0.86245           0.92606   \n",
      "3                   0.88051            0.84451           0.92529   \n",
      "4                   0.89125            0.80374           0.86737   \n",
      "5                   0.85626            0.68343           0.71424   \n",
      "\n",
      "       metrics/mAP50-95(B)  val/box_loss  val/cls_loss  val/dfl_loss  \\\n",
      "epoch                                                                  \n",
      "1                  0.60387       1.02431       0.69111       1.08658   \n",
      "2                  0.62517       1.10725       0.72536       1.12569   \n",
      "3                  0.63727       1.05388       0.74194       1.12144   \n",
      "4                  0.61162       1.00092       0.70230       1.10565   \n",
      "5                  0.51373       0.98212       0.66532       1.10304   \n",
      "\n",
      "         lr/pg0    lr/pg1    lr/pg2  \n",
      "epoch                                \n",
      "1      0.000372  0.000372  0.000372  \n",
      "2      0.000720  0.000720  0.000720  \n",
      "3      0.001030  0.001030  0.001030  \n",
      "4      0.001217  0.001217  0.001217  \n",
      "5      0.001146  0.001146  0.001146  \n",
      "\n",
      "Stage2 columns: ['time', 'train/box_loss', 'train/cls_loss', 'train/dfl_loss', 'metrics/precision(B)', 'metrics/recall(B)', 'metrics/mAP50(B)', 'metrics/mAP50-95(B)', 'val/box_loss', 'val/cls_loss', 'val/dfl_loss', 'lr/pg0', 'lr/pg1', 'lr/pg2']\n"
     ]
    }
   ],
   "source": [
    "import pandas as pd\n",
    "from pathlib import Path\n",
    "\n",
    "# Load the copied metrics from trained_models/\n",
    "run1_csv = Path(trained_dir) / f\"{STAGE1_NAME}_metrics.csv\"\n",
    "run2_csv = Path(trained_dir) / f\"{STAGE2_NAME}_metrics.csv\"\n",
    "\n",
    "# Read them in\n",
    "df1_all = pd.read_csv(run1_csv, index_col=\"epoch\")\n",
    "df2     = pd.read_csv(run2_csv, index_col=\"epoch\")\n",
    "\n",
    "# Quick checks\n",
    "print(\"Stage1 CSV path:\", run1_csv, \"exists?\", run1_csv.exists())\n",
    "print(\"Stage2 CSV path:\", run2_csv, \"exists?\", run2_csv.exists())\n",
    "\n",
    "print(\"\\nStage1 head:\")\n",
    "print(df1_all.head())\n",
    "\n",
    "print(\"\\nStage1 columns:\", df1_all.columns.tolist())\n",
    "\n",
    "print(\"\\nStage2 head:\")\n",
    "print(df2.head())\n",
    "\n",
    "print(\"\\nStage2 columns:\", df2.columns.tolist())\n"
   ]
  },
  {
   "cell_type": "code",
   "execution_count": 19,
   "id": "9c22a283",
   "metadata": {},
   "outputs": [
    {
     "data": {
      "image/png": "[encoded data removed]",
      "text/plain": [
       "<Figure size 1000x500 with 1 Axes>"
      ]
     },
     "metadata": {},
     "output_type": "display_data"
    }
   ],
   "source": [
    "%matplotlib inline\n",
    "\n",
    "import pandas as pd\n",
    "import matplotlib.pyplot as plt\n",
    "from pathlib import Path\n",
    "\n",
    "# Load metrics from trained_models (make sure these files now exist)\n",
    "df1 = pd.read_csv(Path(trained_dir)/f\"{STAGE1_NAME}_metrics.csv\", index_col=\"epoch\")\n",
    "df2 = pd.read_csv(Path(trained_dir)/f\"{STAGE2_NAME}_metrics.csv\", index_col=\"epoch\")\n",
    "\n",
    "# Prepare data\n",
    "df1 = df1.iloc[:30]            # Stage 1: epochs 1–30\n",
    "epochs1 = df1.index\n",
    "epochs2 = df2.index + epochs1.max()  # Stage 2: 31–50\n",
    "\n",
    "# Plot\n",
    "plt.figure(figsize=(10,5))\n",
    "plt.plot(epochs1, df1[\"metrics/mAP50(B)\"], 'o-', label=\"Stage 1\")\n",
    "plt.plot(epochs2, df2[\"metrics/mAP50(B)\"], 's--', label=\"Stage 2\")\n",
    "plt.axvline(epochs1.max(), color='gray', linestyle='--', label='switch')\n",
    "plt.xlabel(\"Epoch\"); plt.ylabel(\"mAP@0.5\")\n",
    "plt.title(\"Stage 1 vs Stage 2\")\n",
    "plt.legend(); plt.grid(True); plt.show()\n"
   ]
  },
  {
   "cell_type": "code",
   "execution_count": 24,
   "id": "614c8911",
   "metadata": {},
   "outputs": [
    {
     "name": "stdout",
     "output_type": "stream",
     "text": [
      "\n",
      "▶️ Full training 'exp_lr_1e-3' for 20 epoch(s) with {'lr0': 0.001}\n",
      "New https://pypi.org/project/ultralytics/8.3.139 available 😃 Update with 'pip install -U ultralytics'\n",
      "Ultralytics 8.3.122 🚀 Python-3.11.4 torch-2.6.0 MPS (Apple M4)\n",
      "\u001b[34m\u001b[1mengine/trainer: \u001b[0mtask=detect, mode=train, model=/Users/fatihbasturk/Projects/EE58A-2025/runs/detect/exp_stage2/weights/best.pt, data=/Users/fatihbasturk/Projects/EE58A-2025/subblock_detect/config/subblock_data.yaml, epochs=20, time=None, patience=100, batch=16, imgsz=640, save=True, save_period=-1, cache=False, device=mps, workers=8, project=None, name=exp_lr_1e-3, exist_ok=True, pretrained=True, optimizer=auto, verbose=False, seed=0, deterministic=True, single_cls=False, rect=False, cos_lr=False, close_mosaic=10, resume=False, amp=True, fraction=1.0, profile=False, freeze=0, multi_scale=False, overlap_mask=True, mask_ratio=4, dropout=0.0, val=True, split=val, save_json=False, conf=None, iou=0.7, max_det=100, half=False, dnn=False, plots=True, source=None, vid_stride=1, stream_buffer=False, visualize=False, augment=False, agnostic_nms=False, classes=None, retina_masks=False, embed=None, show=False, save_frames=False, save_txt=False, save_conf=False, save_crop=False, show_labels=True, show_conf=True, show_boxes=True, line_width=None, format=torchscript, keras=False, optimize=False, int8=False, dynamic=False, simplify=True, opset=None, workspace=None, nms=False, lr0=0.001, lrf=0.01, momentum=0.937, weight_decay=0.0005, warmup_epochs=3.0, warmup_momentum=0.8, warmup_bias_lr=0.1, box=7.5, cls=0.5, dfl=1.5, pose=12.0, kobj=1.0, nbs=64, hsv_h=0.015, hsv_s=0.7, hsv_v=0.4, degrees=0.0, translate=0.1, scale=0.5, shear=0.0, perspective=0.0, flipud=0.0, fliplr=0.5, bgr=0.0, mosaic=1.0, mixup=0.0, cutmix=0.0, copy_paste=0.0, copy_paste_mode=flip, auto_augment=randaugment, erasing=0.4, cfg=None, tracker=botsort.yaml, save_dir=/Users/fatihbasturk/Projects/EE58A-2025/runs/detect/exp_lr_1e-3\n",
      "\n",
      "                   from  n    params  module                                       arguments                     \n",
      "  0                  -1  1       464  ultralytics.nn.modules.conv.Conv             [3, 16, 3, 2]                 \n",
      "  1                  -1  1      4672  ultralytics.nn.modules.conv.Conv             [16, 32, 3, 2]                \n",
      "  2                  -1  1      7360  ultralytics.nn.modules.block.C2f             [32, 32, 1, True]             \n",
      "  3                  -1  1     18560  ultralytics.nn.modules.conv.Conv             [32, 64, 3, 2]                \n",
      "  4                  -1  2     49664  ultralytics.nn.modules.block.C2f             [64, 64, 2, True]             \n",
      "  5                  -1  1     73984  ultralytics.nn.modules.conv.Conv             [64, 128, 3, 2]               \n",
      "  6                  -1  2    197632  ultralytics.nn.modules.block.C2f             [128, 128, 2, True]           \n",
      "  7                  -1  1    295424  ultralytics.nn.modules.conv.Conv             [128, 256, 3, 2]              \n",
      "  8                  -1  1    460288  ultralytics.nn.modules.block.C2f             [256, 256, 1, True]           \n",
      "  9                  -1  1    164608  ultralytics.nn.modules.block.SPPF            [256, 256, 5]                 \n",
      " 10                  -1  1         0  torch.nn.modules.upsampling.Upsample         [None, 2, 'nearest']          \n",
      " 11             [-1, 6]  1         0  ultralytics.nn.modules.conv.Concat           [1]                           \n",
      " 12                  -1  1    148224  ultralytics.nn.modules.block.C2f             [384, 128, 1]                 \n",
      " 13                  -1  1         0  torch.nn.modules.upsampling.Upsample         [None, 2, 'nearest']          \n",
      " 14             [-1, 4]  1         0  ultralytics.nn.modules.conv.Concat           [1]                           \n",
      " 15                  -1  1     37248  ultralytics.nn.modules.block.C2f             [192, 64, 1]                  \n",
      " 16                  -1  1     36992  ultralytics.nn.modules.conv.Conv             [64, 64, 3, 2]                \n",
      " 17            [-1, 12]  1         0  ultralytics.nn.modules.conv.Concat           [1]                           \n",
      " 18                  -1  1    123648  ultralytics.nn.modules.block.C2f             [192, 128, 1]                 \n",
      " 19                  -1  1    147712  ultralytics.nn.modules.conv.Conv             [128, 128, 3, 2]              \n",
      " 20             [-1, 9]  1         0  ultralytics.nn.modules.conv.Concat           [1]                           \n",
      " 21                  -1  1    493056  ultralytics.nn.modules.block.C2f             [384, 256, 1]                 \n",
      " 22        [15, 18, 21]  1    751897  ultralytics.nn.modules.head.Detect           [3, [64, 128, 256]]           \n",
      "Model summary: 129 layers, 3,011,433 parameters, 3,011,417 gradients, 8.2 GFLOPs\n",
      "\n",
      "Transferred 355/355 items from pretrained weights\n",
      "Freezing layer 'model.22.dfl.conv.weight'\n",
      "\u001b[34m\u001b[1mtrain: \u001b[0mFast image access ✅ (ping: 0.0±0.0 ms, read: 50.0±8.2 MB/s, size: 10.3 KB)\n"
     ]
    },
    {
     "name": "stderr",
     "output_type": "stream",
     "text": [
      "\u001b[34m\u001b[1mtrain: \u001b[0mScanning /Users/fatihbasturk/Projects/EE58A-2025/subblock_detect/subblock_dataset/train/labels.cache... 424 images, 0 backgrounds, 0 corrupt: 100%|██████████| 424/424 [00:00<?, ?it/s]"
     ]
    },
    {
     "name": "stdout",
     "output_type": "stream",
     "text": [
      "\u001b[34m\u001b[1mval: \u001b[0mFast image access ✅ (ping: 0.0±0.0 ms, read: 71.7±20.6 MB/s, size: 11.9 KB)\n"
     ]
    },
    {
     "name": "stderr",
     "output_type": "stream",
     "text": [
      "\n",
      "\u001b[34m\u001b[1mval: \u001b[0mScanning /Users/fatihbasturk/Projects/EE58A-2025/subblock_detect/subblock_dataset/val/labels.cache... 319 images, 0 backgrounds, 0 corrupt: 100%|██████████| 319/319 [00:00<?, ?it/s]"
     ]
    },
    {
     "name": "stdout",
     "output_type": "stream",
     "text": [
      "Plotting labels to /Users/fatihbasturk/Projects/EE58A-2025/runs/detect/exp_lr_1e-3/labels.jpg... \n"
     ]
    },
    {
     "name": "stderr",
     "output_type": "stream",
     "text": [
      "\n"
     ]
    },
    {
     "name": "stdout",
     "output_type": "stream",
     "text": [
      "\u001b[34m\u001b[1moptimizer:\u001b[0m 'optimizer=auto' found, ignoring 'lr0=0.001' and 'momentum=0.937' and determining best 'optimizer', 'lr0' and 'momentum' automatically... \n",
      "\u001b[34m\u001b[1moptimizer:\u001b[0m AdamW(lr=0.001429, momentum=0.9) with parameter groups 57 weight(decay=0.0), 64 weight(decay=0.0005), 63 bias(decay=0.0)\n",
      "Image sizes 640 train, 640 val\n",
      "Using 0 dataloader workers\n",
      "Logging results to \u001b[1m/Users/fatihbasturk/Projects/EE58A-2025/runs/detect/exp_lr_1e-3\u001b[0m\n",
      "Starting training for 20 epochs...\n",
      "\n",
      "      Epoch    GPU_mem   box_loss   cls_loss   dfl_loss  Instances       Size\n"
     ]
    },
    {
     "name": "stderr",
     "output_type": "stream",
     "text": [
      "       1/20      5.68G     0.9696     0.8424      1.061         52        640:   7%|▋         | 2/27 [00:03<00:42,  1.69s/it]\n"
     ]
    },
    {
     "ename": "KeyboardInterrupt",
     "evalue": "",
     "output_type": "error",
     "traceback": [
      "\u001b[31m---------------------------------------------------------------------------\u001b[39m",
      "\u001b[31mKeyboardInterrupt\u001b[39m                         Traceback (most recent call last)",
      "\u001b[36mCell\u001b[39m\u001b[36m \u001b[39m\u001b[32mIn[24]\u001b[39m\u001b[32m, line 48\u001b[39m\n\u001b[32m     45\u001b[39m \u001b[38;5;28mprint\u001b[39m(\u001b[33mf\u001b[39m\u001b[33m\"\u001b[39m\u001b[38;5;130;01m\\n\u001b[39;00m\u001b[33m▶️ \u001b[39m\u001b[38;5;132;01m{\u001b[39;00m\u001b[33m'\u001b[39m\u001b[33mDry-run\u001b[39m\u001b[33m'\u001b[39m\u001b[38;5;250m \u001b[39m\u001b[38;5;28;01mif\u001b[39;00m\u001b[38;5;250m \u001b[39mDRY_RUN\u001b[38;5;250m \u001b[39m\u001b[38;5;28;01melse\u001b[39;00m\u001b[38;5;250m \u001b[39m\u001b[33m'\u001b[39m\u001b[33mFull\u001b[39m\u001b[33m'\u001b[39m\u001b[38;5;132;01m}\u001b[39;00m\u001b[33m training \u001b[39m\u001b[33m'\u001b[39m\u001b[38;5;132;01m{\u001b[39;00mrun_name\u001b[38;5;132;01m}\u001b[39;00m\u001b[33m'\u001b[39m\u001b[33m for \u001b[39m\u001b[38;5;132;01m{\u001b[39;00mepochs\u001b[38;5;132;01m}\u001b[39;00m\u001b[33m epoch(s) with \u001b[39m\u001b[38;5;132;01m{\u001b[39;00moverride\u001b[38;5;132;01m}\u001b[39;00m\u001b[33m\"\u001b[39m)\n\u001b[32m     47\u001b[39m \u001b[38;5;66;03m# 1) Train\u001b[39;00m\n\u001b[32m---> \u001b[39m\u001b[32m48\u001b[39m result = \u001b[43mYOLO\u001b[49m\u001b[43m(\u001b[49m\u001b[43mbase_ckpt\u001b[49m\u001b[43m)\u001b[49m\u001b[43m.\u001b[49m\u001b[43mtrain\u001b[49m\u001b[43m(\u001b[49m\n\u001b[32m     49\u001b[39m \u001b[43m    \u001b[49m\u001b[43mdata\u001b[49m\u001b[43m=\u001b[49m\u001b[43mDATA_YAML\u001b[49m\u001b[43m,\u001b[49m\n\u001b[32m     50\u001b[39m \u001b[43m    \u001b[49m\u001b[43mepochs\u001b[49m\u001b[43m=\u001b[49m\u001b[43mepochs\u001b[49m\u001b[43m,\u001b[49m\n\u001b[32m     51\u001b[39m \u001b[43m    \u001b[49m\u001b[43mimgsz\u001b[49m\u001b[43m=\u001b[49m\u001b[43mIMG_SIZE\u001b[49m\u001b[43m,\u001b[49m\n\u001b[32m     52\u001b[39m \u001b[43m    \u001b[49m\u001b[43mbatch\u001b[49m\u001b[43m=\u001b[49m\u001b[43mBATCH_SIZE\u001b[49m\u001b[43m,\u001b[49m\n\u001b[32m     53\u001b[39m \u001b[43m    \u001b[49m\u001b[43mfreeze\u001b[49m\u001b[43m=\u001b[49m\u001b[32;43m0\u001b[39;49m\u001b[43m,\u001b[49m\n\u001b[32m     54\u001b[39m \u001b[43m    \u001b[49m\u001b[43mdevice\u001b[49m\u001b[43m=\u001b[49m\u001b[43mDEVICE\u001b[49m\u001b[43m,\u001b[49m\n\u001b[32m     55\u001b[39m \u001b[43m    \u001b[49m\u001b[43mname\u001b[49m\u001b[43m=\u001b[49m\u001b[43mrun_name\u001b[49m\u001b[43m,\u001b[49m\n\u001b[32m     56\u001b[39m \u001b[43m    \u001b[49m\u001b[43msave\u001b[49m\u001b[43m=\u001b[49m\u001b[38;5;28;43;01mTrue\u001b[39;49;00m\u001b[43m,\u001b[49m\n\u001b[32m     57\u001b[39m \u001b[43m    \u001b[49m\u001b[43mexist_ok\u001b[49m\u001b[43m=\u001b[49m\u001b[38;5;28;43;01mTrue\u001b[39;49;00m\u001b[43m,\u001b[49m\n\u001b[32m     58\u001b[39m \u001b[43m    \u001b[49m\u001b[43mverbose\u001b[49m\u001b[43m=\u001b[49m\u001b[38;5;28;43;01mFalse\u001b[39;49;00m\u001b[43m,\u001b[49m\n\u001b[32m     59\u001b[39m \u001b[43m    \u001b[49m\u001b[43mmax_det\u001b[49m\u001b[43m=\u001b[49m\u001b[32;43m100\u001b[39;49m\u001b[43m,\u001b[49m\n\u001b[32m     60\u001b[39m \u001b[43m    \u001b[49m\u001b[43m*\u001b[49m\u001b[43m*\u001b[49m\u001b[43moverride\u001b[49m\n\u001b[32m     61\u001b[39m \u001b[43m\u001b[49m\u001b[43m)\u001b[49m\n\u001b[32m     63\u001b[39m \u001b[38;5;66;03m# 2) Copy out best checkpoint\u001b[39;00m\n\u001b[32m     64\u001b[39m ckpt = get_checkpoint(run_name)\n",
      "\u001b[36mFile \u001b[39m\u001b[32m~/Projects/EE58A-2025/.venv/lib/python3.11/site-packages/ultralytics/engine/model.py:790\u001b[39m, in \u001b[36mModel.train\u001b[39m\u001b[34m(self, trainer, **kwargs)\u001b[39m\n\u001b[32m    787\u001b[39m     \u001b[38;5;28mself\u001b[39m.model = \u001b[38;5;28mself\u001b[39m.trainer.model\n\u001b[32m    789\u001b[39m \u001b[38;5;28mself\u001b[39m.trainer.hub_session = \u001b[38;5;28mself\u001b[39m.session  \u001b[38;5;66;03m# attach optional HUB session\u001b[39;00m\n\u001b[32m--> \u001b[39m\u001b[32m790\u001b[39m \u001b[38;5;28;43mself\u001b[39;49m\u001b[43m.\u001b[49m\u001b[43mtrainer\u001b[49m\u001b[43m.\u001b[49m\u001b[43mtrain\u001b[49m\u001b[43m(\u001b[49m\u001b[43m)\u001b[49m\n\u001b[32m    791\u001b[39m \u001b[38;5;66;03m# Update model and cfg after training\u001b[39;00m\n\u001b[32m    792\u001b[39m \u001b[38;5;28;01mif\u001b[39;00m RANK \u001b[38;5;129;01min\u001b[39;00m {-\u001b[32m1\u001b[39m, \u001b[32m0\u001b[39m}:\n",
      "\u001b[36mFile \u001b[39m\u001b[32m~/Projects/EE58A-2025/.venv/lib/python3.11/site-packages/ultralytics/engine/trainer.py:210\u001b[39m, in \u001b[36mBaseTrainer.train\u001b[39m\u001b[34m(self)\u001b[39m\n\u001b[32m    207\u001b[39m         ddp_cleanup(\u001b[38;5;28mself\u001b[39m, \u001b[38;5;28mstr\u001b[39m(file))\n\u001b[32m    209\u001b[39m \u001b[38;5;28;01melse\u001b[39;00m:\n\u001b[32m--> \u001b[39m\u001b[32m210\u001b[39m     \u001b[38;5;28;43mself\u001b[39;49m\u001b[43m.\u001b[49m\u001b[43m_do_train\u001b[49m\u001b[43m(\u001b[49m\u001b[43mworld_size\u001b[49m\u001b[43m)\u001b[49m\n",
      "\u001b[36mFile \u001b[39m\u001b[32m~/Projects/EE58A-2025/.venv/lib/python3.11/site-packages/ultralytics/engine/trainer.py:384\u001b[39m, in \u001b[36mBaseTrainer._do_train\u001b[39m\u001b[34m(self, world_size)\u001b[39m\n\u001b[32m    382\u001b[39m \u001b[38;5;28;01mwith\u001b[39;00m autocast(\u001b[38;5;28mself\u001b[39m.amp):\n\u001b[32m    383\u001b[39m     batch = \u001b[38;5;28mself\u001b[39m.preprocess_batch(batch)\n\u001b[32m--> \u001b[39m\u001b[32m384\u001b[39m     loss, \u001b[38;5;28mself\u001b[39m.loss_items = \u001b[38;5;28;43mself\u001b[39;49m\u001b[43m.\u001b[49m\u001b[43mmodel\u001b[49m\u001b[43m(\u001b[49m\u001b[43mbatch\u001b[49m\u001b[43m)\u001b[49m\n\u001b[32m    385\u001b[39m     \u001b[38;5;28mself\u001b[39m.loss = loss.sum()\n\u001b[32m    386\u001b[39m     \u001b[38;5;28;01mif\u001b[39;00m RANK != -\u001b[32m1\u001b[39m:\n",
      "\u001b[36mFile \u001b[39m\u001b[32m~/Projects/EE58A-2025/.venv/lib/python3.11/site-packages/torch/nn/modules/module.py:1739\u001b[39m, in \u001b[36mModule._wrapped_call_impl\u001b[39m\u001b[34m(self, *args, **kwargs)\u001b[39m\n\u001b[32m   1737\u001b[39m     \u001b[38;5;28;01mreturn\u001b[39;00m \u001b[38;5;28mself\u001b[39m._compiled_call_impl(*args, **kwargs)  \u001b[38;5;66;03m# type: ignore[misc]\u001b[39;00m\n\u001b[32m   1738\u001b[39m \u001b[38;5;28;01melse\u001b[39;00m:\n\u001b[32m-> \u001b[39m\u001b[32m1739\u001b[39m     \u001b[38;5;28;01mreturn\u001b[39;00m \u001b[38;5;28;43mself\u001b[39;49m\u001b[43m.\u001b[49m\u001b[43m_call_impl\u001b[49m\u001b[43m(\u001b[49m\u001b[43m*\u001b[49m\u001b[43margs\u001b[49m\u001b[43m,\u001b[49m\u001b[43m \u001b[49m\u001b[43m*\u001b[49m\u001b[43m*\u001b[49m\u001b[43mkwargs\u001b[49m\u001b[43m)\u001b[49m\n",
      "\u001b[36mFile \u001b[39m\u001b[32m~/Projects/EE58A-2025/.venv/lib/python3.11/site-packages/torch/nn/modules/module.py:1750\u001b[39m, in \u001b[36mModule._call_impl\u001b[39m\u001b[34m(self, *args, **kwargs)\u001b[39m\n\u001b[32m   1745\u001b[39m \u001b[38;5;66;03m# If we don't have any hooks, we want to skip the rest of the logic in\u001b[39;00m\n\u001b[32m   1746\u001b[39m \u001b[38;5;66;03m# this function, and just call forward.\u001b[39;00m\n\u001b[32m   1747\u001b[39m \u001b[38;5;28;01mif\u001b[39;00m \u001b[38;5;129;01mnot\u001b[39;00m (\u001b[38;5;28mself\u001b[39m._backward_hooks \u001b[38;5;129;01mor\u001b[39;00m \u001b[38;5;28mself\u001b[39m._backward_pre_hooks \u001b[38;5;129;01mor\u001b[39;00m \u001b[38;5;28mself\u001b[39m._forward_hooks \u001b[38;5;129;01mor\u001b[39;00m \u001b[38;5;28mself\u001b[39m._forward_pre_hooks\n\u001b[32m   1748\u001b[39m         \u001b[38;5;129;01mor\u001b[39;00m _global_backward_pre_hooks \u001b[38;5;129;01mor\u001b[39;00m _global_backward_hooks\n\u001b[32m   1749\u001b[39m         \u001b[38;5;129;01mor\u001b[39;00m _global_forward_hooks \u001b[38;5;129;01mor\u001b[39;00m _global_forward_pre_hooks):\n\u001b[32m-> \u001b[39m\u001b[32m1750\u001b[39m     \u001b[38;5;28;01mreturn\u001b[39;00m \u001b[43mforward_call\u001b[49m\u001b[43m(\u001b[49m\u001b[43m*\u001b[49m\u001b[43margs\u001b[49m\u001b[43m,\u001b[49m\u001b[43m \u001b[49m\u001b[43m*\u001b[49m\u001b[43m*\u001b[49m\u001b[43mkwargs\u001b[49m\u001b[43m)\u001b[49m\n\u001b[32m   1752\u001b[39m result = \u001b[38;5;28;01mNone\u001b[39;00m\n\u001b[32m   1753\u001b[39m called_always_called_hooks = \u001b[38;5;28mset\u001b[39m()\n",
      "\u001b[36mFile \u001b[39m\u001b[32m~/Projects/EE58A-2025/.venv/lib/python3.11/site-packages/ultralytics/nn/tasks.py:119\u001b[39m, in \u001b[36mBaseModel.forward\u001b[39m\u001b[34m(self, x, *args, **kwargs)\u001b[39m\n\u001b[32m    105\u001b[39m \u001b[38;5;250m\u001b[39m\u001b[33;03m\"\"\"\u001b[39;00m\n\u001b[32m    106\u001b[39m \u001b[33;03mPerform forward pass of the model for either training or inference.\u001b[39;00m\n\u001b[32m    107\u001b[39m \n\u001b[32m   (...)\u001b[39m\u001b[32m    116\u001b[39m \u001b[33;03m    (torch.Tensor): Loss if x is a dict (training), or network predictions (inference).\u001b[39;00m\n\u001b[32m    117\u001b[39m \u001b[33;03m\"\"\"\u001b[39;00m\n\u001b[32m    118\u001b[39m \u001b[38;5;28;01mif\u001b[39;00m \u001b[38;5;28misinstance\u001b[39m(x, \u001b[38;5;28mdict\u001b[39m):  \u001b[38;5;66;03m# for cases of training and validating while training.\u001b[39;00m\n\u001b[32m--> \u001b[39m\u001b[32m119\u001b[39m     \u001b[38;5;28;01mreturn\u001b[39;00m \u001b[38;5;28;43mself\u001b[39;49m\u001b[43m.\u001b[49m\u001b[43mloss\u001b[49m\u001b[43m(\u001b[49m\u001b[43mx\u001b[49m\u001b[43m,\u001b[49m\u001b[43m \u001b[49m\u001b[43m*\u001b[49m\u001b[43margs\u001b[49m\u001b[43m,\u001b[49m\u001b[43m \u001b[49m\u001b[43m*\u001b[49m\u001b[43m*\u001b[49m\u001b[43mkwargs\u001b[49m\u001b[43m)\u001b[49m\n\u001b[32m    120\u001b[39m \u001b[38;5;28;01mreturn\u001b[39;00m \u001b[38;5;28mself\u001b[39m.predict(x, *args, **kwargs)\n",
      "\u001b[36mFile \u001b[39m\u001b[32m~/Projects/EE58A-2025/.venv/lib/python3.11/site-packages/ultralytics/nn/tasks.py:301\u001b[39m, in \u001b[36mBaseModel.loss\u001b[39m\u001b[34m(self, batch, preds)\u001b[39m\n\u001b[32m    298\u001b[39m     \u001b[38;5;28mself\u001b[39m.criterion = \u001b[38;5;28mself\u001b[39m.init_criterion()\n\u001b[32m    300\u001b[39m preds = \u001b[38;5;28mself\u001b[39m.forward(batch[\u001b[33m\"\u001b[39m\u001b[33mimg\u001b[39m\u001b[33m\"\u001b[39m]) \u001b[38;5;28;01mif\u001b[39;00m preds \u001b[38;5;129;01mis\u001b[39;00m \u001b[38;5;28;01mNone\u001b[39;00m \u001b[38;5;28;01melse\u001b[39;00m preds\n\u001b[32m--> \u001b[39m\u001b[32m301\u001b[39m \u001b[38;5;28;01mreturn\u001b[39;00m \u001b[38;5;28;43mself\u001b[39;49m\u001b[43m.\u001b[49m\u001b[43mcriterion\u001b[49m\u001b[43m(\u001b[49m\u001b[43mpreds\u001b[49m\u001b[43m,\u001b[49m\u001b[43m \u001b[49m\u001b[43mbatch\u001b[49m\u001b[43m)\u001b[49m\n",
      "\u001b[36mFile \u001b[39m\u001b[32m~/Projects/EE58A-2025/.venv/lib/python3.11/site-packages/ultralytics/utils/loss.py:241\u001b[39m, in \u001b[36mv8DetectionLoss.__call__\u001b[39m\u001b[34m(self, preds, batch)\u001b[39m\n\u001b[32m    237\u001b[39m pred_bboxes = \u001b[38;5;28mself\u001b[39m.bbox_decode(anchor_points, pred_distri)  \u001b[38;5;66;03m# xyxy, (b, h*w, 4)\u001b[39;00m\n\u001b[32m    238\u001b[39m \u001b[38;5;66;03m# dfl_conf = pred_distri.view(batch_size, -1, 4, self.reg_max).detach().softmax(-1)\u001b[39;00m\n\u001b[32m    239\u001b[39m \u001b[38;5;66;03m# dfl_conf = (dfl_conf.amax(-1).mean(-1) + dfl_conf.amax(-1).amin(-1)) / 2\u001b[39;00m\n\u001b[32m--> \u001b[39m\u001b[32m241\u001b[39m _, target_bboxes, target_scores, fg_mask, _ = \u001b[38;5;28;43mself\u001b[39;49m\u001b[43m.\u001b[49m\u001b[43massigner\u001b[49m\u001b[43m(\u001b[49m\n\u001b[32m    242\u001b[39m \u001b[43m    \u001b[49m\u001b[38;5;66;43;03m# pred_scores.detach().sigmoid() * 0.8 + dfl_conf.unsqueeze(-1) * 0.2,\u001b[39;49;00m\n\u001b[32m    243\u001b[39m \u001b[43m    \u001b[49m\u001b[43mpred_scores\u001b[49m\u001b[43m.\u001b[49m\u001b[43mdetach\u001b[49m\u001b[43m(\u001b[49m\u001b[43m)\u001b[49m\u001b[43m.\u001b[49m\u001b[43msigmoid\u001b[49m\u001b[43m(\u001b[49m\u001b[43m)\u001b[49m\u001b[43m,\u001b[49m\n\u001b[32m    244\u001b[39m \u001b[43m    \u001b[49m\u001b[43m(\u001b[49m\u001b[43mpred_bboxes\u001b[49m\u001b[43m.\u001b[49m\u001b[43mdetach\u001b[49m\u001b[43m(\u001b[49m\u001b[43m)\u001b[49m\u001b[43m \u001b[49m\u001b[43m*\u001b[49m\u001b[43m \u001b[49m\u001b[43mstride_tensor\u001b[49m\u001b[43m)\u001b[49m\u001b[43m.\u001b[49m\u001b[43mtype\u001b[49m\u001b[43m(\u001b[49m\u001b[43mgt_bboxes\u001b[49m\u001b[43m.\u001b[49m\u001b[43mdtype\u001b[49m\u001b[43m)\u001b[49m\u001b[43m,\u001b[49m\n\u001b[32m    245\u001b[39m \u001b[43m    \u001b[49m\u001b[43manchor_points\u001b[49m\u001b[43m \u001b[49m\u001b[43m*\u001b[49m\u001b[43m \u001b[49m\u001b[43mstride_tensor\u001b[49m\u001b[43m,\u001b[49m\n\u001b[32m    246\u001b[39m \u001b[43m    \u001b[49m\u001b[43mgt_labels\u001b[49m\u001b[43m,\u001b[49m\n\u001b[32m    247\u001b[39m \u001b[43m    \u001b[49m\u001b[43mgt_bboxes\u001b[49m\u001b[43m,\u001b[49m\n\u001b[32m    248\u001b[39m \u001b[43m    \u001b[49m\u001b[43mmask_gt\u001b[49m\u001b[43m,\u001b[49m\n\u001b[32m    249\u001b[39m \u001b[43m\u001b[49m\u001b[43m)\u001b[49m\n\u001b[32m    251\u001b[39m target_scores_sum = \u001b[38;5;28mmax\u001b[39m(target_scores.sum(), \u001b[32m1\u001b[39m)\n\u001b[32m    253\u001b[39m \u001b[38;5;66;03m# Cls loss\u001b[39;00m\n\u001b[32m    254\u001b[39m \u001b[38;5;66;03m# loss[1] = self.varifocal_loss(pred_scores, target_scores, target_labels) / target_scores_sum  # VFL way\u001b[39;00m\n",
      "\u001b[36mFile \u001b[39m\u001b[32m~/Projects/EE58A-2025/.venv/lib/python3.11/site-packages/torch/nn/modules/module.py:1739\u001b[39m, in \u001b[36mModule._wrapped_call_impl\u001b[39m\u001b[34m(self, *args, **kwargs)\u001b[39m\n\u001b[32m   1737\u001b[39m     \u001b[38;5;28;01mreturn\u001b[39;00m \u001b[38;5;28mself\u001b[39m._compiled_call_impl(*args, **kwargs)  \u001b[38;5;66;03m# type: ignore[misc]\u001b[39;00m\n\u001b[32m   1738\u001b[39m \u001b[38;5;28;01melse\u001b[39;00m:\n\u001b[32m-> \u001b[39m\u001b[32m1739\u001b[39m     \u001b[38;5;28;01mreturn\u001b[39;00m \u001b[38;5;28;43mself\u001b[39;49m\u001b[43m.\u001b[49m\u001b[43m_call_impl\u001b[49m\u001b[43m(\u001b[49m\u001b[43m*\u001b[49m\u001b[43margs\u001b[49m\u001b[43m,\u001b[49m\u001b[43m \u001b[49m\u001b[43m*\u001b[49m\u001b[43m*\u001b[49m\u001b[43mkwargs\u001b[49m\u001b[43m)\u001b[49m\n",
      "\u001b[36mFile \u001b[39m\u001b[32m~/Projects/EE58A-2025/.venv/lib/python3.11/site-packages/torch/nn/modules/module.py:1750\u001b[39m, in \u001b[36mModule._call_impl\u001b[39m\u001b[34m(self, *args, **kwargs)\u001b[39m\n\u001b[32m   1745\u001b[39m \u001b[38;5;66;03m# If we don't have any hooks, we want to skip the rest of the logic in\u001b[39;00m\n\u001b[32m   1746\u001b[39m \u001b[38;5;66;03m# this function, and just call forward.\u001b[39;00m\n\u001b[32m   1747\u001b[39m \u001b[38;5;28;01mif\u001b[39;00m \u001b[38;5;129;01mnot\u001b[39;00m (\u001b[38;5;28mself\u001b[39m._backward_hooks \u001b[38;5;129;01mor\u001b[39;00m \u001b[38;5;28mself\u001b[39m._backward_pre_hooks \u001b[38;5;129;01mor\u001b[39;00m \u001b[38;5;28mself\u001b[39m._forward_hooks \u001b[38;5;129;01mor\u001b[39;00m \u001b[38;5;28mself\u001b[39m._forward_pre_hooks\n\u001b[32m   1748\u001b[39m         \u001b[38;5;129;01mor\u001b[39;00m _global_backward_pre_hooks \u001b[38;5;129;01mor\u001b[39;00m _global_backward_hooks\n\u001b[32m   1749\u001b[39m         \u001b[38;5;129;01mor\u001b[39;00m _global_forward_hooks \u001b[38;5;129;01mor\u001b[39;00m _global_forward_pre_hooks):\n\u001b[32m-> \u001b[39m\u001b[32m1750\u001b[39m     \u001b[38;5;28;01mreturn\u001b[39;00m \u001b[43mforward_call\u001b[49m\u001b[43m(\u001b[49m\u001b[43m*\u001b[49m\u001b[43margs\u001b[49m\u001b[43m,\u001b[49m\u001b[43m \u001b[49m\u001b[43m*\u001b[49m\u001b[43m*\u001b[49m\u001b[43mkwargs\u001b[49m\u001b[43m)\u001b[49m\n\u001b[32m   1752\u001b[39m result = \u001b[38;5;28;01mNone\u001b[39;00m\n\u001b[32m   1753\u001b[39m called_always_called_hooks = \u001b[38;5;28mset\u001b[39m()\n",
      "\u001b[36mFile \u001b[39m\u001b[32m~/Projects/EE58A-2025/.venv/lib/python3.11/site-packages/torch/utils/_contextlib.py:116\u001b[39m, in \u001b[36mcontext_decorator.<locals>.decorate_context\u001b[39m\u001b[34m(*args, **kwargs)\u001b[39m\n\u001b[32m    113\u001b[39m \u001b[38;5;129m@functools\u001b[39m.wraps(func)\n\u001b[32m    114\u001b[39m \u001b[38;5;28;01mdef\u001b[39;00m\u001b[38;5;250m \u001b[39m\u001b[34mdecorate_context\u001b[39m(*args, **kwargs):\n\u001b[32m    115\u001b[39m     \u001b[38;5;28;01mwith\u001b[39;00m ctx_factory():\n\u001b[32m--> \u001b[39m\u001b[32m116\u001b[39m         \u001b[38;5;28;01mreturn\u001b[39;00m \u001b[43mfunc\u001b[49m\u001b[43m(\u001b[49m\u001b[43m*\u001b[49m\u001b[43margs\u001b[49m\u001b[43m,\u001b[49m\u001b[43m \u001b[49m\u001b[43m*\u001b[49m\u001b[43m*\u001b[49m\u001b[43mkwargs\u001b[49m\u001b[43m)\u001b[49m\n",
      "\u001b[36mFile \u001b[39m\u001b[32m~/Projects/EE58A-2025/.venv/lib/python3.11/site-packages/ultralytics/utils/tal.py:77\u001b[39m, in \u001b[36mTaskAlignedAssigner.forward\u001b[39m\u001b[34m(self, pd_scores, pd_bboxes, anc_points, gt_labels, gt_bboxes, mask_gt)\u001b[39m\n\u001b[32m     68\u001b[39m     \u001b[38;5;28;01mreturn\u001b[39;00m (\n\u001b[32m     69\u001b[39m         torch.full_like(pd_scores[..., \u001b[32m0\u001b[39m], \u001b[38;5;28mself\u001b[39m.bg_idx),\n\u001b[32m     70\u001b[39m         torch.zeros_like(pd_bboxes),\n\u001b[32m   (...)\u001b[39m\u001b[32m     73\u001b[39m         torch.zeros_like(pd_scores[..., \u001b[32m0\u001b[39m]),\n\u001b[32m     74\u001b[39m     )\n\u001b[32m     76\u001b[39m \u001b[38;5;28;01mtry\u001b[39;00m:\n\u001b[32m---> \u001b[39m\u001b[32m77\u001b[39m     \u001b[38;5;28;01mreturn\u001b[39;00m \u001b[38;5;28;43mself\u001b[39;49m\u001b[43m.\u001b[49m\u001b[43m_forward\u001b[49m\u001b[43m(\u001b[49m\u001b[43mpd_scores\u001b[49m\u001b[43m,\u001b[49m\u001b[43m \u001b[49m\u001b[43mpd_bboxes\u001b[49m\u001b[43m,\u001b[49m\u001b[43m \u001b[49m\u001b[43manc_points\u001b[49m\u001b[43m,\u001b[49m\u001b[43m \u001b[49m\u001b[43mgt_labels\u001b[49m\u001b[43m,\u001b[49m\u001b[43m \u001b[49m\u001b[43mgt_bboxes\u001b[49m\u001b[43m,\u001b[49m\u001b[43m \u001b[49m\u001b[43mmask_gt\u001b[49m\u001b[43m)\u001b[49m\n\u001b[32m     78\u001b[39m \u001b[38;5;28;01mexcept\u001b[39;00m torch.cuda.OutOfMemoryError:\n\u001b[32m     79\u001b[39m     \u001b[38;5;66;03m# Move tensors to CPU, compute, then move back to original device\u001b[39;00m\n\u001b[32m     80\u001b[39m     LOGGER.warning(\u001b[33m\"\u001b[39m\u001b[33mCUDA OutOfMemoryError in TaskAlignedAssigner, using CPU\u001b[39m\u001b[33m\"\u001b[39m)\n",
      "\u001b[36mFile \u001b[39m\u001b[32m~/Projects/EE58A-2025/.venv/lib/python3.11/site-packages/ultralytics/utils/tal.py:104\u001b[39m, in \u001b[36mTaskAlignedAssigner._forward\u001b[39m\u001b[34m(self, pd_scores, pd_bboxes, anc_points, gt_labels, gt_bboxes, mask_gt)\u001b[39m\n\u001b[32m     85\u001b[39m \u001b[38;5;28;01mdef\u001b[39;00m\u001b[38;5;250m \u001b[39m\u001b[34m_forward\u001b[39m(\u001b[38;5;28mself\u001b[39m, pd_scores, pd_bboxes, anc_points, gt_labels, gt_bboxes, mask_gt):\n\u001b[32m     86\u001b[39m \u001b[38;5;250m    \u001b[39m\u001b[33;03m\"\"\"\u001b[39;00m\n\u001b[32m     87\u001b[39m \u001b[33;03m    Compute the task-aligned assignment.\u001b[39;00m\n\u001b[32m     88\u001b[39m \n\u001b[32m   (...)\u001b[39m\u001b[32m    102\u001b[39m \u001b[33;03m        target_gt_idx (torch.Tensor): Target ground truth indices with shape (bs, num_total_anchors).\u001b[39;00m\n\u001b[32m    103\u001b[39m \u001b[33;03m    \"\"\"\u001b[39;00m\n\u001b[32m--> \u001b[39m\u001b[32m104\u001b[39m     mask_pos, align_metric, overlaps = \u001b[38;5;28;43mself\u001b[39;49m\u001b[43m.\u001b[49m\u001b[43mget_pos_mask\u001b[49m\u001b[43m(\u001b[49m\n\u001b[32m    105\u001b[39m \u001b[43m        \u001b[49m\u001b[43mpd_scores\u001b[49m\u001b[43m,\u001b[49m\u001b[43m \u001b[49m\u001b[43mpd_bboxes\u001b[49m\u001b[43m,\u001b[49m\u001b[43m \u001b[49m\u001b[43mgt_labels\u001b[49m\u001b[43m,\u001b[49m\u001b[43m \u001b[49m\u001b[43mgt_bboxes\u001b[49m\u001b[43m,\u001b[49m\u001b[43m \u001b[49m\u001b[43manc_points\u001b[49m\u001b[43m,\u001b[49m\u001b[43m \u001b[49m\u001b[43mmask_gt\u001b[49m\n\u001b[32m    106\u001b[39m \u001b[43m    \u001b[49m\u001b[43m)\u001b[49m\n\u001b[32m    108\u001b[39m     target_gt_idx, fg_mask, mask_pos = \u001b[38;5;28mself\u001b[39m.select_highest_overlaps(mask_pos, overlaps, \u001b[38;5;28mself\u001b[39m.n_max_boxes)\n\u001b[32m    110\u001b[39m     \u001b[38;5;66;03m# Assigned target\u001b[39;00m\n",
      "\u001b[36mFile \u001b[39m\u001b[32m~/Projects/EE58A-2025/.venv/lib/python3.11/site-packages/ultralytics/utils/tal.py:143\u001b[39m, in \u001b[36mTaskAlignedAssigner.get_pos_mask\u001b[39m\u001b[34m(self, pd_scores, pd_bboxes, gt_labels, gt_bboxes, anc_points, mask_gt)\u001b[39m\n\u001b[32m    141\u001b[39m align_metric, overlaps = \u001b[38;5;28mself\u001b[39m.get_box_metrics(pd_scores, pd_bboxes, gt_labels, gt_bboxes, mask_in_gts * mask_gt)\n\u001b[32m    142\u001b[39m \u001b[38;5;66;03m# Get topk_metric mask, (b, max_num_obj, h*w)\u001b[39;00m\n\u001b[32m--> \u001b[39m\u001b[32m143\u001b[39m mask_topk = \u001b[38;5;28;43mself\u001b[39;49m\u001b[43m.\u001b[49m\u001b[43mselect_topk_candidates\u001b[49m\u001b[43m(\u001b[49m\u001b[43malign_metric\u001b[49m\u001b[43m,\u001b[49m\u001b[43m \u001b[49m\u001b[43mtopk_mask\u001b[49m\u001b[43m=\u001b[49m\u001b[43mmask_gt\u001b[49m\u001b[43m.\u001b[49m\u001b[43mexpand\u001b[49m\u001b[43m(\u001b[49m\u001b[43m-\u001b[49m\u001b[32;43m1\u001b[39;49m\u001b[43m,\u001b[49m\u001b[43m \u001b[49m\u001b[43m-\u001b[49m\u001b[32;43m1\u001b[39;49m\u001b[43m,\u001b[49m\u001b[43m \u001b[49m\u001b[38;5;28;43mself\u001b[39;49m\u001b[43m.\u001b[49m\u001b[43mtopk\u001b[49m\u001b[43m)\u001b[49m\u001b[43m.\u001b[49m\u001b[43mbool\u001b[49m\u001b[43m(\u001b[49m\u001b[43m)\u001b[49m\u001b[43m)\u001b[49m\n\u001b[32m    144\u001b[39m \u001b[38;5;66;03m# Merge all mask to a final mask, (b, max_num_obj, h*w)\u001b[39;00m\n\u001b[32m    145\u001b[39m mask_pos = mask_topk * mask_in_gts * mask_gt\n",
      "\u001b[36mFile \u001b[39m\u001b[32m~/Projects/EE58A-2025/.venv/lib/python3.11/site-packages/ultralytics/utils/tal.py:224\u001b[39m, in \u001b[36mTaskAlignedAssigner.select_topk_candidates\u001b[39m\u001b[34m(self, metrics, largest, topk_mask)\u001b[39m\n\u001b[32m    221\u001b[39m ones = torch.ones_like(topk_idxs[:, :, :\u001b[32m1\u001b[39m], dtype=torch.int8, device=topk_idxs.device)\n\u001b[32m    222\u001b[39m \u001b[38;5;28;01mfor\u001b[39;00m k \u001b[38;5;129;01min\u001b[39;00m \u001b[38;5;28mrange\u001b[39m(\u001b[38;5;28mself\u001b[39m.topk):\n\u001b[32m    223\u001b[39m     \u001b[38;5;66;03m# Expand topk_idxs for each value of k and add 1 at the specified positions\u001b[39;00m\n\u001b[32m--> \u001b[39m\u001b[32m224\u001b[39m     \u001b[43mcount_tensor\u001b[49m\u001b[43m.\u001b[49m\u001b[43mscatter_add_\u001b[49m\u001b[43m(\u001b[49m\u001b[43m-\u001b[49m\u001b[32;43m1\u001b[39;49m\u001b[43m,\u001b[49m\u001b[43m \u001b[49m\u001b[43mtopk_idxs\u001b[49m\u001b[43m[\u001b[49m\u001b[43m:\u001b[49m\u001b[43m,\u001b[49m\u001b[43m \u001b[49m\u001b[43m:\u001b[49m\u001b[43m,\u001b[49m\u001b[43m \u001b[49m\u001b[43mk\u001b[49m\u001b[43m \u001b[49m\u001b[43m:\u001b[49m\u001b[43m \u001b[49m\u001b[43mk\u001b[49m\u001b[43m \u001b[49m\u001b[43m+\u001b[49m\u001b[43m \u001b[49m\u001b[32;43m1\u001b[39;49m\u001b[43m]\u001b[49m\u001b[43m,\u001b[49m\u001b[43m \u001b[49m\u001b[43mones\u001b[49m\u001b[43m)\u001b[49m\n\u001b[32m    225\u001b[39m \u001b[38;5;66;03m# Filter invalid bboxes\u001b[39;00m\n\u001b[32m    226\u001b[39m count_tensor.masked_fill_(count_tensor > \u001b[32m1\u001b[39m, \u001b[32m0\u001b[39m)\n",
      "\u001b[31mKeyboardInterrupt\u001b[39m: "
     ]
    }
   ],
   "source": [
    "# Cell 7: Expanded Parameter Sweep with Dry‐Run Check\n",
    "\n",
    "import os, torch, shutil\n",
    "from ultralytics import YOLO\n",
    "\n",
    "# 🔧 MPS tweaks: disable high-watermark and clear cache\n",
    "os.environ['PYTORCH_MPS_HIGH_WATERMARK_RATIO'] = '0.0'\n",
    "if torch.backends.mps.is_available():\n",
    "    torch.mps.empty_cache()\n",
    "\n",
    "# Dry‐run settings\n",
    "DRY_RUN     = False    # first pass: True → 1 epoch\n",
    "DRY_EPOCHS  = 1\n",
    "FULL_EPOCHS = EPOCHS2\n",
    "\n",
    "# Base checkpoint\n",
    "base_ckpt = get_checkpoint(STAGE2_NAME)\n",
    "\n",
    "# Extended hyperparameter experiments\n",
    "param_exps = [\n",
    "    # Learning rates\n",
    "    (\"lr_1e-3\",      {\"lr0\": 1e-3}),\n",
    "    (\"lr_5e-4\",      {\"lr0\": 5e-4}),\n",
    "    (\"lr_1e-4\",      {\"lr0\": 1e-4}),\n",
    "    # Weight decay\n",
    "    (\"wd_1e-2\",      {\"weight_decay\": 1e-2}),\n",
    "    (\"wd_1e-3\",      {\"weight_decay\": 1e-3}),\n",
    "    (\"wd_1e-4\",      {\"weight_decay\": 1e-4}),\n",
    "    # Augmentations\n",
    "    (\"mosaic_off\",   {\"mosaic\": 0.0}),\n",
    "    (\"mixup_on\",     {\"mixup\": 0.5}),         # 50% mixup\n",
    "    (\"label_smooth\", {\"label_smoothing\": 0.1}),\n",
    "    # LR schedules\n",
    "    (\"cosine_lr\",    {\"cos_lr\": True}),\n",
    "    \n",
    "]\n",
    "\n",
    "for tag, override in param_exps:\n",
    "    # 🔧 clear cache for each iteration\n",
    "    if torch.backends.mps.is_available():\n",
    "        torch.mps.empty_cache()\n",
    "\n",
    "    run_name = f\"exp_{tag}\"\n",
    "    epochs   = DRY_EPOCHS if DRY_RUN else FULL_EPOCHS\n",
    "    print(f\"\\n▶️ {'Dry-run' if DRY_RUN else 'Full'} training '{run_name}' for {epochs} epoch(s) with {override}\")\n",
    "\n",
    "    # 1) Train\n",
    "    result = YOLO(base_ckpt).train(\n",
    "        data=DATA_YAML,\n",
    "        epochs=epochs,\n",
    "        imgsz=IMG_SIZE,\n",
    "        batch=BATCH_SIZE,\n",
    "        freeze=0,\n",
    "        device=DEVICE,\n",
    "        name=run_name,\n",
    "        save=True,\n",
    "        exist_ok=True,\n",
    "        verbose=False,\n",
    "        max_det=100,\n",
    "        **override\n",
    "    )\n",
    "\n",
    "    # 2) Copy out best checkpoint\n",
    "    ckpt = get_checkpoint(run_name)\n",
    "    dst_ckpt = trained_dir / f\"{run_name}_best.pt\"\n",
    "    shutil.copy2(ckpt, dst_ckpt)\n",
    "    print(f\"✅ Saved checkpoint → {dst_ckpt}\")\n",
    "\n",
    "    # 3) Copy out results.csv so you have metrics for each run\n",
    "    src_csv = proj_root / \"runs\" / \"detect\" / run_name / \"results.csv\"\n",
    "    dst_csv = trained_dir / f\"{run_name}_metrics.csv\"\n",
    "    try:\n",
    "        shutil.copy2(src_csv, dst_csv)\n",
    "        print(f\"✅ Saved metrics → {dst_csv}\")\n",
    "    except FileNotFoundError:\n",
    "        print(f\"⚠️ No results.csv found for {run_name}, skipping metrics copy\")\n",
    "\n",
    "print(\"\\n✅ All parameter‐sweep dry-runs complete. When ready, set DRY_RUN=False to run full experiments.\")  \n"
   ]
  },
  {
   "cell_type": "code",
   "execution_count": 25,
   "id": "ad622989",
   "metadata": {},
   "outputs": [
    {
     "name": "stdout",
     "output_type": "stream",
     "text": [
      "=== Training Summary (final epoch) ===\n"
     ]
    },
    {
     "data": {
      "text/html": [
       "<div>\n",
       "<style scoped>\n",
       "    .dataframe tbody tr th:only-of-type {\n",
       "        vertical-align: middle;\n",
       "    }\n",
       "\n",
       "    .dataframe tbody tr th {\n",
       "        vertical-align: top;\n",
       "    }\n",
       "\n",
       "    .dataframe thead th {\n",
       "        text-align: right;\n",
       "    }\n",
       "</style>\n",
       "<table border=\"1\" class=\"dataframe\">\n",
       "  <thead>\n",
       "    <tr style=\"text-align: right;\">\n",
       "      <th></th>\n",
       "      <th>train_mAP50</th>\n",
       "      <th>train_mAP50-95</th>\n",
       "    </tr>\n",
       "    <tr>\n",
       "      <th>exp</th>\n",
       "      <th></th>\n",
       "      <th></th>\n",
       "    </tr>\n",
       "  </thead>\n",
       "  <tbody>\n",
       "    <tr>\n",
       "      <th>baseline</th>\n",
       "      <td>0.98970</td>\n",
       "      <td>0.76814</td>\n",
       "    </tr>\n",
       "    <tr>\n",
       "      <th>lr_1e-3</th>\n",
       "      <td>0.99212</td>\n",
       "      <td>0.80171</td>\n",
       "    </tr>\n",
       "    <tr>\n",
       "      <th>lr_5e-4</th>\n",
       "      <td>0.99212</td>\n",
       "      <td>0.80171</td>\n",
       "    </tr>\n",
       "    <tr>\n",
       "      <th>lr_1e-4</th>\n",
       "      <td>0.99212</td>\n",
       "      <td>0.80171</td>\n",
       "    </tr>\n",
       "    <tr>\n",
       "      <th>wd_1e-2</th>\n",
       "      <td>0.99273</td>\n",
       "      <td>0.80018</td>\n",
       "    </tr>\n",
       "    <tr>\n",
       "      <th>wd_1e-3</th>\n",
       "      <td>0.99290</td>\n",
       "      <td>0.80184</td>\n",
       "    </tr>\n",
       "    <tr>\n",
       "      <th>wd_1e-4</th>\n",
       "      <td>0.99301</td>\n",
       "      <td>0.80212</td>\n",
       "    </tr>\n",
       "    <tr>\n",
       "      <th>mosaic_off</th>\n",
       "      <td>0.99446</td>\n",
       "      <td>0.81774</td>\n",
       "    </tr>\n",
       "    <tr>\n",
       "      <th>mixup_on</th>\n",
       "      <td>0.98626</td>\n",
       "      <td>0.77759</td>\n",
       "    </tr>\n",
       "    <tr>\n",
       "      <th>label_smooth</th>\n",
       "      <td>0.99212</td>\n",
       "      <td>0.80171</td>\n",
       "    </tr>\n",
       "    <tr>\n",
       "      <th>cosine_lr</th>\n",
       "      <td>0.99101</td>\n",
       "      <td>0.79155</td>\n",
       "    </tr>\n",
       "  </tbody>\n",
       "</table>\n",
       "</div>"
      ],
      "text/plain": [
       "              train_mAP50  train_mAP50-95\n",
       "exp                                      \n",
       "baseline          0.98970         0.76814\n",
       "lr_1e-3           0.99212         0.80171\n",
       "lr_5e-4           0.99212         0.80171\n",
       "lr_1e-4           0.99212         0.80171\n",
       "wd_1e-2           0.99273         0.80018\n",
       "wd_1e-3           0.99290         0.80184\n",
       "wd_1e-4           0.99301         0.80212\n",
       "mosaic_off        0.99446         0.81774\n",
       "mixup_on          0.98626         0.77759\n",
       "label_smooth      0.99212         0.80171\n",
       "cosine_lr         0.99101         0.79155"
      ]
     },
     "metadata": {},
     "output_type": "display_data"
    },
    {
     "name": "stdout",
     "output_type": "stream",
     "text": [
      "▶️ Evaluating baseline 'exp_stage2' on TEST split…\n",
      "Ultralytics 8.3.122 🚀 Python-3.11.4 torch-2.6.0 MPS (Apple M4)\n",
      "Model summary (fused): 72 layers, 3,006,233 parameters, 0 gradients, 8.1 GFLOPs\n",
      "\u001b[34m\u001b[1mval: \u001b[0mFast image access ✅ (ping: 0.0±0.0 ms, read: 56.9±10.0 MB/s, size: 9.5 KB)\n"
     ]
    },
    {
     "name": "stderr",
     "output_type": "stream",
     "text": [
      "\u001b[34m\u001b[1mval: \u001b[0mScanning /Users/fatihbasturk/Projects/EE58A-2025/subblock_detect/subblock_dataset/test/labels.cache... 315 images, 0 backgrounds, 0 corrupt: 100%|██████████| 315/315 [00:00<?, ?it/s]\n",
      "                 Class     Images  Instances      Box(P          R      mAP50  mAP50-95): 100%|██████████| 20/20 [00:08<00:00,  2.48it/s]\n"
     ]
    },
    {
     "name": "stdout",
     "output_type": "stream",
     "text": [
      "                   all        315        491      0.969      0.976       0.99      0.767\n",
      "Speed: 0.5ms preprocess, 5.1ms inference, 0.0ms loss, 8.2ms postprocess per image\n",
      "Results saved to \u001b[1m/Users/fatihbasturk/Projects/EE58A-2025/runs/detect/val16\u001b[0m\n",
      "▶️ Evaluating 'exp_lr_1e-3' on TEST split…\n",
      "Ultralytics 8.3.122 🚀 Python-3.11.4 torch-2.6.0 MPS (Apple M4)\n",
      "Model summary (fused): 72 layers, 3,006,233 parameters, 0 gradients, 8.1 GFLOPs\n",
      "\u001b[34m\u001b[1mval: \u001b[0mFast image access ✅ (ping: 0.0±0.0 ms, read: 218.7±64.3 MB/s, size: 9.9 KB)\n"
     ]
    },
    {
     "name": "stderr",
     "output_type": "stream",
     "text": [
      "\u001b[34m\u001b[1mval: \u001b[0mScanning /Users/fatihbasturk/Projects/EE58A-2025/subblock_detect/subblock_dataset/test/labels.cache... 315 images, 0 backgrounds, 0 corrupt: 100%|██████████| 315/315 [00:00<?, ?it/s]\n",
      "                 Class     Images  Instances      Box(P          R      mAP50  mAP50-95): 100%|██████████| 20/20 [00:07<00:00,  2.70it/s]\n"
     ]
    },
    {
     "name": "stdout",
     "output_type": "stream",
     "text": [
      "                   all        315        491      0.968      0.995      0.992      0.798\n",
      "Speed: 0.5ms preprocess, 4.9ms inference, 0.0ms loss, 7.5ms postprocess per image\n",
      "Results saved to \u001b[1m/Users/fatihbasturk/Projects/EE58A-2025/runs/detect/val17\u001b[0m\n",
      "▶️ Evaluating 'exp_lr_5e-4' on TEST split…\n",
      "Ultralytics 8.3.122 🚀 Python-3.11.4 torch-2.6.0 MPS (Apple M4)\n",
      "Model summary (fused): 72 layers, 3,006,233 parameters, 0 gradients, 8.1 GFLOPs\n",
      "\u001b[34m\u001b[1mval: \u001b[0mFast image access ✅ (ping: 0.0±0.0 ms, read: 225.4±102.6 MB/s, size: 9.5 KB)\n"
     ]
    },
    {
     "name": "stderr",
     "output_type": "stream",
     "text": [
      "\u001b[34m\u001b[1mval: \u001b[0mScanning /Users/fatihbasturk/Projects/EE58A-2025/subblock_detect/subblock_dataset/test/labels.cache... 315 images, 0 backgrounds, 0 corrupt: 100%|██████████| 315/315 [00:00<?, ?it/s]\n",
      "                 Class     Images  Instances      Box(P          R      mAP50  mAP50-95): 100%|██████████| 20/20 [00:07<00:00,  2.84it/s]\n"
     ]
    },
    {
     "name": "stdout",
     "output_type": "stream",
     "text": [
      "                   all        315        491      0.968      0.995      0.992      0.798\n",
      "Speed: 0.4ms preprocess, 4.8ms inference, 0.0ms loss, 6.8ms postprocess per image\n",
      "Results saved to \u001b[1m/Users/fatihbasturk/Projects/EE58A-2025/runs/detect/val18\u001b[0m\n",
      "▶️ Evaluating 'exp_lr_1e-4' on TEST split…\n",
      "Ultralytics 8.3.122 🚀 Python-3.11.4 torch-2.6.0 MPS (Apple M4)\n",
      "Model summary (fused): 72 layers, 3,006,233 parameters, 0 gradients, 8.1 GFLOPs\n",
      "\u001b[34m\u001b[1mval: \u001b[0mFast image access ✅ (ping: 0.0±0.0 ms, read: 637.6±197.2 MB/s, size: 11.9 KB)\n"
     ]
    },
    {
     "name": "stderr",
     "output_type": "stream",
     "text": [
      "\u001b[34m\u001b[1mval: \u001b[0mScanning /Users/fatihbasturk/Projects/EE58A-2025/subblock_detect/subblock_dataset/test/labels.cache... 315 images, 0 backgrounds, 0 corrupt: 100%|██████████| 315/315 [00:00<?, ?it/s]\n",
      "                 Class     Images  Instances      Box(P          R      mAP50  mAP50-95): 100%|██████████| 20/20 [00:07<00:00,  2.77it/s]\n"
     ]
    },
    {
     "name": "stdout",
     "output_type": "stream",
     "text": [
      "                   all        315        491      0.968      0.995      0.992      0.798\n",
      "Speed: 0.5ms preprocess, 4.9ms inference, 0.0ms loss, 7.0ms postprocess per image\n",
      "Results saved to \u001b[1m/Users/fatihbasturk/Projects/EE58A-2025/runs/detect/val19\u001b[0m\n",
      "▶️ Evaluating 'exp_wd_1e-2' on TEST split…\n",
      "Ultralytics 8.3.122 🚀 Python-3.11.4 torch-2.6.0 MPS (Apple M4)\n",
      "Model summary (fused): 72 layers, 3,006,233 parameters, 0 gradients, 8.1 GFLOPs\n",
      "\u001b[34m\u001b[1mval: \u001b[0mFast image access ✅ (ping: 0.0±0.0 ms, read: 594.4±201.2 MB/s, size: 11.1 KB)\n"
     ]
    },
    {
     "name": "stderr",
     "output_type": "stream",
     "text": [
      "\u001b[34m\u001b[1mval: \u001b[0mScanning /Users/fatihbasturk/Projects/EE58A-2025/subblock_detect/subblock_dataset/test/labels.cache... 315 images, 0 backgrounds, 0 corrupt: 100%|██████████| 315/315 [00:00<?, ?it/s]\n",
      "                 Class     Images  Instances      Box(P          R      mAP50  mAP50-95): 100%|██████████| 20/20 [00:07<00:00,  2.67it/s]\n"
     ]
    },
    {
     "name": "stdout",
     "output_type": "stream",
     "text": [
      "                   all        315        491      0.975          1      0.992      0.795\n",
      "Speed: 0.4ms preprocess, 4.8ms inference, 0.0ms loss, 7.6ms postprocess per image\n",
      "Results saved to \u001b[1m/Users/fatihbasturk/Projects/EE58A-2025/runs/detect/val20\u001b[0m\n",
      "▶️ Evaluating 'exp_wd_1e-3' on TEST split…\n",
      "Ultralytics 8.3.122 🚀 Python-3.11.4 torch-2.6.0 MPS (Apple M4)\n",
      "Model summary (fused): 72 layers, 3,006,233 parameters, 0 gradients, 8.1 GFLOPs\n",
      "\u001b[34m\u001b[1mval: \u001b[0mFast image access ✅ (ping: 0.0±0.0 ms, read: 523.3±228.1 MB/s, size: 9.6 KB)\n"
     ]
    },
    {
     "name": "stderr",
     "output_type": "stream",
     "text": [
      "\u001b[34m\u001b[1mval: \u001b[0mScanning /Users/fatihbasturk/Projects/EE58A-2025/subblock_detect/subblock_dataset/test/labels.cache... 315 images, 0 backgrounds, 0 corrupt: 100%|██████████| 315/315 [00:00<?, ?it/s]\n",
      "                 Class     Images  Instances      Box(P          R      mAP50  mAP50-95): 100%|██████████| 20/20 [00:07<00:00,  2.65it/s]\n"
     ]
    },
    {
     "name": "stdout",
     "output_type": "stream",
     "text": [
      "                   all        315        491      0.975      0.995      0.992      0.796\n",
      "Speed: 0.5ms preprocess, 5.0ms inference, 0.0ms loss, 7.5ms postprocess per image\n",
      "Results saved to \u001b[1m/Users/fatihbasturk/Projects/EE58A-2025/runs/detect/val21\u001b[0m\n",
      "▶️ Evaluating 'exp_wd_1e-4' on TEST split…\n",
      "Ultralytics 8.3.122 🚀 Python-3.11.4 torch-2.6.0 MPS (Apple M4)\n",
      "Model summary (fused): 72 layers, 3,006,233 parameters, 0 gradients, 8.1 GFLOPs\n",
      "\u001b[34m\u001b[1mval: \u001b[0mFast image access ✅ (ping: 0.0±0.0 ms, read: 645.8±198.3 MB/s, size: 11.9 KB)\n"
     ]
    },
    {
     "name": "stderr",
     "output_type": "stream",
     "text": [
      "\u001b[34m\u001b[1mval: \u001b[0mScanning /Users/fatihbasturk/Projects/EE58A-2025/subblock_detect/subblock_dataset/test/labels.cache... 315 images, 0 backgrounds, 0 corrupt: 100%|██████████| 315/315 [00:00<?, ?it/s]\n",
      "                 Class     Images  Instances      Box(P          R      mAP50  mAP50-95): 100%|██████████| 20/20 [00:07<00:00,  2.71it/s]\n"
     ]
    },
    {
     "name": "stdout",
     "output_type": "stream",
     "text": [
      "                   all        315        491      0.972       0.99      0.992      0.798\n",
      "Speed: 0.6ms preprocess, 4.7ms inference, 0.0ms loss, 7.4ms postprocess per image\n",
      "Results saved to \u001b[1m/Users/fatihbasturk/Projects/EE58A-2025/runs/detect/val22\u001b[0m\n",
      "▶️ Evaluating 'exp_mosaic_off' on TEST split…\n",
      "Ultralytics 8.3.122 🚀 Python-3.11.4 torch-2.6.0 MPS (Apple M4)\n",
      "Model summary (fused): 72 layers, 3,006,233 parameters, 0 gradients, 8.1 GFLOPs\n",
      "\u001b[34m\u001b[1mval: \u001b[0mFast image access ✅ (ping: 0.0±0.0 ms, read: 614.2±233.2 MB/s, size: 11.0 KB)\n"
     ]
    },
    {
     "name": "stderr",
     "output_type": "stream",
     "text": [
      "\u001b[34m\u001b[1mval: \u001b[0mScanning /Users/fatihbasturk/Projects/EE58A-2025/subblock_detect/subblock_dataset/test/labels.cache... 315 images, 0 backgrounds, 0 corrupt: 100%|██████████| 315/315 [00:00<?, ?it/s]\n",
      "                 Class     Images  Instances      Box(P          R      mAP50  mAP50-95): 100%|██████████| 20/20 [00:07<00:00,  2.84it/s]\n"
     ]
    },
    {
     "name": "stdout",
     "output_type": "stream",
     "text": [
      "                   all        315        491      0.974      0.996      0.994      0.816\n",
      "Speed: 0.5ms preprocess, 4.7ms inference, 0.0ms loss, 6.8ms postprocess per image\n",
      "Results saved to \u001b[1m/Users/fatihbasturk/Projects/EE58A-2025/runs/detect/val23\u001b[0m\n",
      "▶️ Evaluating 'exp_mixup_on' on TEST split…\n",
      "Ultralytics 8.3.122 🚀 Python-3.11.4 torch-2.6.0 MPS (Apple M4)\n",
      "Model summary (fused): 72 layers, 3,006,233 parameters, 0 gradients, 8.1 GFLOPs\n",
      "\u001b[34m\u001b[1mval: \u001b[0mFast image access ✅ (ping: 0.0±0.0 ms, read: 604.9±293.9 MB/s, size: 13.1 KB)\n"
     ]
    },
    {
     "name": "stderr",
     "output_type": "stream",
     "text": [
      "\u001b[34m\u001b[1mval: \u001b[0mScanning /Users/fatihbasturk/Projects/EE58A-2025/subblock_detect/subblock_dataset/test/labels.cache... 315 images, 0 backgrounds, 0 corrupt: 100%|██████████| 315/315 [00:00<?, ?it/s]\n",
      "                 Class     Images  Instances      Box(P          R      mAP50  mAP50-95): 100%|██████████| 20/20 [00:08<00:00,  2.42it/s]\n"
     ]
    },
    {
     "name": "stdout",
     "output_type": "stream",
     "text": [
      "                   all        315        491      0.973      0.989       0.99      0.773\n",
      "Speed: 0.6ms preprocess, 5.3ms inference, 0.0ms loss, 8.4ms postprocess per image\n",
      "Results saved to \u001b[1m/Users/fatihbasturk/Projects/EE58A-2025/runs/detect/val24\u001b[0m\n",
      "▶️ Evaluating 'exp_label_smooth' on TEST split…\n",
      "Ultralytics 8.3.122 🚀 Python-3.11.4 torch-2.6.0 MPS (Apple M4)\n",
      "Model summary (fused): 72 layers, 3,006,233 parameters, 0 gradients, 8.1 GFLOPs\n",
      "\u001b[34m\u001b[1mval: \u001b[0mFast image access ✅ (ping: 0.0±0.0 ms, read: 624.9±239.9 MB/s, size: 11.3 KB)\n"
     ]
    },
    {
     "name": "stderr",
     "output_type": "stream",
     "text": [
      "\u001b[34m\u001b[1mval: \u001b[0mScanning /Users/fatihbasturk/Projects/EE58A-2025/subblock_detect/subblock_dataset/test/labels.cache... 315 images, 0 backgrounds, 0 corrupt: 100%|██████████| 315/315 [00:00<?, ?it/s]\n",
      "                 Class     Images  Instances      Box(P          R      mAP50  mAP50-95): 100%|██████████| 20/20 [00:07<00:00,  2.74it/s]\n"
     ]
    },
    {
     "name": "stdout",
     "output_type": "stream",
     "text": [
      "                   all        315        491      0.968      0.995      0.992      0.798\n",
      "Speed: 0.4ms preprocess, 4.9ms inference, 0.0ms loss, 7.1ms postprocess per image\n",
      "Results saved to \u001b[1m/Users/fatihbasturk/Projects/EE58A-2025/runs/detect/val25\u001b[0m\n",
      "▶️ Evaluating 'exp_cosine_lr' on TEST split…\n",
      "Ultralytics 8.3.122 🚀 Python-3.11.4 torch-2.6.0 MPS (Apple M4)\n",
      "Model summary (fused): 72 layers, 3,006,233 parameters, 0 gradients, 8.1 GFLOPs\n",
      "\u001b[34m\u001b[1mval: \u001b[0mFast image access ✅ (ping: 0.0±0.0 ms, read: 610.0±215.0 MB/s, size: 10.8 KB)\n"
     ]
    },
    {
     "name": "stderr",
     "output_type": "stream",
     "text": [
      "\u001b[34m\u001b[1mval: \u001b[0mScanning /Users/fatihbasturk/Projects/EE58A-2025/subblock_detect/subblock_dataset/test/labels.cache... 315 images, 0 backgrounds, 0 corrupt: 100%|██████████| 315/315 [00:00<?, ?it/s]\n",
      "                 Class     Images  Instances      Box(P          R      mAP50  mAP50-95): 100%|██████████| 20/20 [00:07<00:00,  2.71it/s]\n"
     ]
    },
    {
     "name": "stdout",
     "output_type": "stream",
     "text": [
      "                   all        315        491      0.972      0.983      0.993      0.792\n",
      "Speed: 0.5ms preprocess, 5.1ms inference, 0.0ms loss, 7.1ms postprocess per image\n",
      "Results saved to \u001b[1m/Users/fatihbasturk/Projects/EE58A-2025/runs/detect/val26\u001b[0m\n",
      "\n",
      "=== Test‐Set Evaluation ===\n"
     ]
    },
    {
     "data": {
      "text/html": [
       "<div>\n",
       "<style scoped>\n",
       "    .dataframe tbody tr th:only-of-type {\n",
       "        vertical-align: middle;\n",
       "    }\n",
       "\n",
       "    .dataframe tbody tr th {\n",
       "        vertical-align: top;\n",
       "    }\n",
       "\n",
       "    .dataframe thead th {\n",
       "        text-align: right;\n",
       "    }\n",
       "</style>\n",
       "<table border=\"1\" class=\"dataframe\">\n",
       "  <thead>\n",
       "    <tr style=\"text-align: right;\">\n",
       "      <th></th>\n",
       "      <th>test_mAP50</th>\n",
       "      <th>test_mAP50-95</th>\n",
       "    </tr>\n",
       "    <tr>\n",
       "      <th>exp</th>\n",
       "      <th></th>\n",
       "      <th></th>\n",
       "    </tr>\n",
       "  </thead>\n",
       "  <tbody>\n",
       "    <tr>\n",
       "      <th>baseline</th>\n",
       "      <td>0.990481</td>\n",
       "      <td>0.766651</td>\n",
       "    </tr>\n",
       "    <tr>\n",
       "      <th>lr_1e-3</th>\n",
       "      <td>0.992129</td>\n",
       "      <td>0.797983</td>\n",
       "    </tr>\n",
       "    <tr>\n",
       "      <th>lr_5e-4</th>\n",
       "      <td>0.992129</td>\n",
       "      <td>0.797983</td>\n",
       "    </tr>\n",
       "    <tr>\n",
       "      <th>lr_1e-4</th>\n",
       "      <td>0.992129</td>\n",
       "      <td>0.797983</td>\n",
       "    </tr>\n",
       "    <tr>\n",
       "      <th>wd_1e-2</th>\n",
       "      <td>0.992188</td>\n",
       "      <td>0.794721</td>\n",
       "    </tr>\n",
       "    <tr>\n",
       "      <th>wd_1e-3</th>\n",
       "      <td>0.992293</td>\n",
       "      <td>0.795789</td>\n",
       "    </tr>\n",
       "    <tr>\n",
       "      <th>wd_1e-4</th>\n",
       "      <td>0.991998</td>\n",
       "      <td>0.798015</td>\n",
       "    </tr>\n",
       "    <tr>\n",
       "      <th>mosaic_off</th>\n",
       "      <td>0.993513</td>\n",
       "      <td>0.816086</td>\n",
       "    </tr>\n",
       "    <tr>\n",
       "      <th>mixup_on</th>\n",
       "      <td>0.989715</td>\n",
       "      <td>0.773262</td>\n",
       "    </tr>\n",
       "    <tr>\n",
       "      <th>label_smooth</th>\n",
       "      <td>0.992129</td>\n",
       "      <td>0.797983</td>\n",
       "    </tr>\n",
       "    <tr>\n",
       "      <th>cosine_lr</th>\n",
       "      <td>0.992822</td>\n",
       "      <td>0.792191</td>\n",
       "    </tr>\n",
       "  </tbody>\n",
       "</table>\n",
       "</div>"
      ],
      "text/plain": [
       "              test_mAP50  test_mAP50-95\n",
       "exp                                    \n",
       "baseline        0.990481       0.766651\n",
       "lr_1e-3         0.992129       0.797983\n",
       "lr_5e-4         0.992129       0.797983\n",
       "lr_1e-4         0.992129       0.797983\n",
       "wd_1e-2         0.992188       0.794721\n",
       "wd_1e-3         0.992293       0.795789\n",
       "wd_1e-4         0.991998       0.798015\n",
       "mosaic_off      0.993513       0.816086\n",
       "mixup_on        0.989715       0.773262\n",
       "label_smooth    0.992129       0.797983\n",
       "cosine_lr       0.992822       0.792191"
      ]
     },
     "metadata": {},
     "output_type": "display_data"
    },
    {
     "name": "stdout",
     "output_type": "stream",
     "text": [
      "\n",
      "=== Combined Comparison ===\n"
     ]
    },
    {
     "data": {
      "text/html": [
       "<div>\n",
       "<style scoped>\n",
       "    .dataframe tbody tr th:only-of-type {\n",
       "        vertical-align: middle;\n",
       "    }\n",
       "\n",
       "    .dataframe tbody tr th {\n",
       "        vertical-align: top;\n",
       "    }\n",
       "\n",
       "    .dataframe thead th {\n",
       "        text-align: right;\n",
       "    }\n",
       "</style>\n",
       "<table border=\"1\" class=\"dataframe\">\n",
       "  <thead>\n",
       "    <tr style=\"text-align: right;\">\n",
       "      <th></th>\n",
       "      <th>train_mAP50</th>\n",
       "      <th>train_mAP50-95</th>\n",
       "      <th>test_mAP50</th>\n",
       "      <th>test_mAP50-95</th>\n",
       "    </tr>\n",
       "    <tr>\n",
       "      <th>exp</th>\n",
       "      <th></th>\n",
       "      <th></th>\n",
       "      <th></th>\n",
       "      <th></th>\n",
       "    </tr>\n",
       "  </thead>\n",
       "  <tbody>\n",
       "    <tr>\n",
       "      <th>baseline</th>\n",
       "      <td>0.98970</td>\n",
       "      <td>0.76814</td>\n",
       "      <td>0.990481</td>\n",
       "      <td>0.766651</td>\n",
       "    </tr>\n",
       "    <tr>\n",
       "      <th>lr_1e-3</th>\n",
       "      <td>0.99212</td>\n",
       "      <td>0.80171</td>\n",
       "      <td>0.992129</td>\n",
       "      <td>0.797983</td>\n",
       "    </tr>\n",
       "    <tr>\n",
       "      <th>lr_5e-4</th>\n",
       "      <td>0.99212</td>\n",
       "      <td>0.80171</td>\n",
       "      <td>0.992129</td>\n",
       "      <td>0.797983</td>\n",
       "    </tr>\n",
       "    <tr>\n",
       "      <th>lr_1e-4</th>\n",
       "      <td>0.99212</td>\n",
       "      <td>0.80171</td>\n",
       "      <td>0.992129</td>\n",
       "      <td>0.797983</td>\n",
       "    </tr>\n",
       "    <tr>\n",
       "      <th>wd_1e-2</th>\n",
       "      <td>0.99273</td>\n",
       "      <td>0.80018</td>\n",
       "      <td>0.992188</td>\n",
       "      <td>0.794721</td>\n",
       "    </tr>\n",
       "    <tr>\n",
       "      <th>wd_1e-3</th>\n",
       "      <td>0.99290</td>\n",
       "      <td>0.80184</td>\n",
       "      <td>0.992293</td>\n",
       "      <td>0.795789</td>\n",
       "    </tr>\n",
       "    <tr>\n",
       "      <th>wd_1e-4</th>\n",
       "      <td>0.99301</td>\n",
       "      <td>0.80212</td>\n",
       "      <td>0.991998</td>\n",
       "      <td>0.798015</td>\n",
       "    </tr>\n",
       "    <tr>\n",
       "      <th>mosaic_off</th>\n",
       "      <td>0.99446</td>\n",
       "      <td>0.81774</td>\n",
       "      <td>0.993513</td>\n",
       "      <td>0.816086</td>\n",
       "    </tr>\n",
       "    <tr>\n",
       "      <th>mixup_on</th>\n",
       "      <td>0.98626</td>\n",
       "      <td>0.77759</td>\n",
       "      <td>0.989715</td>\n",
       "      <td>0.773262</td>\n",
       "    </tr>\n",
       "    <tr>\n",
       "      <th>label_smooth</th>\n",
       "      <td>0.99212</td>\n",
       "      <td>0.80171</td>\n",
       "      <td>0.992129</td>\n",
       "      <td>0.797983</td>\n",
       "    </tr>\n",
       "    <tr>\n",
       "      <th>cosine_lr</th>\n",
       "      <td>0.99101</td>\n",
       "      <td>0.79155</td>\n",
       "      <td>0.992822</td>\n",
       "      <td>0.792191</td>\n",
       "    </tr>\n",
       "  </tbody>\n",
       "</table>\n",
       "</div>"
      ],
      "text/plain": [
       "              train_mAP50  train_mAP50-95  test_mAP50  test_mAP50-95\n",
       "exp                                                                 \n",
       "baseline          0.98970         0.76814    0.990481       0.766651\n",
       "lr_1e-3           0.99212         0.80171    0.992129       0.797983\n",
       "lr_5e-4           0.99212         0.80171    0.992129       0.797983\n",
       "lr_1e-4           0.99212         0.80171    0.992129       0.797983\n",
       "wd_1e-2           0.99273         0.80018    0.992188       0.794721\n",
       "wd_1e-3           0.99290         0.80184    0.992293       0.795789\n",
       "wd_1e-4           0.99301         0.80212    0.991998       0.798015\n",
       "mosaic_off        0.99446         0.81774    0.993513       0.816086\n",
       "mixup_on          0.98626         0.77759    0.989715       0.773262\n",
       "label_smooth      0.99212         0.80171    0.992129       0.797983\n",
       "cosine_lr         0.99101         0.79155    0.992822       0.792191"
      ]
     },
     "metadata": {},
     "output_type": "display_data"
    }
   ],
   "source": [
    "# Cell 8: Evaluate Parameter‐Sweep Experiments + Baseline\n",
    "\n",
    "from ultralytics import YOLO\n",
    "import pandas as pd\n",
    "\n",
    "# 1) Baseline is your Stage 2 run with no overrides\n",
    "baseline_tag = \"baseline\"\n",
    "baseline_run = STAGE2_NAME  # e.g. \"subblock_stage2_mps\"\n",
    "\n",
    "# 2) Your parameter-sweep tags\n",
    "exp_tags = [tag for tag, _ in param_exps]  # [\"lr0_5e-4\",\"wd_1e-3\",\"mosaic_on\",\"cosine_lr\"]\n",
    "\n",
    "# 3) Collect final-epoch train mAP for baseline + experiments\n",
    "train_summary = []\n",
    "\n",
    "# Baseline row\n",
    "try:\n",
    "    df_base = load_metrics(baseline_run)\n",
    "    last_base = df_base.iloc[-1]\n",
    "    train_summary.append({\n",
    "        \"exp\": baseline_tag,\n",
    "        \"train_mAP50\":    last_base[\"metrics/mAP50(B)\"],\n",
    "        \"train_mAP50-95\": last_base[\"metrics/mAP50-95(B)\"]\n",
    "    })\n",
    "except FileNotFoundError:\n",
    "    train_summary.append({\"exp\": baseline_tag, \"train_mAP50\": None, \"train_mAP50-95\": None})\n",
    "\n",
    "# Parameter-sweep rows\n",
    "for tag in exp_tags:\n",
    "    run_name = f\"exp_{tag}\"\n",
    "    try:\n",
    "        df = load_metrics(run_name)\n",
    "        last_row = df.iloc[-1]\n",
    "        train_summary.append({\n",
    "            \"exp\": tag,\n",
    "            \"train_mAP50\":    last_row[\"metrics/mAP50(B)\"],\n",
    "            \"train_mAP50-95\": last_row[\"metrics/mAP50-95(B)\"]\n",
    "        })\n",
    "    except FileNotFoundError:\n",
    "        train_summary.append({\"exp\": tag, \"train_mAP50\": None, \"train_mAP50-95\": None})\n",
    "\n",
    "train_df = pd.DataFrame(train_summary).set_index(\"exp\")\n",
    "print(\"=== Training Summary (final epoch) ===\")\n",
    "display(train_df)\n",
    "\n",
    "# 4) Evaluate each on TEST split\n",
    "test_summary = []\n",
    "\n",
    "# Baseline\n",
    "print(f\"▶️ Evaluating baseline '{baseline_run}' on TEST split…\")\n",
    "base_ckpt = get_checkpoint(baseline_run)\n",
    "base_model = YOLO(base_ckpt)\n",
    "res_base = base_model.val(data=DATA_YAML, device=DEVICE, split=\"test\", verbose=False)\n",
    "test_summary.append({\n",
    "    \"exp\": baseline_tag,\n",
    "    \"test_mAP50\":    float(res_base.box.map50),\n",
    "    \"test_mAP50-95\": float(res_base.box.map)\n",
    "})\n",
    "\n",
    "# Parameter-sweep\n",
    "for tag in exp_tags:\n",
    "    run_name = f\"exp_{tag}\"\n",
    "    print(f\"▶️ Evaluating '{run_name}' on TEST split…\")\n",
    "    ckpt = get_checkpoint(run_name)\n",
    "    model = YOLO(ckpt)\n",
    "    res = model.val(data=DATA_YAML, device=DEVICE, split=\"test\", verbose=False)\n",
    "    test_summary.append({\n",
    "        \"exp\": tag,\n",
    "        \"test_mAP50\":    float(res.box.map50),\n",
    "        \"test_mAP50-95\": float(res.box.map)\n",
    "    })\n",
    "\n",
    "test_df = pd.DataFrame(test_summary).set_index(\"exp\")\n",
    "print(\"\\n=== Test‐Set Evaluation ===\")\n",
    "display(test_df)\n",
    "\n",
    "# 5) Combine baseline + experiments\n",
    "comparison = train_df.join(test_df)\n",
    "print(\"\\n=== Combined Comparison ===\")\n",
    "display(comparison)\n"
   ]
  },
  {
   "cell_type": "code",
   "execution_count": 26,
   "id": "18d4368c",
   "metadata": {},
   "outputs": [
    {
     "name": "stdout",
     "output_type": "stream",
     "text": [
      "▶️ Training 'exp_orig_full50' for 50 epochs starting from /Users/fatihbasturk/Projects/EE58A-2025/trained_models/yolov8_original.pt\n",
      "New https://pypi.org/project/ultralytics/8.3.139 available 😃 Update with 'pip install -U ultralytics'\n",
      "Ultralytics 8.3.122 🚀 Python-3.11.4 torch-2.6.0 MPS (Apple M4)\n",
      "\u001b[34m\u001b[1mengine/trainer: \u001b[0mtask=detect, mode=train, model=/Users/fatihbasturk/Projects/EE58A-2025/trained_models/yolov8_original.pt, data=/Users/fatihbasturk/Projects/EE58A-2025/subblock_detect/config/subblock_data.yaml, epochs=50, time=None, patience=100, batch=16, imgsz=640, save=True, save_period=-1, cache=False, device=mps, workers=8, project=None, name=exp_orig_full50, exist_ok=True, pretrained=True, optimizer=auto, verbose=False, seed=0, deterministic=True, single_cls=False, rect=False, cos_lr=False, close_mosaic=10, resume=False, amp=True, fraction=1.0, profile=False, freeze=0, multi_scale=False, overlap_mask=True, mask_ratio=4, dropout=0.0, val=True, split=val, save_json=False, conf=None, iou=0.7, max_det=100, half=False, dnn=False, plots=True, source=None, vid_stride=1, stream_buffer=False, visualize=False, augment=False, agnostic_nms=False, classes=None, retina_masks=False, embed=None, show=False, save_frames=False, save_txt=False, save_conf=False, save_crop=False, show_labels=True, show_conf=True, show_boxes=True, line_width=None, format=torchscript, keras=False, optimize=False, int8=False, dynamic=False, simplify=True, opset=None, workspace=None, nms=False, lr0=0.01, lrf=0.01, momentum=0.937, weight_decay=0.0005, warmup_epochs=3.0, warmup_momentum=0.8, warmup_bias_lr=0.1, box=7.5, cls=0.5, dfl=1.5, pose=12.0, kobj=1.0, nbs=64, hsv_h=0.015, hsv_s=0.7, hsv_v=0.4, degrees=0.0, translate=0.1, scale=0.5, shear=0.0, perspective=0.0, flipud=0.0, fliplr=0.5, bgr=0.0, mosaic=1.0, mixup=0.0, cutmix=0.0, copy_paste=0.0, copy_paste_mode=flip, auto_augment=randaugment, erasing=0.4, cfg=None, tracker=botsort.yaml, save_dir=/Users/fatihbasturk/Projects/EE58A-2025/runs/detect/exp_orig_full50\n",
      "Overriding model.yaml nc=12 with nc=3\n",
      "\n",
      "                   from  n    params  module                                       arguments                     \n",
      "  0                  -1  1       464  ultralytics.nn.modules.conv.Conv             [3, 16, 3, 2]                 \n",
      "  1                  -1  1      4672  ultralytics.nn.modules.conv.Conv             [16, 32, 3, 2]                \n",
      "  2                  -1  1      7360  ultralytics.nn.modules.block.C2f             [32, 32, 1, True]             \n",
      "  3                  -1  1     18560  ultralytics.nn.modules.conv.Conv             [32, 64, 3, 2]                \n",
      "  4                  -1  2     49664  ultralytics.nn.modules.block.C2f             [64, 64, 2, True]             \n",
      "  5                  -1  1     73984  ultralytics.nn.modules.conv.Conv             [64, 128, 3, 2]               \n",
      "  6                  -1  2    197632  ultralytics.nn.modules.block.C2f             [128, 128, 2, True]           \n",
      "  7                  -1  1    295424  ultralytics.nn.modules.conv.Conv             [128, 256, 3, 2]              \n",
      "  8                  -1  1    460288  ultralytics.nn.modules.block.C2f             [256, 256, 1, True]           \n",
      "  9                  -1  1    164608  ultralytics.nn.modules.block.SPPF            [256, 256, 5]                 \n",
      " 10                  -1  1         0  torch.nn.modules.upsampling.Upsample         [None, 2, 'nearest']          \n",
      " 11             [-1, 6]  1         0  ultralytics.nn.modules.conv.Concat           [1]                           \n",
      " 12                  -1  1    148224  ultralytics.nn.modules.block.C2f             [384, 128, 1]                 \n",
      " 13                  -1  1         0  torch.nn.modules.upsampling.Upsample         [None, 2, 'nearest']          \n",
      " 14             [-1, 4]  1         0  ultralytics.nn.modules.conv.Concat           [1]                           \n",
      " 15                  -1  1     37248  ultralytics.nn.modules.block.C2f             [192, 64, 1]                  \n",
      " 16                  -1  1     36992  ultralytics.nn.modules.conv.Conv             [64, 64, 3, 2]                \n",
      " 17            [-1, 12]  1         0  ultralytics.nn.modules.conv.Concat           [1]                           \n",
      " 18                  -1  1    123648  ultralytics.nn.modules.block.C2f             [192, 128, 1]                 \n",
      " 19                  -1  1    147712  ultralytics.nn.modules.conv.Conv             [128, 128, 3, 2]              \n",
      " 20             [-1, 9]  1         0  ultralytics.nn.modules.conv.Concat           [1]                           \n",
      " 21                  -1  1    493056  ultralytics.nn.modules.block.C2f             [384, 256, 1]                 \n",
      " 22        [15, 18, 21]  1    751897  ultralytics.nn.modules.head.Detect           [3, [64, 128, 256]]           \n",
      "Model summary: 129 layers, 3,011,433 parameters, 3,011,417 gradients, 8.2 GFLOPs\n",
      "\n",
      "Transferred 349/355 items from pretrained weights\n",
      "Freezing layer 'model.22.dfl.conv.weight'\n",
      "\u001b[34m\u001b[1mtrain: \u001b[0mFast image access ✅ (ping: 0.0±0.0 ms, read: 47.5±9.8 MB/s, size: 10.3 KB)\n"
     ]
    },
    {
     "name": "stderr",
     "output_type": "stream",
     "text": [
      "\u001b[34m\u001b[1mtrain: \u001b[0mScanning /Users/fatihbasturk/Projects/EE58A-2025/subblock_detect/subblock_dataset/train/labels.cache... 424 images, 0 backgrounds, 0 corrupt: 100%|██████████| 424/424 [00:00<?, ?it/s]"
     ]
    },
    {
     "name": "stdout",
     "output_type": "stream",
     "text": [
      "\u001b[34m\u001b[1mval: \u001b[0mFast image access ✅ (ping: 0.0±0.0 ms, read: 62.6±33.6 MB/s, size: 11.9 KB)\n"
     ]
    },
    {
     "name": "stderr",
     "output_type": "stream",
     "text": [
      "\n",
      "\u001b[34m\u001b[1mval: \u001b[0mScanning /Users/fatihbasturk/Projects/EE58A-2025/subblock_detect/subblock_dataset/val/labels.cache... 319 images, 0 backgrounds, 0 corrupt: 100%|██████████| 319/319 [00:00<?, ?it/s]"
     ]
    },
    {
     "name": "stdout",
     "output_type": "stream",
     "text": [
      "Plotting labels to /Users/fatihbasturk/Projects/EE58A-2025/runs/detect/exp_orig_full50/labels.jpg... \n"
     ]
    },
    {
     "name": "stderr",
     "output_type": "stream",
     "text": [
      "\n"
     ]
    },
    {
     "name": "stdout",
     "output_type": "stream",
     "text": [
      "\u001b[34m\u001b[1moptimizer:\u001b[0m 'optimizer=auto' found, ignoring 'lr0=0.01' and 'momentum=0.937' and determining best 'optimizer', 'lr0' and 'momentum' automatically... \n",
      "\u001b[34m\u001b[1moptimizer:\u001b[0m AdamW(lr=0.001429, momentum=0.9) with parameter groups 57 weight(decay=0.0), 64 weight(decay=0.0005), 63 bias(decay=0.0)\n",
      "Image sizes 640 train, 640 val\n",
      "Using 0 dataloader workers\n",
      "Logging results to \u001b[1m/Users/fatihbasturk/Projects/EE58A-2025/runs/detect/exp_orig_full50\u001b[0m\n",
      "Starting training for 50 epochs...\n",
      "\n",
      "      Epoch    GPU_mem   box_loss   cls_loss   dfl_loss  Instances       Size\n"
     ]
    },
    {
     "name": "stderr",
     "output_type": "stream",
     "text": [
      "       1/50      9.43G      2.243      3.844      1.957         21        640: 100%|██████████| 27/27 [00:40<00:00,  1.51s/it]\n",
      "                 Class     Images  Instances      Box(P          R      mAP50  mAP50-95):   0%|          | 0/10 [00:00<?, ?it/s]"
     ]
    },
    {
     "name": "stdout",
     "output_type": "stream",
     "text": [
      "WARNING ⚠️ NMS time limit 3.600s exceeded\n"
     ]
    },
    {
     "name": "stderr",
     "output_type": "stream",
     "text": [
      "                 Class     Images  Instances      Box(P          R      mAP50  mAP50-95):  10%|█         | 1/10 [00:06<01:02,  6.93s/it]"
     ]
    },
    {
     "name": "stdout",
     "output_type": "stream",
     "text": [
      "WARNING ⚠️ NMS time limit 3.600s exceeded\n"
     ]
    },
    {
     "name": "stderr",
     "output_type": "stream",
     "text": [
      "                 Class     Images  Instances      Box(P          R      mAP50  mAP50-95):  20%|██        | 2/10 [00:13<00:52,  6.52s/it]"
     ]
    },
    {
     "name": "stdout",
     "output_type": "stream",
     "text": [
      "WARNING ⚠️ NMS time limit 3.600s exceeded\n"
     ]
    },
    {
     "name": "stderr",
     "output_type": "stream",
     "text": [
      "                 Class     Images  Instances      Box(P          R      mAP50  mAP50-95):  30%|███       | 3/10 [00:19<00:44,  6.42s/it]"
     ]
    },
    {
     "name": "stdout",
     "output_type": "stream",
     "text": [
      "WARNING ⚠️ NMS time limit 3.600s exceeded\n"
     ]
    },
    {
     "name": "stderr",
     "output_type": "stream",
     "text": [
      "                 Class     Images  Instances      Box(P          R      mAP50  mAP50-95):  40%|████      | 4/10 [00:25<00:38,  6.35s/it]"
     ]
    },
    {
     "name": "stdout",
     "output_type": "stream",
     "text": [
      "WARNING ⚠️ NMS time limit 3.600s exceeded\n"
     ]
    },
    {
     "name": "stderr",
     "output_type": "stream",
     "text": [
      "                 Class     Images  Instances      Box(P          R      mAP50  mAP50-95):  50%|█████     | 5/10 [00:31<00:30,  6.17s/it]"
     ]
    },
    {
     "name": "stdout",
     "output_type": "stream",
     "text": [
      "WARNING ⚠️ NMS time limit 3.600s exceeded\n"
     ]
    },
    {
     "name": "stderr",
     "output_type": "stream",
     "text": [
      "                 Class     Images  Instances      Box(P          R      mAP50  mAP50-95):  60%|██████    | 6/10 [00:37<00:24,  6.22s/it]"
     ]
    },
    {
     "name": "stdout",
     "output_type": "stream",
     "text": [
      "WARNING ⚠️ NMS time limit 3.600s exceeded\n"
     ]
    },
    {
     "name": "stderr",
     "output_type": "stream",
     "text": [
      "                 Class     Images  Instances      Box(P          R      mAP50  mAP50-95):  70%|███████   | 7/10 [00:43<00:17,  5.99s/it]"
     ]
    },
    {
     "name": "stdout",
     "output_type": "stream",
     "text": [
      "WARNING ⚠️ NMS time limit 3.600s exceeded\n"
     ]
    },
    {
     "name": "stderr",
     "output_type": "stream",
     "text": [
      "                 Class     Images  Instances      Box(P          R      mAP50  mAP50-95):  80%|████████  | 8/10 [00:49<00:12,  6.05s/it]"
     ]
    },
    {
     "name": "stdout",
     "output_type": "stream",
     "text": [
      "WARNING ⚠️ NMS time limit 3.600s exceeded\n"
     ]
    },
    {
     "name": "stderr",
     "output_type": "stream",
     "text": [
      "                 Class     Images  Instances      Box(P          R      mAP50  mAP50-95):  90%|█████████ | 9/10 [00:55<00:06,  6.10s/it]"
     ]
    },
    {
     "name": "stdout",
     "output_type": "stream",
     "text": [
      "WARNING ⚠️ NMS time limit 3.550s exceeded\n"
     ]
    },
    {
     "name": "stderr",
     "output_type": "stream",
     "text": [
      "                 Class     Images  Instances      Box(P          R      mAP50  mAP50-95): 100%|██████████| 10/10 [01:03<00:00,  6.33s/it]"
     ]
    },
    {
     "name": "stdout",
     "output_type": "stream",
     "text": [
      "                   all        319        514     0.0173      0.609      0.101     0.0499\n"
     ]
    },
    {
     "name": "stderr",
     "output_type": "stream",
     "text": [
      "\n"
     ]
    },
    {
     "name": "stdout",
     "output_type": "stream",
     "text": [
      "\n",
      "      Epoch    GPU_mem   box_loss   cls_loss   dfl_loss  Instances       Size\n"
     ]
    },
    {
     "name": "stderr",
     "output_type": "stream",
     "text": [
      "       2/50      9.52G      1.592      2.703      1.413         23        640: 100%|██████████| 27/27 [00:46<00:00,  1.72s/it]\n",
      "                 Class     Images  Instances      Box(P          R      mAP50  mAP50-95):   0%|          | 0/10 [00:00<?, ?it/s]"
     ]
    },
    {
     "name": "stdout",
     "output_type": "stream",
     "text": [
      "WARNING ⚠️ NMS time limit 3.600s exceeded\n"
     ]
    },
    {
     "name": "stderr",
     "output_type": "stream",
     "text": [
      "                 Class     Images  Instances      Box(P          R      mAP50  mAP50-95):  10%|█         | 1/10 [00:04<00:43,  4.83s/it]"
     ]
    },
    {
     "name": "stdout",
     "output_type": "stream",
     "text": [
      "WARNING ⚠️ NMS time limit 3.600s exceeded\n"
     ]
    },
    {
     "name": "stderr",
     "output_type": "stream",
     "text": [
      "                 Class     Images  Instances      Box(P          R      mAP50  mAP50-95):  20%|██        | 2/10 [00:10<00:40,  5.05s/it]"
     ]
    },
    {
     "name": "stdout",
     "output_type": "stream",
     "text": [
      "WARNING ⚠️ NMS time limit 3.600s exceeded\n"
     ]
    },
    {
     "name": "stderr",
     "output_type": "stream",
     "text": [
      "                 Class     Images  Instances      Box(P          R      mAP50  mAP50-95):  30%|███       | 3/10 [00:16<00:39,  5.62s/it]"
     ]
    },
    {
     "name": "stdout",
     "output_type": "stream",
     "text": [
      "WARNING ⚠️ NMS time limit 3.600s exceeded\n"
     ]
    },
    {
     "name": "stderr",
     "output_type": "stream",
     "text": [
      "                 Class     Images  Instances      Box(P          R      mAP50  mAP50-95):  40%|████      | 4/10 [00:22<00:34,  5.73s/it]"
     ]
    },
    {
     "name": "stdout",
     "output_type": "stream",
     "text": [
      "WARNING ⚠️ NMS time limit 3.600s exceeded\n"
     ]
    },
    {
     "name": "stderr",
     "output_type": "stream",
     "text": [
      "                 Class     Images  Instances      Box(P          R      mAP50  mAP50-95):  50%|█████     | 5/10 [00:27<00:28,  5.60s/it]"
     ]
    },
    {
     "name": "stdout",
     "output_type": "stream",
     "text": [
      "WARNING ⚠️ NMS time limit 3.600s exceeded\n"
     ]
    },
    {
     "name": "stderr",
     "output_type": "stream",
     "text": [
      "                 Class     Images  Instances      Box(P          R      mAP50  mAP50-95):  60%|██████    | 6/10 [00:33<00:22,  5.66s/it]"
     ]
    },
    {
     "name": "stdout",
     "output_type": "stream",
     "text": [
      "WARNING ⚠️ NMS time limit 3.600s exceeded\n"
     ]
    },
    {
     "name": "stderr",
     "output_type": "stream",
     "text": [
      "                 Class     Images  Instances      Box(P          R      mAP50  mAP50-95):  70%|███████   | 7/10 [00:39<00:17,  5.70s/it]"
     ]
    },
    {
     "name": "stdout",
     "output_type": "stream",
     "text": [
      "WARNING ⚠️ NMS time limit 3.600s exceeded\n"
     ]
    },
    {
     "name": "stderr",
     "output_type": "stream",
     "text": [
      "                 Class     Images  Instances      Box(P          R      mAP50  mAP50-95):  80%|████████  | 8/10 [00:45<00:12,  6.05s/it]"
     ]
    },
    {
     "name": "stdout",
     "output_type": "stream",
     "text": [
      "WARNING ⚠️ NMS time limit 3.600s exceeded\n"
     ]
    },
    {
     "name": "stderr",
     "output_type": "stream",
     "text": [
      "                 Class     Images  Instances      Box(P          R      mAP50  mAP50-95):  90%|█████████ | 9/10 [00:51<00:05,  5.90s/it]"
     ]
    },
    {
     "name": "stdout",
     "output_type": "stream",
     "text": [
      "WARNING ⚠️ NMS time limit 3.550s exceeded\n"
     ]
    },
    {
     "name": "stderr",
     "output_type": "stream",
     "text": [
      "                 Class     Images  Instances      Box(P          R      mAP50  mAP50-95): 100%|██████████| 10/10 [00:57<00:00,  5.72s/it]"
     ]
    },
    {
     "name": "stdout",
     "output_type": "stream",
     "text": [
      "                   all        319        514      0.508      0.273      0.281      0.164\n"
     ]
    },
    {
     "name": "stderr",
     "output_type": "stream",
     "text": [
      "\n"
     ]
    },
    {
     "name": "stdout",
     "output_type": "stream",
     "text": [
      "\n",
      "      Epoch    GPU_mem   box_loss   cls_loss   dfl_loss  Instances       Size\n"
     ]
    },
    {
     "name": "stderr",
     "output_type": "stream",
     "text": [
      "       3/50      9.64G      1.414      2.099      1.297         24        640: 100%|██████████| 27/27 [00:50<00:00,  1.87s/it]\n",
      "                 Class     Images  Instances      Box(P          R      mAP50  mAP50-95):   0%|          | 0/10 [00:00<?, ?it/s]"
     ]
    },
    {
     "name": "stdout",
     "output_type": "stream",
     "text": [
      "WARNING ⚠️ NMS time limit 3.600s exceeded\n"
     ]
    },
    {
     "name": "stderr",
     "output_type": "stream",
     "text": [
      "                 Class     Images  Instances      Box(P          R      mAP50  mAP50-95):  10%|█         | 1/10 [00:04<00:43,  4.83s/it]"
     ]
    },
    {
     "name": "stdout",
     "output_type": "stream",
     "text": [
      "WARNING ⚠️ NMS time limit 3.600s exceeded\n"
     ]
    },
    {
     "name": "stderr",
     "output_type": "stream",
     "text": [
      "                 Class     Images  Instances      Box(P          R      mAP50  mAP50-95):  20%|██        | 2/10 [00:09<00:39,  5.00s/it]"
     ]
    },
    {
     "name": "stdout",
     "output_type": "stream",
     "text": [
      "WARNING ⚠️ NMS time limit 3.600s exceeded\n"
     ]
    },
    {
     "name": "stderr",
     "output_type": "stream",
     "text": [
      "                 Class     Images  Instances      Box(P          R      mAP50  mAP50-95):  30%|███       | 3/10 [00:16<00:40,  5.81s/it]"
     ]
    },
    {
     "name": "stdout",
     "output_type": "stream",
     "text": [
      "WARNING ⚠️ NMS time limit 3.600s exceeded\n"
     ]
    },
    {
     "name": "stderr",
     "output_type": "stream",
     "text": [
      "                 Class     Images  Instances      Box(P          R      mAP50  mAP50-95):  40%|████      | 4/10 [00:22<00:34,  5.79s/it]"
     ]
    },
    {
     "name": "stdout",
     "output_type": "stream",
     "text": [
      "WARNING ⚠️ NMS time limit 3.600s exceeded\n"
     ]
    },
    {
     "name": "stderr",
     "output_type": "stream",
     "text": [
      "                 Class     Images  Instances      Box(P          R      mAP50  mAP50-95):  50%|█████     | 5/10 [00:28<00:28,  5.76s/it]"
     ]
    },
    {
     "name": "stdout",
     "output_type": "stream",
     "text": [
      "WARNING ⚠️ NMS time limit 3.600s exceeded\n"
     ]
    },
    {
     "name": "stderr",
     "output_type": "stream",
     "text": [
      "                 Class     Images  Instances      Box(P          R      mAP50  mAP50-95):  60%|██████    | 6/10 [00:33<00:22,  5.67s/it]"
     ]
    },
    {
     "name": "stdout",
     "output_type": "stream",
     "text": [
      "WARNING ⚠️ NMS time limit 3.600s exceeded\n"
     ]
    },
    {
     "name": "stderr",
     "output_type": "stream",
     "text": [
      "                 Class     Images  Instances      Box(P          R      mAP50  mAP50-95):  70%|███████   | 7/10 [00:39<00:17,  5.68s/it]"
     ]
    },
    {
     "name": "stdout",
     "output_type": "stream",
     "text": [
      "WARNING ⚠️ NMS time limit 3.600s exceeded\n"
     ]
    },
    {
     "name": "stderr",
     "output_type": "stream",
     "text": [
      "                 Class     Images  Instances      Box(P          R      mAP50  mAP50-95):  80%|████████  | 8/10 [00:45<00:11,  5.90s/it]"
     ]
    },
    {
     "name": "stdout",
     "output_type": "stream",
     "text": [
      "WARNING ⚠️ NMS time limit 3.600s exceeded\n"
     ]
    },
    {
     "name": "stderr",
     "output_type": "stream",
     "text": [
      "                 Class     Images  Instances      Box(P          R      mAP50  mAP50-95):  90%|█████████ | 9/10 [00:51<00:05,  5.91s/it]"
     ]
    },
    {
     "name": "stdout",
     "output_type": "stream",
     "text": [
      "WARNING ⚠️ NMS time limit 3.550s exceeded\n"
     ]
    },
    {
     "name": "stderr",
     "output_type": "stream",
     "text": [
      "                 Class     Images  Instances      Box(P          R      mAP50  mAP50-95): 100%|██████████| 10/10 [00:57<00:00,  5.72s/it]"
     ]
    },
    {
     "name": "stdout",
     "output_type": "stream",
     "text": [
      "                   all        319        514      0.678      0.356      0.354       0.21\n"
     ]
    },
    {
     "name": "stderr",
     "output_type": "stream",
     "text": [
      "\n"
     ]
    },
    {
     "name": "stdout",
     "output_type": "stream",
     "text": [
      "\n",
      "      Epoch    GPU_mem   box_loss   cls_loss   dfl_loss  Instances       Size\n"
     ]
    },
    {
     "name": "stderr",
     "output_type": "stream",
     "text": [
      "       4/50      9.74G      1.378      1.807      1.281         21        640: 100%|██████████| 27/27 [01:11<00:00,  2.64s/it]\n",
      "                 Class     Images  Instances      Box(P          R      mAP50  mAP50-95):   0%|          | 0/10 [00:00<?, ?it/s]"
     ]
    },
    {
     "name": "stdout",
     "output_type": "stream",
     "text": [
      "WARNING ⚠️ NMS time limit 3.600s exceeded\n"
     ]
    },
    {
     "name": "stderr",
     "output_type": "stream",
     "text": [
      "                 Class     Images  Instances      Box(P          R      mAP50  mAP50-95):  10%|█         | 1/10 [00:04<00:44,  4.93s/it]"
     ]
    },
    {
     "name": "stdout",
     "output_type": "stream",
     "text": [
      "WARNING ⚠️ NMS time limit 3.600s exceeded\n"
     ]
    },
    {
     "name": "stderr",
     "output_type": "stream",
     "text": [
      "                 Class     Images  Instances      Box(P          R      mAP50  mAP50-95):  20%|██        | 2/10 [00:10<00:41,  5.19s/it]"
     ]
    },
    {
     "name": "stdout",
     "output_type": "stream",
     "text": [
      "WARNING ⚠️ NMS time limit 3.600s exceeded\n"
     ]
    },
    {
     "name": "stderr",
     "output_type": "stream",
     "text": [
      "                 Class     Images  Instances      Box(P          R      mAP50  mAP50-95):  30%|███       | 3/10 [00:16<00:41,  5.86s/it]"
     ]
    },
    {
     "name": "stdout",
     "output_type": "stream",
     "text": [
      "WARNING ⚠️ NMS time limit 3.600s exceeded\n"
     ]
    },
    {
     "name": "stderr",
     "output_type": "stream",
     "text": [
      "                 Class     Images  Instances      Box(P          R      mAP50  mAP50-95):  40%|████      | 4/10 [00:22<00:34,  5.70s/it]"
     ]
    },
    {
     "name": "stdout",
     "output_type": "stream",
     "text": [
      "WARNING ⚠️ NMS time limit 3.600s exceeded\n"
     ]
    },
    {
     "name": "stderr",
     "output_type": "stream",
     "text": [
      "                 Class     Images  Instances      Box(P          R      mAP50  mAP50-95):  50%|█████     | 5/10 [00:27<00:28,  5.65s/it]"
     ]
    },
    {
     "name": "stdout",
     "output_type": "stream",
     "text": [
      "WARNING ⚠️ NMS time limit 3.600s exceeded\n"
     ]
    },
    {
     "name": "stderr",
     "output_type": "stream",
     "text": [
      "                 Class     Images  Instances      Box(P          R      mAP50  mAP50-95):  60%|██████    | 6/10 [00:33<00:22,  5.69s/it]"
     ]
    },
    {
     "name": "stdout",
     "output_type": "stream",
     "text": [
      "WARNING ⚠️ NMS time limit 3.600s exceeded\n"
     ]
    },
    {
     "name": "stderr",
     "output_type": "stream",
     "text": [
      "                 Class     Images  Instances      Box(P          R      mAP50  mAP50-95):  70%|███████   | 7/10 [00:39<00:17,  5.68s/it]"
     ]
    },
    {
     "name": "stdout",
     "output_type": "stream",
     "text": [
      "WARNING ⚠️ NMS time limit 3.600s exceeded\n"
     ]
    },
    {
     "name": "stderr",
     "output_type": "stream",
     "text": [
      "                 Class     Images  Instances      Box(P          R      mAP50  mAP50-95):  80%|████████  | 8/10 [00:46<00:12,  6.04s/it]"
     ]
    },
    {
     "name": "stdout",
     "output_type": "stream",
     "text": [
      "WARNING ⚠️ NMS time limit 3.600s exceeded\n"
     ]
    },
    {
     "name": "stderr",
     "output_type": "stream",
     "text": [
      "                 Class     Images  Instances      Box(P          R      mAP50  mAP50-95):  90%|█████████ | 9/10 [00:51<00:05,  5.84s/it]"
     ]
    },
    {
     "name": "stdout",
     "output_type": "stream",
     "text": [
      "WARNING ⚠️ NMS time limit 3.550s exceeded\n"
     ]
    },
    {
     "name": "stderr",
     "output_type": "stream",
     "text": [
      "                 Class     Images  Instances      Box(P          R      mAP50  mAP50-95): 100%|██████████| 10/10 [00:57<00:00,  5.73s/it]"
     ]
    },
    {
     "name": "stdout",
     "output_type": "stream",
     "text": [
      "                   all        319        514      0.702      0.305        0.3      0.178\n"
     ]
    },
    {
     "name": "stderr",
     "output_type": "stream",
     "text": [
      "\n"
     ]
    },
    {
     "name": "stdout",
     "output_type": "stream",
     "text": [
      "\n",
      "      Epoch    GPU_mem   box_loss   cls_loss   dfl_loss  Instances       Size\n"
     ]
    },
    {
     "name": "stderr",
     "output_type": "stream",
     "text": [
      "       5/50      9.88G      1.321      1.562      1.284         25        640: 100%|██████████| 27/27 [01:30<00:00,  3.34s/it]\n",
      "                 Class     Images  Instances      Box(P          R      mAP50  mAP50-95):   0%|          | 0/10 [00:00<?, ?it/s]"
     ]
    },
    {
     "name": "stdout",
     "output_type": "stream",
     "text": [
      "WARNING ⚠️ NMS time limit 3.600s exceeded\n"
     ]
    },
    {
     "name": "stderr",
     "output_type": "stream",
     "text": [
      "                 Class     Images  Instances      Box(P          R      mAP50  mAP50-95):  10%|█         | 1/10 [00:05<00:45,  5.07s/it]"
     ]
    },
    {
     "name": "stdout",
     "output_type": "stream",
     "text": [
      "WARNING ⚠️ NMS time limit 3.600s exceeded\n"
     ]
    },
    {
     "name": "stderr",
     "output_type": "stream",
     "text": [
      "                 Class     Images  Instances      Box(P          R      mAP50  mAP50-95):  20%|██        | 2/10 [00:10<00:43,  5.42s/it]"
     ]
    },
    {
     "name": "stdout",
     "output_type": "stream",
     "text": [
      "WARNING ⚠️ NMS time limit 3.600s exceeded\n"
     ]
    },
    {
     "name": "stderr",
     "output_type": "stream",
     "text": [
      "                 Class     Images  Instances      Box(P          R      mAP50  mAP50-95):  30%|███       | 3/10 [00:18<00:44,  6.31s/it]"
     ]
    },
    {
     "name": "stdout",
     "output_type": "stream",
     "text": [
      "WARNING ⚠️ NMS time limit 3.600s exceeded\n"
     ]
    },
    {
     "name": "stderr",
     "output_type": "stream",
     "text": [
      "                 Class     Images  Instances      Box(P          R      mAP50  mAP50-95):  40%|████      | 4/10 [00:23<00:36,  6.00s/it]"
     ]
    },
    {
     "name": "stdout",
     "output_type": "stream",
     "text": [
      "WARNING ⚠️ NMS time limit 3.600s exceeded\n"
     ]
    },
    {
     "name": "stderr",
     "output_type": "stream",
     "text": [
      "                 Class     Images  Instances      Box(P          R      mAP50  mAP50-95):  50%|█████     | 5/10 [00:29<00:29,  5.82s/it]"
     ]
    },
    {
     "name": "stdout",
     "output_type": "stream",
     "text": [
      "WARNING ⚠️ NMS time limit 3.600s exceeded\n"
     ]
    },
    {
     "name": "stderr",
     "output_type": "stream",
     "text": [
      "                 Class     Images  Instances      Box(P          R      mAP50  mAP50-95):  60%|██████    | 6/10 [00:34<00:23,  5.83s/it]"
     ]
    },
    {
     "name": "stdout",
     "output_type": "stream",
     "text": [
      "WARNING ⚠️ NMS time limit 3.600s exceeded\n"
     ]
    },
    {
     "name": "stderr",
     "output_type": "stream",
     "text": [
      "                 Class     Images  Instances      Box(P          R      mAP50  mAP50-95):  70%|███████   | 7/10 [00:41<00:17,  5.92s/it]"
     ]
    },
    {
     "name": "stdout",
     "output_type": "stream",
     "text": [
      "WARNING ⚠️ NMS time limit 3.600s exceeded\n"
     ]
    },
    {
     "name": "stderr",
     "output_type": "stream",
     "text": [
      "                 Class     Images  Instances      Box(P          R      mAP50  mAP50-95):  80%|████████  | 8/10 [00:47<00:12,  6.01s/it]"
     ]
    },
    {
     "name": "stdout",
     "output_type": "stream",
     "text": [
      "WARNING ⚠️ NMS time limit 3.600s exceeded\n"
     ]
    },
    {
     "name": "stderr",
     "output_type": "stream",
     "text": [
      "                 Class     Images  Instances      Box(P          R      mAP50  mAP50-95):  90%|█████████ | 9/10 [00:52<00:05,  5.82s/it]"
     ]
    },
    {
     "name": "stdout",
     "output_type": "stream",
     "text": [
      "WARNING ⚠️ NMS time limit 3.550s exceeded\n"
     ]
    },
    {
     "name": "stderr",
     "output_type": "stream",
     "text": [
      "                 Class     Images  Instances      Box(P          R      mAP50  mAP50-95): 100%|██████████| 10/10 [00:58<00:00,  5.82s/it]"
     ]
    },
    {
     "name": "stdout",
     "output_type": "stream",
     "text": [
      "                   all        319        514      0.692      0.265      0.265      0.167\n"
     ]
    },
    {
     "name": "stderr",
     "output_type": "stream",
     "text": [
      "\n"
     ]
    },
    {
     "name": "stdout",
     "output_type": "stream",
     "text": [
      "\n",
      "      Epoch    GPU_mem   box_loss   cls_loss   dfl_loss  Instances       Size\n"
     ]
    },
    {
     "name": "stderr",
     "output_type": "stream",
     "text": [
      "       6/50        10G       1.24      1.421      1.256         16        640: 100%|██████████| 27/27 [01:32<00:00,  3.41s/it]\n",
      "                 Class     Images  Instances      Box(P          R      mAP50  mAP50-95):   0%|          | 0/10 [00:00<?, ?it/s]"
     ]
    },
    {
     "name": "stdout",
     "output_type": "stream",
     "text": [
      "WARNING ⚠️ NMS time limit 3.600s exceeded\n"
     ]
    },
    {
     "name": "stderr",
     "output_type": "stream",
     "text": [
      "                 Class     Images  Instances      Box(P          R      mAP50  mAP50-95):  10%|█         | 1/10 [00:05<00:52,  5.86s/it]"
     ]
    },
    {
     "name": "stdout",
     "output_type": "stream",
     "text": [
      "WARNING ⚠️ NMS time limit 3.600s exceeded\n"
     ]
    },
    {
     "name": "stderr",
     "output_type": "stream",
     "text": [
      "                 Class     Images  Instances      Box(P          R      mAP50  mAP50-95):  20%|██        | 2/10 [00:11<00:45,  5.69s/it]"
     ]
    },
    {
     "name": "stdout",
     "output_type": "stream",
     "text": [
      "WARNING ⚠️ NMS time limit 3.600s exceeded\n"
     ]
    },
    {
     "name": "stderr",
     "output_type": "stream",
     "text": [
      "                 Class     Images  Instances      Box(P          R      mAP50  mAP50-95):  30%|███       | 3/10 [00:17<00:41,  5.86s/it]"
     ]
    },
    {
     "name": "stdout",
     "output_type": "stream",
     "text": [
      "WARNING ⚠️ NMS time limit 3.600s exceeded\n"
     ]
    },
    {
     "name": "stderr",
     "output_type": "stream",
     "text": [
      "                 Class     Images  Instances      Box(P          R      mAP50  mAP50-95):  40%|████      | 4/10 [00:23<00:34,  5.82s/it]"
     ]
    },
    {
     "name": "stdout",
     "output_type": "stream",
     "text": [
      "WARNING ⚠️ NMS time limit 3.600s exceeded\n"
     ]
    },
    {
     "name": "stderr",
     "output_type": "stream",
     "text": [
      "                 Class     Images  Instances      Box(P          R      mAP50  mAP50-95):  50%|█████     | 5/10 [00:29<00:29,  5.88s/it]"
     ]
    },
    {
     "name": "stdout",
     "output_type": "stream",
     "text": [
      "WARNING ⚠️ NMS time limit 3.600s exceeded\n"
     ]
    },
    {
     "name": "stderr",
     "output_type": "stream",
     "text": [
      "                 Class     Images  Instances      Box(P          R      mAP50  mAP50-95):  60%|██████    | 6/10 [00:34<00:22,  5.72s/it]"
     ]
    },
    {
     "name": "stdout",
     "output_type": "stream",
     "text": [
      "WARNING ⚠️ NMS time limit 3.600s exceeded\n"
     ]
    },
    {
     "name": "stderr",
     "output_type": "stream",
     "text": [
      "                 Class     Images  Instances      Box(P          R      mAP50  mAP50-95):  70%|███████   | 7/10 [00:40<00:17,  5.86s/it]"
     ]
    },
    {
     "name": "stdout",
     "output_type": "stream",
     "text": [
      "WARNING ⚠️ NMS time limit 3.600s exceeded\n"
     ]
    },
    {
     "name": "stderr",
     "output_type": "stream",
     "text": [
      "                 Class     Images  Instances      Box(P          R      mAP50  mAP50-95):  80%|████████  | 8/10 [00:46<00:11,  5.83s/it]"
     ]
    },
    {
     "name": "stdout",
     "output_type": "stream",
     "text": [
      "WARNING ⚠️ NMS time limit 3.600s exceeded\n"
     ]
    },
    {
     "name": "stderr",
     "output_type": "stream",
     "text": [
      "                 Class     Images  Instances      Box(P          R      mAP50  mAP50-95):  90%|█████████ | 9/10 [00:52<00:05,  5.75s/it]"
     ]
    },
    {
     "name": "stdout",
     "output_type": "stream",
     "text": [
      "WARNING ⚠️ NMS time limit 3.550s exceeded\n"
     ]
    },
    {
     "name": "stderr",
     "output_type": "stream",
     "text": [
      "                 Class     Images  Instances      Box(P          R      mAP50  mAP50-95): 100%|██████████| 10/10 [00:58<00:00,  5.83s/it]"
     ]
    },
    {
     "name": "stdout",
     "output_type": "stream",
     "text": [
      "                   all        319        514      0.828      0.266      0.275      0.182\n"
     ]
    },
    {
     "name": "stderr",
     "output_type": "stream",
     "text": [
      "\n"
     ]
    },
    {
     "name": "stdout",
     "output_type": "stream",
     "text": [
      "\n",
      "      Epoch    GPU_mem   box_loss   cls_loss   dfl_loss  Instances       Size\n"
     ]
    },
    {
     "name": "stderr",
     "output_type": "stream",
     "text": [
      "       7/50      10.1G      1.218      1.317       1.22         22        640: 100%|██████████| 27/27 [01:32<00:00,  3.44s/it]\n",
      "                 Class     Images  Instances      Box(P          R      mAP50  mAP50-95):   0%|          | 0/10 [00:00<?, ?it/s]"
     ]
    },
    {
     "name": "stdout",
     "output_type": "stream",
     "text": [
      "WARNING ⚠️ NMS time limit 3.600s exceeded\n"
     ]
    },
    {
     "name": "stderr",
     "output_type": "stream",
     "text": [
      "                 Class     Images  Instances      Box(P          R      mAP50  mAP50-95):  10%|█         | 1/10 [00:04<00:43,  4.87s/it]"
     ]
    },
    {
     "name": "stdout",
     "output_type": "stream",
     "text": [
      "WARNING ⚠️ NMS time limit 3.600s exceeded\n"
     ]
    },
    {
     "name": "stderr",
     "output_type": "stream",
     "text": [
      "                 Class     Images  Instances      Box(P          R      mAP50  mAP50-95):  20%|██        | 2/10 [00:10<00:44,  5.51s/it]"
     ]
    },
    {
     "name": "stdout",
     "output_type": "stream",
     "text": [
      "WARNING ⚠️ NMS time limit 3.600s exceeded\n"
     ]
    },
    {
     "name": "stderr",
     "output_type": "stream",
     "text": [
      "                 Class     Images  Instances      Box(P          R      mAP50  mAP50-95):  30%|███       | 3/10 [00:16<00:38,  5.57s/it]"
     ]
    },
    {
     "name": "stdout",
     "output_type": "stream",
     "text": [
      "WARNING ⚠️ NMS time limit 3.600s exceeded\n"
     ]
    },
    {
     "name": "stderr",
     "output_type": "stream",
     "text": [
      "                 Class     Images  Instances      Box(P          R      mAP50  mAP50-95):  40%|████      | 4/10 [00:22<00:33,  5.58s/it]"
     ]
    },
    {
     "name": "stdout",
     "output_type": "stream",
     "text": [
      "WARNING ⚠️ NMS time limit 3.600s exceeded\n"
     ]
    },
    {
     "name": "stderr",
     "output_type": "stream",
     "text": [
      "                 Class     Images  Instances      Box(P          R      mAP50  mAP50-95):  50%|█████     | 5/10 [00:27<00:27,  5.59s/it]"
     ]
    },
    {
     "name": "stdout",
     "output_type": "stream",
     "text": [
      "WARNING ⚠️ NMS time limit 3.600s exceeded\n"
     ]
    },
    {
     "name": "stderr",
     "output_type": "stream",
     "text": [
      "                 Class     Images  Instances      Box(P          R      mAP50  mAP50-95):  60%|██████    | 6/10 [00:33<00:22,  5.53s/it]"
     ]
    },
    {
     "name": "stdout",
     "output_type": "stream",
     "text": [
      "WARNING ⚠️ NMS time limit 3.600s exceeded\n"
     ]
    },
    {
     "name": "stderr",
     "output_type": "stream",
     "text": [
      "                 Class     Images  Instances      Box(P          R      mAP50  mAP50-95):  70%|███████   | 7/10 [00:38<00:16,  5.59s/it]"
     ]
    },
    {
     "name": "stdout",
     "output_type": "stream",
     "text": [
      "WARNING ⚠️ NMS time limit 3.600s exceeded\n"
     ]
    },
    {
     "name": "stderr",
     "output_type": "stream",
     "text": [
      "                 Class     Images  Instances      Box(P          R      mAP50  mAP50-95):  80%|████████  | 8/10 [00:44<00:11,  5.66s/it]"
     ]
    },
    {
     "name": "stdout",
     "output_type": "stream",
     "text": [
      "WARNING ⚠️ NMS time limit 3.600s exceeded\n"
     ]
    },
    {
     "name": "stderr",
     "output_type": "stream",
     "text": [
      "                 Class     Images  Instances      Box(P          R      mAP50  mAP50-95):  90%|█████████ | 9/10 [00:50<00:05,  5.60s/it]"
     ]
    },
    {
     "name": "stdout",
     "output_type": "stream",
     "text": [
      "WARNING ⚠️ NMS time limit 3.550s exceeded\n"
     ]
    },
    {
     "name": "stderr",
     "output_type": "stream",
     "text": [
      "                 Class     Images  Instances      Box(P          R      mAP50  mAP50-95): 100%|██████████| 10/10 [00:55<00:00,  5.57s/it]"
     ]
    },
    {
     "name": "stdout",
     "output_type": "stream",
     "text": [
      "                   all        319        514      0.786      0.312      0.331      0.226\n"
     ]
    },
    {
     "name": "stderr",
     "output_type": "stream",
     "text": [
      "\n"
     ]
    },
    {
     "name": "stdout",
     "output_type": "stream",
     "text": [
      "\n",
      "      Epoch    GPU_mem   box_loss   cls_loss   dfl_loss  Instances       Size\n"
     ]
    },
    {
     "name": "stderr",
     "output_type": "stream",
     "text": [
      "       8/50      10.2G      1.194      1.221      1.207         26        640: 100%|██████████| 27/27 [01:46<00:00,  3.94s/it]\n",
      "                 Class     Images  Instances      Box(P          R      mAP50  mAP50-95):   0%|          | 0/10 [00:00<?, ?it/s]"
     ]
    },
    {
     "name": "stdout",
     "output_type": "stream",
     "text": [
      "WARNING ⚠️ NMS time limit 3.600s exceeded\n"
     ]
    },
    {
     "name": "stderr",
     "output_type": "stream",
     "text": [
      "                 Class     Images  Instances      Box(P          R      mAP50  mAP50-95):  10%|█         | 1/10 [00:04<00:43,  4.82s/it]"
     ]
    },
    {
     "name": "stdout",
     "output_type": "stream",
     "text": [
      "WARNING ⚠️ NMS time limit 3.600s exceeded\n"
     ]
    },
    {
     "name": "stderr",
     "output_type": "stream",
     "text": [
      "                 Class     Images  Instances      Box(P          R      mAP50  mAP50-95):  20%|██        | 2/10 [00:10<00:41,  5.21s/it]"
     ]
    },
    {
     "name": "stdout",
     "output_type": "stream",
     "text": [
      "WARNING ⚠️ NMS time limit 3.600s exceeded\n"
     ]
    },
    {
     "name": "stderr",
     "output_type": "stream",
     "text": [
      "                 Class     Images  Instances      Box(P          R      mAP50  mAP50-95):  30%|███       | 3/10 [00:16<00:39,  5.63s/it]"
     ]
    },
    {
     "name": "stdout",
     "output_type": "stream",
     "text": [
      "WARNING ⚠️ NMS time limit 3.600s exceeded\n"
     ]
    },
    {
     "name": "stderr",
     "output_type": "stream",
     "text": [
      "                 Class     Images  Instances      Box(P          R      mAP50  mAP50-95):  40%|████      | 4/10 [00:23<00:36,  6.09s/it]"
     ]
    },
    {
     "name": "stdout",
     "output_type": "stream",
     "text": [
      "WARNING ⚠️ NMS time limit 3.600s exceeded\n"
     ]
    },
    {
     "name": "stderr",
     "output_type": "stream",
     "text": [
      "                 Class     Images  Instances      Box(P          R      mAP50  mAP50-95):  50%|█████     | 5/10 [00:30<00:32,  6.54s/it]"
     ]
    },
    {
     "name": "stdout",
     "output_type": "stream",
     "text": [
      "WARNING ⚠️ NMS time limit 3.600s exceeded\n"
     ]
    },
    {
     "name": "stderr",
     "output_type": "stream",
     "text": [
      "                 Class     Images  Instances      Box(P          R      mAP50  mAP50-95):  60%|██████    | 6/10 [00:36<00:24,  6.23s/it]"
     ]
    },
    {
     "name": "stdout",
     "output_type": "stream",
     "text": [
      "WARNING ⚠️ NMS time limit 3.600s exceeded\n"
     ]
    },
    {
     "name": "stderr",
     "output_type": "stream",
     "text": [
      "                 Class     Images  Instances      Box(P          R      mAP50  mAP50-95):  70%|███████   | 7/10 [00:42<00:18,  6.11s/it]"
     ]
    },
    {
     "name": "stdout",
     "output_type": "stream",
     "text": [
      "WARNING ⚠️ NMS time limit 3.600s exceeded\n"
     ]
    },
    {
     "name": "stderr",
     "output_type": "stream",
     "text": [
      "                 Class     Images  Instances      Box(P          R      mAP50  mAP50-95):  80%|████████  | 8/10 [00:48<00:12,  6.11s/it]"
     ]
    },
    {
     "name": "stdout",
     "output_type": "stream",
     "text": [
      "WARNING ⚠️ NMS time limit 3.600s exceeded\n"
     ]
    },
    {
     "name": "stderr",
     "output_type": "stream",
     "text": [
      "                 Class     Images  Instances      Box(P          R      mAP50  mAP50-95):  90%|█████████ | 9/10 [00:53<00:05,  5.96s/it]"
     ]
    },
    {
     "name": "stdout",
     "output_type": "stream",
     "text": [
      "WARNING ⚠️ NMS time limit 3.550s exceeded\n"
     ]
    },
    {
     "name": "stderr",
     "output_type": "stream",
     "text": [
      "                 Class     Images  Instances      Box(P          R      mAP50  mAP50-95): 100%|██████████| 10/10 [00:59<00:00,  5.94s/it]\n"
     ]
    },
    {
     "name": "stdout",
     "output_type": "stream",
     "text": [
      "                   all        319        514      0.877      0.332      0.355      0.228\n",
      "\n",
      "      Epoch    GPU_mem   box_loss   cls_loss   dfl_loss  Instances       Size\n"
     ]
    },
    {
     "name": "stderr",
     "output_type": "stream",
     "text": [
      "       9/50      10.3G      1.195      1.186      1.224         27        640: 100%|██████████| 27/27 [01:51<00:00,  4.12s/it]\n",
      "                 Class     Images  Instances      Box(P          R      mAP50  mAP50-95):   0%|          | 0/10 [00:00<?, ?it/s]"
     ]
    },
    {
     "name": "stdout",
     "output_type": "stream",
     "text": [
      "WARNING ⚠️ NMS time limit 3.600s exceeded\n"
     ]
    },
    {
     "name": "stderr",
     "output_type": "stream",
     "text": [
      "                 Class     Images  Instances      Box(P          R      mAP50  mAP50-95):  10%|█         | 1/10 [00:04<00:43,  4.88s/it]"
     ]
    },
    {
     "name": "stdout",
     "output_type": "stream",
     "text": [
      "WARNING ⚠️ NMS time limit 3.600s exceeded\n"
     ]
    },
    {
     "name": "stderr",
     "output_type": "stream",
     "text": [
      "                 Class     Images  Instances      Box(P          R      mAP50  mAP50-95):  20%|██        | 2/10 [00:10<00:42,  5.28s/it]"
     ]
    },
    {
     "name": "stdout",
     "output_type": "stream",
     "text": [
      "WARNING ⚠️ NMS time limit 3.600s exceeded\n"
     ]
    },
    {
     "name": "stderr",
     "output_type": "stream",
     "text": [
      "                 Class     Images  Instances      Box(P          R      mAP50  mAP50-95):  30%|███       | 3/10 [00:16<00:40,  5.77s/it]"
     ]
    },
    {
     "name": "stdout",
     "output_type": "stream",
     "text": [
      "WARNING ⚠️ NMS time limit 3.600s exceeded\n"
     ]
    },
    {
     "name": "stderr",
     "output_type": "stream",
     "text": [
      "                 Class     Images  Instances      Box(P          R      mAP50  mAP50-95):  40%|████      | 4/10 [00:22<00:35,  5.93s/it]"
     ]
    },
    {
     "name": "stdout",
     "output_type": "stream",
     "text": [
      "WARNING ⚠️ NMS time limit 3.600s exceeded\n"
     ]
    },
    {
     "name": "stderr",
     "output_type": "stream",
     "text": [
      "                 Class     Images  Instances      Box(P          R      mAP50  mAP50-95):  50%|█████     | 5/10 [00:28<00:28,  5.80s/it]"
     ]
    },
    {
     "name": "stdout",
     "output_type": "stream",
     "text": [
      "WARNING ⚠️ NMS time limit 3.600s exceeded\n"
     ]
    },
    {
     "name": "stderr",
     "output_type": "stream",
     "text": [
      "                 Class     Images  Instances      Box(P          R      mAP50  mAP50-95):  60%|██████    | 6/10 [00:34<00:23,  5.87s/it]"
     ]
    },
    {
     "name": "stdout",
     "output_type": "stream",
     "text": [
      "WARNING ⚠️ NMS time limit 3.600s exceeded\n"
     ]
    },
    {
     "name": "stderr",
     "output_type": "stream",
     "text": [
      "                 Class     Images  Instances      Box(P          R      mAP50  mAP50-95):  80%|████████  | 8/10 [00:46<00:11,  5.92s/it]"
     ]
    },
    {
     "name": "stdout",
     "output_type": "stream",
     "text": [
      "WARNING ⚠️ NMS time limit 3.600s exceeded\n"
     ]
    },
    {
     "name": "stderr",
     "output_type": "stream",
     "text": [
      "                 Class     Images  Instances      Box(P          R      mAP50  mAP50-95):  90%|█████████ | 9/10 [00:53<00:06,  6.18s/it]"
     ]
    },
    {
     "name": "stdout",
     "output_type": "stream",
     "text": [
      "WARNING ⚠️ NMS time limit 3.550s exceeded\n"
     ]
    },
    {
     "name": "stderr",
     "output_type": "stream",
     "text": [
      "                 Class     Images  Instances      Box(P          R      mAP50  mAP50-95): 100%|██████████| 10/10 [00:58<00:00,  5.88s/it]\n"
     ]
    },
    {
     "name": "stdout",
     "output_type": "stream",
     "text": [
      "                   all        319        514      0.899       0.59      0.623        0.4\n",
      "\n",
      "      Epoch    GPU_mem   box_loss   cls_loss   dfl_loss  Instances       Size\n"
     ]
    },
    {
     "name": "stderr",
     "output_type": "stream",
     "text": [
      "      10/50      10.5G      1.168      1.114      1.216         18        640: 100%|██████████| 27/27 [01:53<00:00,  4.19s/it]\n",
      "                 Class     Images  Instances      Box(P          R      mAP50  mAP50-95): 100%|██████████| 10/10 [00:51<00:00,  5.20s/it]"
     ]
    },
    {
     "name": "stdout",
     "output_type": "stream",
     "text": [
      "                   all        319        514      0.914      0.853      0.912      0.624\n"
     ]
    },
    {
     "name": "stderr",
     "output_type": "stream",
     "text": [
      "\n"
     ]
    },
    {
     "name": "stdout",
     "output_type": "stream",
     "text": [
      "\n",
      "      Epoch    GPU_mem   box_loss   cls_loss   dfl_loss  Instances       Size\n"
     ]
    },
    {
     "name": "stderr",
     "output_type": "stream",
     "text": [
      "      11/50      10.6G      1.159      1.055      1.214         32        640: 100%|██████████| 27/27 [01:56<00:00,  4.33s/it]\n",
      "                 Class     Images  Instances      Box(P          R      mAP50  mAP50-95):   0%|          | 0/10 [00:00<?, ?it/s]"
     ]
    },
    {
     "name": "stdout",
     "output_type": "stream",
     "text": [
      "WARNING ⚠️ NMS time limit 3.600s exceeded\n"
     ]
    },
    {
     "name": "stderr",
     "output_type": "stream",
     "text": [
      "                 Class     Images  Instances      Box(P          R      mAP50  mAP50-95):  10%|█         | 1/10 [00:12<01:51, 12.43s/it]"
     ]
    },
    {
     "name": "stdout",
     "output_type": "stream",
     "text": [
      "WARNING ⚠️ NMS time limit 3.600s exceeded\n"
     ]
    },
    {
     "name": "stderr",
     "output_type": "stream",
     "text": [
      "                 Class     Images  Instances      Box(P          R      mAP50  mAP50-95):  20%|██        | 2/10 [00:27<01:52, 14.08s/it]"
     ]
    },
    {
     "name": "stdout",
     "output_type": "stream",
     "text": [
      "WARNING ⚠️ NMS time limit 3.600s exceeded\n"
     ]
    },
    {
     "name": "stderr",
     "output_type": "stream",
     "text": [
      "                 Class     Images  Instances      Box(P          R      mAP50  mAP50-95):  30%|███       | 3/10 [00:35<01:19, 11.37s/it]"
     ]
    },
    {
     "name": "stdout",
     "output_type": "stream",
     "text": [
      "WARNING ⚠️ NMS time limit 3.600s exceeded\n"
     ]
    },
    {
     "name": "stderr",
     "output_type": "stream",
     "text": [
      "                 Class     Images  Instances      Box(P          R      mAP50  mAP50-95):  40%|████      | 4/10 [00:46<01:07, 11.24s/it]"
     ]
    },
    {
     "name": "stdout",
     "output_type": "stream",
     "text": [
      "WARNING ⚠️ NMS time limit 3.600s exceeded\n"
     ]
    },
    {
     "name": "stderr",
     "output_type": "stream",
     "text": [
      "                 Class     Images  Instances      Box(P          R      mAP50  mAP50-95):  60%|██████    | 6/10 [01:05<00:40, 10.16s/it]"
     ]
    },
    {
     "name": "stdout",
     "output_type": "stream",
     "text": [
      "WARNING ⚠️ NMS time limit 3.600s exceeded\n"
     ]
    },
    {
     "name": "stderr",
     "output_type": "stream",
     "text": [
      "                 Class     Images  Instances      Box(P          R      mAP50  mAP50-95):  70%|███████   | 7/10 [01:17<00:32, 10.78s/it]"
     ]
    },
    {
     "name": "stdout",
     "output_type": "stream",
     "text": [
      "WARNING ⚠️ NMS time limit 3.600s exceeded\n"
     ]
    },
    {
     "name": "stderr",
     "output_type": "stream",
     "text": [
      "                 Class     Images  Instances      Box(P          R      mAP50  mAP50-95): 100%|██████████| 10/10 [01:40<00:00, 10.03s/it]\n"
     ]
    },
    {
     "name": "stdout",
     "output_type": "stream",
     "text": [
      "                   all        319        514      0.935      0.725      0.772       0.53\n",
      "\n",
      "      Epoch    GPU_mem   box_loss   cls_loss   dfl_loss  Instances       Size\n"
     ]
    },
    {
     "name": "stderr",
     "output_type": "stream",
     "text": [
      "      12/50      10.7G       1.14      1.055      1.204         29        640: 100%|██████████| 27/27 [02:16<00:00,  5.05s/it]\n",
      "                 Class     Images  Instances      Box(P          R      mAP50  mAP50-95): 100%|██████████| 10/10 [01:01<00:00,  6.10s/it]"
     ]
    },
    {
     "name": "stdout",
     "output_type": "stream",
     "text": [
      "                   all        319        514      0.921      0.879      0.932      0.634\n"
     ]
    },
    {
     "name": "stderr",
     "output_type": "stream",
     "text": [
      "\n"
     ]
    },
    {
     "name": "stdout",
     "output_type": "stream",
     "text": [
      "\n",
      "      Epoch    GPU_mem   box_loss   cls_loss   dfl_loss  Instances       Size\n"
     ]
    },
    {
     "name": "stderr",
     "output_type": "stream",
     "text": [
      "      13/50      10.9G      1.116      1.038      1.185         29        640: 100%|██████████| 27/27 [02:10<00:00,  4.84s/it]\n",
      "                 Class     Images  Instances      Box(P          R      mAP50  mAP50-95): 100%|██████████| 10/10 [00:53<00:00,  5.32s/it]"
     ]
    },
    {
     "name": "stdout",
     "output_type": "stream",
     "text": [
      "                   all        319        514      0.945      0.879      0.935      0.651\n"
     ]
    },
    {
     "name": "stderr",
     "output_type": "stream",
     "text": [
      "\n"
     ]
    },
    {
     "name": "stdout",
     "output_type": "stream",
     "text": [
      "\n",
      "      Epoch    GPU_mem   box_loss   cls_loss   dfl_loss  Instances       Size\n"
     ]
    },
    {
     "name": "stderr",
     "output_type": "stream",
     "text": [
      "      14/50      11.1G      1.119      1.001      1.188         31        640: 100%|██████████| 27/27 [02:09<00:00,  4.78s/it]\n",
      "                 Class     Images  Instances      Box(P          R      mAP50  mAP50-95): 100%|██████████| 10/10 [00:51<00:00,  5.15s/it]\n"
     ]
    },
    {
     "name": "stdout",
     "output_type": "stream",
     "text": [
      "                   all        319        514      0.962      0.874      0.934      0.653\n",
      "\n",
      "      Epoch    GPU_mem   box_loss   cls_loss   dfl_loss  Instances       Size\n"
     ]
    },
    {
     "name": "stderr",
     "output_type": "stream",
     "text": [
      "      15/50      11.2G      1.106     0.9792      1.186         22        640: 100%|██████████| 27/27 [02:37<00:00,  5.82s/it]\n",
      "                 Class     Images  Instances      Box(P          R      mAP50  mAP50-95): 100%|██████████| 10/10 [00:35<00:00,  3.50s/it]"
     ]
    },
    {
     "name": "stdout",
     "output_type": "stream",
     "text": [
      "                   all        319        514      0.959      0.892      0.944      0.663\n"
     ]
    },
    {
     "name": "stderr",
     "output_type": "stream",
     "text": [
      "\n"
     ]
    },
    {
     "name": "stdout",
     "output_type": "stream",
     "text": [
      "\n",
      "      Epoch    GPU_mem   box_loss   cls_loss   dfl_loss  Instances       Size\n"
     ]
    },
    {
     "name": "stderr",
     "output_type": "stream",
     "text": [
      "      16/50      11.4G      1.097     0.9376      1.184         28        640: 100%|██████████| 27/27 [02:39<00:00,  5.91s/it]\n",
      "                 Class     Images  Instances      Box(P          R      mAP50  mAP50-95): 100%|██████████| 10/10 [00:36<00:00,  3.66s/it]"
     ]
    },
    {
     "name": "stdout",
     "output_type": "stream",
     "text": [
      "                   all        319        514      0.937      0.898      0.942      0.664\n"
     ]
    },
    {
     "name": "stderr",
     "output_type": "stream",
     "text": [
      "\n"
     ]
    },
    {
     "name": "stdout",
     "output_type": "stream",
     "text": [
      "\n",
      "      Epoch    GPU_mem   box_loss   cls_loss   dfl_loss  Instances       Size\n"
     ]
    },
    {
     "name": "stderr",
     "output_type": "stream",
     "text": [
      "      17/50      11.6G      1.088     0.9329      1.182         33        640: 100%|██████████| 27/27 [02:07<00:00,  4.73s/it]\n",
      "                 Class     Images  Instances      Box(P          R      mAP50  mAP50-95): 100%|██████████| 10/10 [00:35<00:00,  3.56s/it]\n"
     ]
    },
    {
     "name": "stdout",
     "output_type": "stream",
     "text": [
      "                   all        319        514       0.96      0.896      0.951      0.669\n",
      "\n",
      "      Epoch    GPU_mem   box_loss   cls_loss   dfl_loss  Instances       Size\n"
     ]
    },
    {
     "name": "stderr",
     "output_type": "stream",
     "text": [
      "      18/50      11.8G      1.082      0.884      1.176         27        640: 100%|██████████| 27/27 [02:18<00:00,  5.12s/it]\n",
      "                 Class     Images  Instances      Box(P          R      mAP50  mAP50-95): 100%|██████████| 10/10 [00:43<00:00,  4.31s/it]\n"
     ]
    },
    {
     "name": "stdout",
     "output_type": "stream",
     "text": [
      "                   all        319        514      0.953      0.896      0.963      0.683\n",
      "\n",
      "      Epoch    GPU_mem   box_loss   cls_loss   dfl_loss  Instances       Size\n"
     ]
    },
    {
     "name": "stderr",
     "output_type": "stream",
     "text": [
      "      19/50        12G      1.082     0.8916      1.165         19        640: 100%|██████████| 27/27 [02:49<00:00,  6.29s/it]\n",
      "                 Class     Images  Instances      Box(P          R      mAP50  mAP50-95): 100%|██████████| 10/10 [00:36<00:00,  3.65s/it]"
     ]
    },
    {
     "name": "stdout",
     "output_type": "stream",
     "text": [
      "                   all        319        514      0.951      0.892      0.954      0.674\n"
     ]
    },
    {
     "name": "stderr",
     "output_type": "stream",
     "text": [
      "\n"
     ]
    },
    {
     "name": "stdout",
     "output_type": "stream",
     "text": [
      "\n",
      "      Epoch    GPU_mem   box_loss   cls_loss   dfl_loss  Instances       Size\n"
     ]
    },
    {
     "name": "stderr",
     "output_type": "stream",
     "text": [
      "      20/50      12.2G      1.057      0.883       1.16         24        640: 100%|██████████| 27/27 [02:37<00:00,  5.84s/it]\n",
      "                 Class     Images  Instances      Box(P          R      mAP50  mAP50-95): 100%|██████████| 10/10 [00:40<00:00,  4.09s/it]\n"
     ]
    },
    {
     "name": "stdout",
     "output_type": "stream",
     "text": [
      "                   all        319        514      0.965      0.894      0.965      0.693\n",
      "\n",
      "      Epoch    GPU_mem   box_loss   cls_loss   dfl_loss  Instances       Size\n"
     ]
    },
    {
     "name": "stderr",
     "output_type": "stream",
     "text": [
      "      21/50      12.4G      1.034     0.8452      1.156         23        640: 100%|██████████| 27/27 [02:27<00:00,  5.45s/it]\n",
      "                 Class     Images  Instances      Box(P          R      mAP50  mAP50-95): 100%|██████████| 10/10 [00:30<00:00,  3.10s/it]\n"
     ]
    },
    {
     "name": "stdout",
     "output_type": "stream",
     "text": [
      "                   all        319        514      0.937      0.903      0.962      0.697\n",
      "\n",
      "      Epoch    GPU_mem   box_loss   cls_loss   dfl_loss  Instances       Size\n"
     ]
    },
    {
     "name": "stderr",
     "output_type": "stream",
     "text": [
      "      22/50      12.6G      1.046     0.8209      1.163         17        640: 100%|██████████| 27/27 [02:45<00:00,  6.11s/it]\n",
      "                 Class     Images  Instances      Box(P          R      mAP50  mAP50-95): 100%|██████████| 10/10 [00:23<00:00,  2.38s/it]\n"
     ]
    },
    {
     "name": "stdout",
     "output_type": "stream",
     "text": [
      "                   all        319        514      0.938      0.899      0.961      0.709\n",
      "\n",
      "      Epoch    GPU_mem   box_loss   cls_loss   dfl_loss  Instances       Size\n"
     ]
    },
    {
     "name": "stderr",
     "output_type": "stream",
     "text": [
      "      23/50      12.9G      1.052     0.8355      1.156         24        640: 100%|██████████| 27/27 [03:00<00:00,  6.68s/it]\n",
      "                 Class     Images  Instances      Box(P          R      mAP50  mAP50-95): 100%|██████████| 10/10 [00:30<00:00,  3.07s/it]\n"
     ]
    },
    {
     "name": "stdout",
     "output_type": "stream",
     "text": [
      "                   all        319        514      0.976      0.904      0.973      0.704\n",
      "\n",
      "      Epoch    GPU_mem   box_loss   cls_loss   dfl_loss  Instances       Size\n"
     ]
    },
    {
     "name": "stderr",
     "output_type": "stream",
     "text": [
      "      24/50      13.1G      1.012     0.8125      1.135         32        640: 100%|██████████| 27/27 [02:32<00:00,  5.65s/it]\n",
      "                 Class     Images  Instances      Box(P          R      mAP50  mAP50-95): 100%|██████████| 10/10 [00:30<00:00,  3.10s/it]\n"
     ]
    },
    {
     "name": "stdout",
     "output_type": "stream",
     "text": [
      "                   all        319        514      0.971      0.921      0.973      0.713\n",
      "\n",
      "      Epoch    GPU_mem   box_loss   cls_loss   dfl_loss  Instances       Size\n"
     ]
    },
    {
     "name": "stderr",
     "output_type": "stream",
     "text": [
      "      25/50      13.3G      1.017     0.7957      1.132         21        640: 100%|██████████| 27/27 [03:13<00:00,  7.15s/it]\n",
      "                 Class     Images  Instances      Box(P          R      mAP50  mAP50-95): 100%|██████████| 10/10 [00:29<00:00,  2.94s/it]\n"
     ]
    },
    {
     "name": "stdout",
     "output_type": "stream",
     "text": [
      "                   all        319        514      0.963      0.915      0.973      0.716\n",
      "\n",
      "      Epoch    GPU_mem   box_loss   cls_loss   dfl_loss  Instances       Size\n"
     ]
    },
    {
     "name": "stderr",
     "output_type": "stream",
     "text": [
      "      26/50      13.5G     0.9818     0.7775      1.119         29        640: 100%|██████████| 27/27 [02:16<00:00,  5.04s/it]\n",
      "                 Class     Images  Instances      Box(P          R      mAP50  mAP50-95): 100%|██████████| 10/10 [00:26<00:00,  2.60s/it]\n"
     ]
    },
    {
     "name": "stdout",
     "output_type": "stream",
     "text": [
      "                   all        319        514      0.976      0.906      0.971      0.719\n",
      "\n",
      "      Epoch    GPU_mem   box_loss   cls_loss   dfl_loss  Instances       Size\n"
     ]
    },
    {
     "name": "stderr",
     "output_type": "stream",
     "text": [
      "      27/50      13.7G      1.014     0.7837      1.133         34        640: 100%|██████████| 27/27 [02:44<00:00,  6.11s/it]\n",
      "                 Class     Images  Instances      Box(P          R      mAP50  mAP50-95): 100%|██████████| 10/10 [00:25<00:00,  2.52s/it]\n"
     ]
    },
    {
     "name": "stdout",
     "output_type": "stream",
     "text": [
      "                   all        319        514       0.97      0.917      0.973      0.719\n",
      "\n",
      "      Epoch    GPU_mem   box_loss   cls_loss   dfl_loss  Instances       Size\n"
     ]
    },
    {
     "name": "stderr",
     "output_type": "stream",
     "text": [
      "      28/50      13.9G     0.9908     0.7372       1.13         19        640: 100%|██████████| 27/27 [03:18<00:00,  7.33s/it]\n",
      "                 Class     Images  Instances      Box(P          R      mAP50  mAP50-95): 100%|██████████| 10/10 [00:34<00:00,  3.44s/it]\n"
     ]
    },
    {
     "name": "stdout",
     "output_type": "stream",
     "text": [
      "                   all        319        514      0.978       0.92      0.973      0.732\n",
      "\n",
      "      Epoch    GPU_mem   box_loss   cls_loss   dfl_loss  Instances       Size\n"
     ]
    },
    {
     "name": "stderr",
     "output_type": "stream",
     "text": [
      "      29/50      14.1G      0.982     0.7596      1.138         25        640: 100%|██████████| 27/27 [03:31<00:00,  7.83s/it]\n",
      "                 Class     Images  Instances      Box(P          R      mAP50  mAP50-95): 100%|██████████| 10/10 [00:26<00:00,  2.61s/it]\n"
     ]
    },
    {
     "name": "stdout",
     "output_type": "stream",
     "text": [
      "                   all        319        514       0.97      0.934      0.976      0.742\n",
      "\n",
      "      Epoch    GPU_mem   box_loss   cls_loss   dfl_loss  Instances       Size\n"
     ]
    },
    {
     "name": "stderr",
     "output_type": "stream",
     "text": [
      "      30/50      14.4G      0.985     0.7375      1.135         24        640: 100%|██████████| 27/27 [03:41<00:00,  8.19s/it]\n",
      "                 Class     Images  Instances      Box(P          R      mAP50  mAP50-95): 100%|██████████| 10/10 [00:31<00:00,  3.17s/it]\n"
     ]
    },
    {
     "name": "stdout",
     "output_type": "stream",
     "text": [
      "                   all        319        514      0.947      0.939      0.979      0.744\n",
      "\n",
      "      Epoch    GPU_mem   box_loss   cls_loss   dfl_loss  Instances       Size\n"
     ]
    },
    {
     "name": "stderr",
     "output_type": "stream",
     "text": [
      "      31/50      14.5G     0.9538     0.7303      1.107         27        640: 100%|██████████| 27/27 [03:34<00:00,  7.93s/it]\n",
      "                 Class     Images  Instances      Box(P          R      mAP50  mAP50-95): 100%|██████████| 10/10 [00:25<00:00,  2.58s/it]\n"
     ]
    },
    {
     "name": "stdout",
     "output_type": "stream",
     "text": [
      "                   all        319        514      0.972       0.93      0.979      0.752\n",
      "\n",
      "      Epoch    GPU_mem   box_loss   cls_loss   dfl_loss  Instances       Size\n"
     ]
    },
    {
     "name": "stderr",
     "output_type": "stream",
     "text": [
      "      32/50      14.8G     0.9564     0.7164      1.114         38        640: 100%|██████████| 27/27 [49:25<00:00, 109.83s/it] \n",
      "                 Class     Images  Instances      Box(P          R      mAP50  mAP50-95): 100%|██████████| 10/10 [00:25<00:00,  2.56s/it]"
     ]
    },
    {
     "name": "stdout",
     "output_type": "stream",
     "text": [
      "                   all        319        514      0.944      0.949      0.979      0.746\n"
     ]
    },
    {
     "name": "stderr",
     "output_type": "stream",
     "text": [
      "\n"
     ]
    },
    {
     "name": "stdout",
     "output_type": "stream",
     "text": [
      "\n",
      "      Epoch    GPU_mem   box_loss   cls_loss   dfl_loss  Instances       Size\n"
     ]
    },
    {
     "name": "stderr",
     "output_type": "stream",
     "text": [
      "      33/50        15G     0.9509     0.6954      1.103         29        640: 100%|██████████| 27/27 [08:11<00:00, 18.21s/it]\n",
      "                 Class     Images  Instances      Box(P          R      mAP50  mAP50-95): 100%|██████████| 10/10 [00:20<00:00,  2.08s/it]\n"
     ]
    },
    {
     "name": "stdout",
     "output_type": "stream",
     "text": [
      "                   all        319        514      0.965      0.937      0.982      0.749\n",
      "\n",
      "      Epoch    GPU_mem   box_loss   cls_loss   dfl_loss  Instances       Size\n"
     ]
    },
    {
     "name": "stderr",
     "output_type": "stream",
     "text": [
      "      34/50      15.2G     0.9374     0.7185      1.098         21        640: 100%|██████████| 27/27 [03:05<00:00,  6.86s/it]\n",
      "                 Class     Images  Instances      Box(P          R      mAP50  mAP50-95): 100%|██████████| 10/10 [00:11<00:00,  1.12s/it]\n"
     ]
    },
    {
     "name": "stdout",
     "output_type": "stream",
     "text": [
      "                   all        319        514      0.967      0.959      0.985      0.759\n",
      "\n",
      "      Epoch    GPU_mem   box_loss   cls_loss   dfl_loss  Instances       Size\n"
     ]
    },
    {
     "name": "stderr",
     "output_type": "stream",
     "text": [
      "      35/50      15.4G     0.9483     0.6968       1.11         35        640: 100%|██████████| 27/27 [03:37<00:00,  8.06s/it]\n",
      "                 Class     Images  Instances      Box(P          R      mAP50  mAP50-95): 100%|██████████| 10/10 [00:16<00:00,  1.62s/it]\n"
     ]
    },
    {
     "name": "stdout",
     "output_type": "stream",
     "text": [
      "                   all        319        514      0.965      0.943      0.984      0.758\n",
      "\n",
      "      Epoch    GPU_mem   box_loss   cls_loss   dfl_loss  Instances       Size\n"
     ]
    },
    {
     "name": "stderr",
     "output_type": "stream",
     "text": [
      "      36/50      15.6G     0.9265     0.7095      1.096         26        640: 100%|██████████| 27/27 [02:48<00:00,  6.26s/it]\n",
      "                 Class     Images  Instances      Box(P          R      mAP50  mAP50-95): 100%|██████████| 10/10 [00:23<00:00,  2.38s/it]\n"
     ]
    },
    {
     "name": "stdout",
     "output_type": "stream",
     "text": [
      "                   all        319        514       0.97      0.952      0.984      0.767\n",
      "\n",
      "      Epoch    GPU_mem   box_loss   cls_loss   dfl_loss  Instances       Size\n"
     ]
    },
    {
     "name": "stderr",
     "output_type": "stream",
     "text": [
      "      37/50      15.8G       0.93     0.6753      1.096         24        640: 100%|██████████| 27/27 [03:18<00:00,  7.36s/it]\n",
      "                 Class     Images  Instances      Box(P          R      mAP50  mAP50-95): 100%|██████████| 10/10 [00:17<00:00,  1.74s/it]\n"
     ]
    },
    {
     "name": "stdout",
     "output_type": "stream",
     "text": [
      "                   all        319        514      0.944      0.984      0.987       0.77\n",
      "\n",
      "      Epoch    GPU_mem   box_loss   cls_loss   dfl_loss  Instances       Size\n"
     ]
    },
    {
     "name": "stderr",
     "output_type": "stream",
     "text": [
      "      38/50        16G       0.93     0.6786      1.093         22        640: 100%|██████████| 27/27 [05:12<00:00, 11.58s/it]\n",
      "                 Class     Images  Instances      Box(P          R      mAP50  mAP50-95): 100%|██████████| 10/10 [00:14<00:00,  1.40s/it]\n"
     ]
    },
    {
     "name": "stdout",
     "output_type": "stream",
     "text": [
      "                   all        319        514      0.961      0.978      0.989      0.767\n",
      "\n",
      "      Epoch    GPU_mem   box_loss   cls_loss   dfl_loss  Instances       Size\n"
     ]
    },
    {
     "name": "stderr",
     "output_type": "stream",
     "text": [
      "      39/50      16.1G     0.9261     0.6747      1.095         21        640: 100%|██████████| 27/27 [04:19<00:00,  9.61s/it]\n",
      "                 Class     Images  Instances      Box(P          R      mAP50  mAP50-95): 100%|██████████| 10/10 [00:14<00:00,  1.41s/it]\n"
     ]
    },
    {
     "name": "stdout",
     "output_type": "stream",
     "text": [
      "                   all        319        514      0.949      0.987      0.987      0.761\n",
      "\n",
      "      Epoch    GPU_mem   box_loss   cls_loss   dfl_loss  Instances       Size\n"
     ]
    },
    {
     "name": "stderr",
     "output_type": "stream",
     "text": [
      "      40/50      16.4G     0.9325     0.6961      1.096         27        640: 100%|██████████| 27/27 [04:28<00:00,  9.95s/it]\n",
      "                 Class     Images  Instances      Box(P          R      mAP50  mAP50-95): 100%|██████████| 10/10 [00:14<00:00,  1.46s/it]\n"
     ]
    },
    {
     "name": "stdout",
     "output_type": "stream",
     "text": [
      "                   all        319        514      0.975      0.959      0.988      0.773\n",
      "Closing dataloader mosaic\n",
      "\n",
      "      Epoch    GPU_mem   box_loss   cls_loss   dfl_loss  Instances       Size\n"
     ]
    },
    {
     "name": "stderr",
     "output_type": "stream",
     "text": [
      "      41/50      16.6G     0.8338     0.5518      1.047         13        640: 100%|██████████| 27/27 [08:10<00:00, 18.17s/it]\n",
      "                 Class     Images  Instances      Box(P          R      mAP50  mAP50-95): 100%|██████████| 10/10 [00:11<00:00,  1.19s/it]\n"
     ]
    },
    {
     "name": "stdout",
     "output_type": "stream",
     "text": [
      "                   all        319        514       0.95      0.974      0.987      0.771\n",
      "\n",
      "      Epoch    GPU_mem   box_loss   cls_loss   dfl_loss  Instances       Size\n"
     ]
    },
    {
     "name": "stderr",
     "output_type": "stream",
     "text": [
      "      42/50      16.8G     0.8261     0.5368      1.044          9        640: 100%|██████████| 27/27 [04:48<00:00, 10.67s/it]\n",
      "                 Class     Images  Instances      Box(P          R      mAP50  mAP50-95): 100%|██████████| 10/10 [00:19<00:00,  1.97s/it]\n"
     ]
    },
    {
     "name": "stdout",
     "output_type": "stream",
     "text": [
      "                   all        319        514      0.956       0.96      0.987      0.774\n",
      "\n",
      "      Epoch    GPU_mem   box_loss   cls_loss   dfl_loss  Instances       Size\n"
     ]
    },
    {
     "name": "stderr",
     "output_type": "stream",
     "text": [
      "      43/50        17G     0.8137      0.503      1.035         16        640: 100%|██████████| 27/27 [03:19<00:00,  7.40s/it]\n",
      "                 Class     Images  Instances      Box(P          R      mAP50  mAP50-95): 100%|██████████| 10/10 [00:35<00:00,  3.53s/it]\n"
     ]
    },
    {
     "name": "stdout",
     "output_type": "stream",
     "text": [
      "                   all        319        514      0.951      0.985      0.988       0.77\n",
      "\n",
      "      Epoch    GPU_mem   box_loss   cls_loss   dfl_loss  Instances       Size\n"
     ]
    },
    {
     "name": "stderr",
     "output_type": "stream",
     "text": [
      "      44/50      17.2G     0.8319     0.5071      1.049         19        640: 100%|██████████| 27/27 [04:13<00:00,  9.39s/it]\n",
      "                 Class     Images  Instances      Box(P          R      mAP50  mAP50-95): 100%|██████████| 10/10 [00:43<00:00,  4.33s/it]\n"
     ]
    },
    {
     "name": "stdout",
     "output_type": "stream",
     "text": [
      "                   all        319        514      0.962      0.989      0.991      0.778\n",
      "\n",
      "      Epoch    GPU_mem   box_loss   cls_loss   dfl_loss  Instances       Size\n"
     ]
    },
    {
     "name": "stderr",
     "output_type": "stream",
     "text": [
      "      45/50      17.4G     0.7974     0.4885      1.034         13        640: 100%|██████████| 27/27 [04:08<00:00,  9.19s/it]\n",
      "                 Class     Images  Instances      Box(P          R      mAP50  mAP50-95): 100%|██████████| 10/10 [00:11<00:00,  1.15s/it]\n"
     ]
    },
    {
     "name": "stdout",
     "output_type": "stream",
     "text": [
      "                   all        319        514      0.955      0.991       0.99      0.782\n",
      "\n",
      "      Epoch    GPU_mem   box_loss   cls_loss   dfl_loss  Instances       Size\n"
     ]
    },
    {
     "name": "stderr",
     "output_type": "stream",
     "text": [
      "      46/50      17.6G     0.7981     0.4824      1.018         17        640: 100%|██████████| 27/27 [05:08<00:00, 11.43s/it]\n",
      "                 Class     Images  Instances      Box(P          R      mAP50  mAP50-95): 100%|██████████| 10/10 [00:17<00:00,  1.80s/it]\n"
     ]
    },
    {
     "name": "stdout",
     "output_type": "stream",
     "text": [
      "                   all        319        514      0.959      0.993       0.99      0.789\n",
      "\n",
      "      Epoch    GPU_mem   box_loss   cls_loss   dfl_loss  Instances       Size\n"
     ]
    },
    {
     "name": "stderr",
     "output_type": "stream",
     "text": [
      "      47/50      17.8G     0.7881      0.491      1.024          9        640: 100%|██████████| 27/27 [03:51<00:00,  8.56s/it]\n",
      "                 Class     Images  Instances      Box(P          R      mAP50  mAP50-95): 100%|██████████| 10/10 [00:51<00:00,  5.19s/it]\n"
     ]
    },
    {
     "name": "stdout",
     "output_type": "stream",
     "text": [
      "                   all        319        514      0.962      0.995       0.99      0.796\n",
      "\n",
      "      Epoch    GPU_mem   box_loss   cls_loss   dfl_loss  Instances       Size\n"
     ]
    },
    {
     "name": "stderr",
     "output_type": "stream",
     "text": [
      "      48/50        18G     0.7703     0.4754      1.018         16        640: 100%|██████████| 27/27 [05:20<00:00, 11.86s/it]\n",
      "                 Class     Images  Instances      Box(P          R      mAP50  mAP50-95): 100%|██████████| 10/10 [02:50<00:00, 17.09s/it]\n"
     ]
    },
    {
     "name": "stdout",
     "output_type": "stream",
     "text": [
      "                   all        319        514      0.959       0.99       0.99      0.794\n",
      "\n",
      "      Epoch    GPU_mem   box_loss   cls_loss   dfl_loss  Instances       Size\n"
     ]
    },
    {
     "name": "stderr",
     "output_type": "stream",
     "text": [
      "      49/50      18.1G      0.774      0.464      1.012         11        640: 100%|██████████| 27/27 [19:14<00:00, 42.78s/it]  \n",
      "                 Class     Images  Instances      Box(P          R      mAP50  mAP50-95): 100%|██████████| 10/10 [00:51<00:00,  5.14s/it]\n"
     ]
    },
    {
     "name": "stdout",
     "output_type": "stream",
     "text": [
      "                   all        319        514      0.956      0.987      0.989      0.792\n",
      "\n",
      "      Epoch    GPU_mem   box_loss   cls_loss   dfl_loss  Instances       Size\n"
     ]
    },
    {
     "name": "stderr",
     "output_type": "stream",
     "text": [
      "      50/50      18.3G     0.7826     0.4738      1.014         12        640: 100%|██████████| 27/27 [13:44<00:00, 30.53s/it] \n",
      "                 Class     Images  Instances      Box(P          R      mAP50  mAP50-95): 100%|██████████| 10/10 [00:10<00:00,  1.06s/it]\n"
     ]
    },
    {
     "name": "stdout",
     "output_type": "stream",
     "text": [
      "                   all        319        514       0.96      0.989       0.99      0.793\n",
      "\n",
      "50 epochs completed in 4.393 hours.\n",
      "Optimizer stripped from /Users/fatihbasturk/Projects/EE58A-2025/runs/detect/exp_orig_full50/weights/last.pt, 6.2MB\n",
      "Optimizer stripped from /Users/fatihbasturk/Projects/EE58A-2025/runs/detect/exp_orig_full50/weights/best.pt, 6.2MB\n",
      "\n",
      "Validating /Users/fatihbasturk/Projects/EE58A-2025/runs/detect/exp_orig_full50/weights/best.pt...\n",
      "Ultralytics 8.3.122 🚀 Python-3.11.4 torch-2.6.0 MPS (Apple M4)\n",
      "Model summary (fused): 72 layers, 3,006,233 parameters, 0 gradients, 8.1 GFLOPs\n"
     ]
    },
    {
     "name": "stderr",
     "output_type": "stream",
     "text": [
      "                 Class     Images  Instances      Box(P          R      mAP50  mAP50-95): 100%|██████████| 10/10 [10:15<00:00, 61.54s/it] \n"
     ]
    },
    {
     "name": "stdout",
     "output_type": "stream",
     "text": [
      "                   all        319        514      0.962       0.99      0.991      0.796\n",
      "Speed: 2.6ms preprocess, 1101.0ms inference, 0.0ms loss, 9.7ms postprocess per image\n",
      "Results saved to \u001b[1m/Users/fatihbasturk/Projects/EE58A-2025/runs/detect/exp_orig_full50\u001b[0m\n",
      "✅ Training complete.\n",
      "✅ Saved 'exp_orig_full50' best.pt to:\n",
      "   /Users/fatihbasturk/Projects/EE58A-2025/trained_models/exp_orig_full50_best.pt\n",
      "✅ Saved metrics → /Users/fatihbasturk/Projects/EE58A-2025/trained_models/exp_orig_full50_metrics.csv\n"
     ]
    }
   ],
   "source": [
    "# Cell 9: Single‐Stage Full Unfreeze 50-Epoch from Original Pretrained Model\n",
    "\n",
    "from ultralytics import YOLO\n",
    "import shutil, os, torch\n",
    "\n",
    "# 🔧 Disable MPS high-watermark and clear cache\n",
    "os.environ['PYTORCH_MPS_HIGH_WATERMARK_RATIO'] = '0.0'\n",
    "if torch.backends.mps.is_available():\n",
    "    torch.mps.empty_cache()\n",
    "\n",
    "# 1) Use the original pretrained model as the starting point\n",
    "base_ckpt = ORIG_MODEL  # yolov8_original.pt\n",
    "\n",
    "# 2) Define experiment parameters\n",
    "EXP_NAME = \"exp_orig_full50\"\n",
    "EPOCHS   = 50\n",
    "\n",
    "# 3) Run full unfreeze training\n",
    "print(f\"▶️ Training '{EXP_NAME}' for {EPOCHS} epochs starting from {base_ckpt}\")\n",
    "results = YOLO(base_ckpt).train(\n",
    "    data=DATA_YAML,\n",
    "    epochs=EPOCHS,\n",
    "    imgsz=IMG_SIZE,     # ↳ drop to 512 or 416 if needed\n",
    "    batch=BATCH_SIZE,   # ↳ lower to 8 or 4 if you see OOM\n",
    "    freeze=0,           # unfreeze all layers\n",
    "    device=DEVICE,\n",
    "    name=EXP_NAME,\n",
    "    save=True,\n",
    "    exist_ok=True,\n",
    "    verbose=False,\n",
    "    max_det=100\n",
    ")\n",
    "print(\"✅ Training complete.\")\n",
    "\n",
    "# 4) Copy the resulting best.pt into trained_models/\n",
    "ckpt_path = get_checkpoint(EXP_NAME)\n",
    "dst_path  = trained_dir / f\"{EXP_NAME}_best.pt\"\n",
    "shutil.copy2(ckpt_path, dst_path)\n",
    "print(f\"✅ Saved '{EXP_NAME}' best.pt to:\\n   {dst_path}\")\n",
    "\n",
    "# 5) Copy out results.csv so you have the epoch‐wise metrics\n",
    "try:\n",
    "    src_csv = proj_root / \"runs\" / \"detect\" / EXP_NAME / \"results.csv\"\n",
    "    dst_csv = trained_dir / f\"{EXP_NAME}_metrics.csv\"\n",
    "    shutil.copy2(src_csv, dst_csv)\n",
    "    print(f\"✅ Saved metrics → {dst_csv}\")\n",
    "except FileNotFoundError:\n",
    "    print(f\"⚠️ Could not find results.csv in runs/detect/{EXP_NAME}, skipping metrics copy\")\n"
   ]
  },
  {
   "cell_type": "code",
   "execution_count": 27,
   "id": "6222cdd6",
   "metadata": {},
   "outputs": [
    {
     "name": "stdout",
     "output_type": "stream",
     "text": [
      "Ultralytics 8.3.122 🚀 Python-3.11.4 torch-2.6.0 MPS (Apple M4)\n",
      "Model summary (fused): 72 layers, 3,006,233 parameters, 0 gradients, 8.1 GFLOPs\n",
      "\u001b[34m\u001b[1mval: \u001b[0mFast image access ✅ (ping: 0.1±0.1 ms, read: 62.0±17.8 MB/s, size: 9.7 KB)\n"
     ]
    },
    {
     "name": "stderr",
     "output_type": "stream",
     "text": [
      "\u001b[34m\u001b[1mval: \u001b[0mScanning /Users/fatihbasturk/Projects/EE58A-2025/subblock_detect/subblock_dataset/test/labels.cache... 315 images, 0 backgrounds, 0 corrupt: 100%|██████████| 315/315 [00:00<?, ?it/s]\n",
      "                 Class     Images  Instances      Box(P          R      mAP50  mAP50-95): 100%|██████████| 20/20 [00:15<00:00,  1.28it/s]\n"
     ]
    },
    {
     "name": "stdout",
     "output_type": "stream",
     "text": [
      "                   all        315        491      0.965      0.985      0.986      0.785\n",
      "     differential_pair        184        194      0.983       0.99      0.989      0.812\n",
      "               cascode         51         69      0.944      0.978      0.987      0.731\n",
      "        current_mirror        155        228      0.968      0.987      0.982      0.811\n",
      "Speed: 5.4ms preprocess, 15.2ms inference, 0.0ms loss, 13.1ms postprocess per image\n",
      "Results saved to \u001b[1m/Users/fatihbasturk/Projects/EE58A-2025/runs/detect/val27\u001b[0m\n",
      "differential_pair     AP@0.5=0.989  AP@0.5-0.95=0.812\n",
      "cascode               AP@0.5=0.987  AP@0.5-0.95=0.731\n",
      "current_mirror        AP@0.5=0.982  AP@0.5-0.95=0.811\n",
      "\n",
      "Overall mAP@0.5    = 0.986\n",
      "Overall mAP@0.5-0.95 = 0.785\n"
     ]
    }
   ],
   "source": [
    "# Cell 11: Final test-set evaluation (fixed)\n",
    "\n",
    "from ultralytics import YOLO\n",
    "\n",
    "model = YOLO(trained_dir/\"exp_orig_full50_best.pt\")\n",
    "results = model.val(data=DATA_YAML, device=DEVICE, split=\"test\")\n",
    "\n",
    "# Print per-class AP and overall mAP\n",
    "for i, name in results.names.items():\n",
    "    ap50   = results.box.ap50[i]\n",
    "    ap5095 = results.box.ap[i]\n",
    "    print(f\"{name:20s}  AP@0.5={ap50:.3f}  AP@0.5-0.95={ap5095:.3f}\")\n",
    "\n",
    "# Access map50 and map as attributes, not methods\n",
    "print(f\"\\nOverall mAP@0.5    = {results.box.map50:.3f}\")\n",
    "print(f\"Overall mAP@0.5-0.95 = {results.box.map:.3f}\")\n"
   ]
  },
  {
   "cell_type": "code",
   "execution_count": 29,
   "id": "8e4a8948",
   "metadata": {},
   "outputs": [
    {
     "name": "stdout",
     "output_type": "stream",
     "text": [
      "=== Benchmark Training Metrics (exp_orig_full50) ===\n"
     ]
    },
    {
     "data": {
      "text/html": [
       "<div>\n",
       "<style scoped>\n",
       "    .dataframe tbody tr th:only-of-type {\n",
       "        vertical-align: middle;\n",
       "    }\n",
       "\n",
       "    .dataframe tbody tr th {\n",
       "        vertical-align: top;\n",
       "    }\n",
       "\n",
       "    .dataframe thead th {\n",
       "        text-align: right;\n",
       "    }\n",
       "</style>\n",
       "<table border=\"1\" class=\"dataframe\">\n",
       "  <thead>\n",
       "    <tr style=\"text-align: right;\">\n",
       "      <th></th>\n",
       "      <th>time</th>\n",
       "      <th>train/box_loss</th>\n",
       "      <th>train/cls_loss</th>\n",
       "      <th>train/dfl_loss</th>\n",
       "      <th>metrics/precision(B)</th>\n",
       "      <th>metrics/recall(B)</th>\n",
       "      <th>metrics/mAP50(B)</th>\n",
       "      <th>metrics/mAP50-95(B)</th>\n",
       "      <th>val/box_loss</th>\n",
       "      <th>val/cls_loss</th>\n",
       "      <th>val/dfl_loss</th>\n",
       "      <th>lr/pg0</th>\n",
       "      <th>lr/pg1</th>\n",
       "      <th>lr/pg2</th>\n",
       "    </tr>\n",
       "    <tr>\n",
       "      <th>epoch</th>\n",
       "      <th></th>\n",
       "      <th></th>\n",
       "      <th></th>\n",
       "      <th></th>\n",
       "      <th></th>\n",
       "      <th></th>\n",
       "      <th></th>\n",
       "      <th></th>\n",
       "      <th></th>\n",
       "      <th></th>\n",
       "      <th></th>\n",
       "      <th></th>\n",
       "      <th></th>\n",
       "      <th></th>\n",
       "    </tr>\n",
       "  </thead>\n",
       "  <tbody>\n",
       "    <tr>\n",
       "      <th>1</th>\n",
       "      <td>104.153</td>\n",
       "      <td>2.24258</td>\n",
       "      <td>3.84435</td>\n",
       "      <td>1.95720</td>\n",
       "      <td>0.01733</td>\n",
       "      <td>0.60869</td>\n",
       "      <td>0.10117</td>\n",
       "      <td>0.04994</td>\n",
       "      <td>1.62963</td>\n",
       "      <td>3.06050</td>\n",
       "      <td>1.41988</td>\n",
       "      <td>0.000372</td>\n",
       "      <td>0.000372</td>\n",
       "      <td>0.000372</td>\n",
       "    </tr>\n",
       "    <tr>\n",
       "      <th>2</th>\n",
       "      <td>209.511</td>\n",
       "      <td>1.59225</td>\n",
       "      <td>2.70341</td>\n",
       "      <td>1.41269</td>\n",
       "      <td>0.50824</td>\n",
       "      <td>0.27294</td>\n",
       "      <td>0.28139</td>\n",
       "      <td>0.16367</td>\n",
       "      <td>1.45007</td>\n",
       "      <td>2.03570</td>\n",
       "      <td>1.30154</td>\n",
       "      <td>0.000742</td>\n",
       "      <td>0.000742</td>\n",
       "      <td>0.000742</td>\n",
       "    </tr>\n",
       "    <tr>\n",
       "      <th>3</th>\n",
       "      <td>318.947</td>\n",
       "      <td>1.41443</td>\n",
       "      <td>2.09852</td>\n",
       "      <td>1.29693</td>\n",
       "      <td>0.67805</td>\n",
       "      <td>0.35630</td>\n",
       "      <td>0.35360</td>\n",
       "      <td>0.21001</td>\n",
       "      <td>1.30153</td>\n",
       "      <td>1.68044</td>\n",
       "      <td>1.24859</td>\n",
       "      <td>0.001098</td>\n",
       "      <td>0.001098</td>\n",
       "      <td>0.001098</td>\n",
       "    </tr>\n",
       "    <tr>\n",
       "      <th>4</th>\n",
       "      <td>448.976</td>\n",
       "      <td>1.37843</td>\n",
       "      <td>1.80684</td>\n",
       "      <td>1.28115</td>\n",
       "      <td>0.70171</td>\n",
       "      <td>0.30523</td>\n",
       "      <td>0.29988</td>\n",
       "      <td>0.17786</td>\n",
       "      <td>1.34294</td>\n",
       "      <td>1.48065</td>\n",
       "      <td>1.28600</td>\n",
       "      <td>0.001344</td>\n",
       "      <td>0.001344</td>\n",
       "      <td>0.001344</td>\n",
       "    </tr>\n",
       "    <tr>\n",
       "      <th>5</th>\n",
       "      <td>598.666</td>\n",
       "      <td>1.32092</td>\n",
       "      <td>1.56196</td>\n",
       "      <td>1.28366</td>\n",
       "      <td>0.69187</td>\n",
       "      <td>0.26496</td>\n",
       "      <td>0.26476</td>\n",
       "      <td>0.16710</td>\n",
       "      <td>1.18478</td>\n",
       "      <td>1.28520</td>\n",
       "      <td>1.24227</td>\n",
       "      <td>0.001316</td>\n",
       "      <td>0.001316</td>\n",
       "      <td>0.001316</td>\n",
       "    </tr>\n",
       "  </tbody>\n",
       "</table>\n",
       "</div>"
      ],
      "text/plain": [
       "          time  train/box_loss  train/cls_loss  train/dfl_loss  \\\n",
       "epoch                                                            \n",
       "1      104.153         2.24258         3.84435         1.95720   \n",
       "2      209.511         1.59225         2.70341         1.41269   \n",
       "3      318.947         1.41443         2.09852         1.29693   \n",
       "4      448.976         1.37843         1.80684         1.28115   \n",
       "5      598.666         1.32092         1.56196         1.28366   \n",
       "\n",
       "       metrics/precision(B)  metrics/recall(B)  metrics/mAP50(B)  \\\n",
       "epoch                                                              \n",
       "1                   0.01733            0.60869           0.10117   \n",
       "2                   0.50824            0.27294           0.28139   \n",
       "3                   0.67805            0.35630           0.35360   \n",
       "4                   0.70171            0.30523           0.29988   \n",
       "5                   0.69187            0.26496           0.26476   \n",
       "\n",
       "       metrics/mAP50-95(B)  val/box_loss  val/cls_loss  val/dfl_loss  \\\n",
       "epoch                                                                  \n",
       "1                  0.04994       1.62963       3.06050       1.41988   \n",
       "2                  0.16367       1.45007       2.03570       1.30154   \n",
       "3                  0.21001       1.30153       1.68044       1.24859   \n",
       "4                  0.17786       1.34294       1.48065       1.28600   \n",
       "5                  0.16710       1.18478       1.28520       1.24227   \n",
       "\n",
       "         lr/pg0    lr/pg1    lr/pg2  \n",
       "epoch                                \n",
       "1      0.000372  0.000372  0.000372  \n",
       "2      0.000742  0.000742  0.000742  \n",
       "3      0.001098  0.001098  0.001098  \n",
       "4      0.001344  0.001344  0.001344  \n",
       "5      0.001316  0.001316  0.001316  "
      ]
     },
     "metadata": {},
     "output_type": "display_data"
    },
    {
     "data": {
      "text/html": [
       "<div>\n",
       "<style scoped>\n",
       "    .dataframe tbody tr th:only-of-type {\n",
       "        vertical-align: middle;\n",
       "    }\n",
       "\n",
       "    .dataframe tbody tr th {\n",
       "        vertical-align: top;\n",
       "    }\n",
       "\n",
       "    .dataframe thead th {\n",
       "        text-align: right;\n",
       "    }\n",
       "</style>\n",
       "<table border=\"1\" class=\"dataframe\">\n",
       "  <thead>\n",
       "    <tr style=\"text-align: right;\">\n",
       "      <th></th>\n",
       "      <th>time</th>\n",
       "      <th>train/box_loss</th>\n",
       "      <th>train/cls_loss</th>\n",
       "      <th>train/dfl_loss</th>\n",
       "      <th>metrics/precision(B)</th>\n",
       "      <th>metrics/recall(B)</th>\n",
       "      <th>metrics/mAP50(B)</th>\n",
       "      <th>metrics/mAP50-95(B)</th>\n",
       "      <th>val/box_loss</th>\n",
       "      <th>val/cls_loss</th>\n",
       "      <th>val/dfl_loss</th>\n",
       "      <th>lr/pg0</th>\n",
       "      <th>lr/pg1</th>\n",
       "      <th>lr/pg2</th>\n",
       "    </tr>\n",
       "    <tr>\n",
       "      <th>epoch</th>\n",
       "      <th></th>\n",
       "      <th></th>\n",
       "      <th></th>\n",
       "      <th></th>\n",
       "      <th></th>\n",
       "      <th></th>\n",
       "      <th></th>\n",
       "      <th></th>\n",
       "      <th></th>\n",
       "      <th></th>\n",
       "      <th></th>\n",
       "      <th></th>\n",
       "      <th></th>\n",
       "      <th></th>\n",
       "    </tr>\n",
       "  </thead>\n",
       "  <tbody>\n",
       "    <tr>\n",
       "      <th>46</th>\n",
       "      <td>12910.0</td>\n",
       "      <td>0.79813</td>\n",
       "      <td>0.48240</td>\n",
       "      <td>1.01758</td>\n",
       "      <td>0.95858</td>\n",
       "      <td>0.99254</td>\n",
       "      <td>0.98954</td>\n",
       "      <td>0.78923</td>\n",
       "      <td>0.73134</td>\n",
       "      <td>0.42932</td>\n",
       "      <td>0.99020</td>\n",
       "      <td>0.000156</td>\n",
       "      <td>0.000156</td>\n",
       "      <td>0.000156</td>\n",
       "    </tr>\n",
       "    <tr>\n",
       "      <th>47</th>\n",
       "      <td>13217.7</td>\n",
       "      <td>0.78815</td>\n",
       "      <td>0.49104</td>\n",
       "      <td>1.02371</td>\n",
       "      <td>0.96219</td>\n",
       "      <td>0.99502</td>\n",
       "      <td>0.99050</td>\n",
       "      <td>0.79593</td>\n",
       "      <td>0.71958</td>\n",
       "      <td>0.42208</td>\n",
       "      <td>0.98188</td>\n",
       "      <td>0.000127</td>\n",
       "      <td>0.000127</td>\n",
       "      <td>0.000127</td>\n",
       "    </tr>\n",
       "    <tr>\n",
       "      <th>48</th>\n",
       "      <td>13736.1</td>\n",
       "      <td>0.77034</td>\n",
       "      <td>0.47538</td>\n",
       "      <td>1.01760</td>\n",
       "      <td>0.95929</td>\n",
       "      <td>0.99013</td>\n",
       "      <td>0.99028</td>\n",
       "      <td>0.79423</td>\n",
       "      <td>0.72028</td>\n",
       "      <td>0.42143</td>\n",
       "      <td>0.98247</td>\n",
       "      <td>0.000099</td>\n",
       "      <td>0.000099</td>\n",
       "      <td>0.000099</td>\n",
       "    </tr>\n",
       "    <tr>\n",
       "      <th>49</th>\n",
       "      <td>14948.1</td>\n",
       "      <td>0.77402</td>\n",
       "      <td>0.46398</td>\n",
       "      <td>1.01199</td>\n",
       "      <td>0.95624</td>\n",
       "      <td>0.98654</td>\n",
       "      <td>0.98907</td>\n",
       "      <td>0.79221</td>\n",
       "      <td>0.71883</td>\n",
       "      <td>0.41955</td>\n",
       "      <td>0.98451</td>\n",
       "      <td>0.000071</td>\n",
       "      <td>0.000071</td>\n",
       "      <td>0.000071</td>\n",
       "    </tr>\n",
       "    <tr>\n",
       "      <th>50</th>\n",
       "      <td>15811.8</td>\n",
       "      <td>0.78265</td>\n",
       "      <td>0.47382</td>\n",
       "      <td>1.01414</td>\n",
       "      <td>0.96045</td>\n",
       "      <td>0.98855</td>\n",
       "      <td>0.98960</td>\n",
       "      <td>0.79284</td>\n",
       "      <td>0.72174</td>\n",
       "      <td>0.41798</td>\n",
       "      <td>0.98743</td>\n",
       "      <td>0.000043</td>\n",
       "      <td>0.000043</td>\n",
       "      <td>0.000043</td>\n",
       "    </tr>\n",
       "  </tbody>\n",
       "</table>\n",
       "</div>"
      ],
      "text/plain": [
       "          time  train/box_loss  train/cls_loss  train/dfl_loss  \\\n",
       "epoch                                                            \n",
       "46     12910.0         0.79813         0.48240         1.01758   \n",
       "47     13217.7         0.78815         0.49104         1.02371   \n",
       "48     13736.1         0.77034         0.47538         1.01760   \n",
       "49     14948.1         0.77402         0.46398         1.01199   \n",
       "50     15811.8         0.78265         0.47382         1.01414   \n",
       "\n",
       "       metrics/precision(B)  metrics/recall(B)  metrics/mAP50(B)  \\\n",
       "epoch                                                              \n",
       "46                  0.95858            0.99254           0.98954   \n",
       "47                  0.96219            0.99502           0.99050   \n",
       "48                  0.95929            0.99013           0.99028   \n",
       "49                  0.95624            0.98654           0.98907   \n",
       "50                  0.96045            0.98855           0.98960   \n",
       "\n",
       "       metrics/mAP50-95(B)  val/box_loss  val/cls_loss  val/dfl_loss  \\\n",
       "epoch                                                                  \n",
       "46                 0.78923       0.73134       0.42932       0.99020   \n",
       "47                 0.79593       0.71958       0.42208       0.98188   \n",
       "48                 0.79423       0.72028       0.42143       0.98247   \n",
       "49                 0.79221       0.71883       0.41955       0.98451   \n",
       "50                 0.79284       0.72174       0.41798       0.98743   \n",
       "\n",
       "         lr/pg0    lr/pg1    lr/pg2  \n",
       "epoch                                \n",
       "46     0.000156  0.000156  0.000156  \n",
       "47     0.000127  0.000127  0.000127  \n",
       "48     0.000099  0.000099  0.000099  \n",
       "49     0.000071  0.000071  0.000071  \n",
       "50     0.000043  0.000043  0.000043  "
      ]
     },
     "metadata": {},
     "output_type": "display_data"
    },
    {
     "data": {
      "image/png": "[encoded data removed]",
      "text/plain": [
       "<Figure size 800x400 with 1 Axes>"
      ]
     },
     "metadata": {},
     "output_type": "display_data"
    }
   ],
   "source": [
    "# Cell 10: Load & Display Training Metrics for the Benchmark\n",
    "\n",
    "# 1) Load the epoch‐wise metrics for exp_orig_full50\n",
    "df_bench = load_metrics(\"exp_orig_full50\")\n",
    "\n",
    "# 2) Show the first & last few rows so you can inspect convergence\n",
    "print(\"=== Benchmark Training Metrics (exp_orig_full50) ===\")\n",
    "display(df_bench.head(), df_bench.tail())\n",
    "\n",
    "# 3) (Optional) Plot its mAP curve for quick visual check\n",
    "plt.figure(figsize=(8,4))\n",
    "plt.plot(df_bench.index, df_bench[\"metrics/mAP50(B)\"], label=\"benchmark mAP@0.5\")\n",
    "plt.xlabel(\"Epoch\"); plt.ylabel(\"mAP@0.5\")\n",
    "plt.title(\"Benchmark (no freeze) mAP Curve\"); plt.grid(True); plt.show()\n"
   ]
  },
  {
   "cell_type": "code",
   "execution_count": 31,
   "id": "5701ce14",
   "metadata": {},
   "outputs": [
    {
     "name": "stdout",
     "output_type": "stream",
     "text": [
      "▶️ Evaluating Stage1+2 (exp_stage2) on TEST split…\n",
      "Ultralytics 8.3.122 🚀 Python-3.11.4 torch-2.6.0 MPS (Apple M4)\n",
      "Model summary (fused): 72 layers, 3,006,233 parameters, 0 gradients, 8.1 GFLOPs\n",
      "\u001b[34m\u001b[1mval: \u001b[0mFast image access ✅ (ping: 0.0±0.0 ms, read: 64.8±19.4 MB/s, size: 9.6 KB)\n"
     ]
    },
    {
     "name": "stderr",
     "output_type": "stream",
     "text": [
      "\u001b[34m\u001b[1mval: \u001b[0mScanning /Users/fatihbasturk/Projects/EE58A-2025/subblock_detect/subblock_dataset/test/labels.cache... 315 images, 0 backgrounds, 0 corrupt: 100%|██████████| 315/315 [00:00<?, ?it/s]\n",
      "                 Class     Images  Instances      Box(P          R      mAP50  mAP50-95): 100%|██████████| 20/20 [00:08<00:00,  2.30it/s]\n"
     ]
    },
    {
     "name": "stdout",
     "output_type": "stream",
     "text": [
      "                   all        315        491      0.969      0.976       0.99      0.767\n",
      "Speed: 0.4ms preprocess, 5.6ms inference, 0.0ms loss, 8.7ms postprocess per image\n",
      "Results saved to \u001b[1m/Users/fatihbasturk/Projects/EE58A-2025/runs/detect/val28\u001b[0m\n",
      "▶️ Evaluating One-Shot (exp_orig_full50) on TEST split…\n",
      "Ultralytics 8.3.122 🚀 Python-3.11.4 torch-2.6.0 MPS (Apple M4)\n",
      "Model summary (fused): 72 layers, 3,006,233 parameters, 0 gradients, 8.1 GFLOPs\n",
      "\u001b[34m\u001b[1mval: \u001b[0mFast image access ✅ (ping: 0.0±0.0 ms, read: 571.5±119.1 MB/s, size: 10.4 KB)\n"
     ]
    },
    {
     "name": "stderr",
     "output_type": "stream",
     "text": [
      "\u001b[34m\u001b[1mval: \u001b[0mScanning /Users/fatihbasturk/Projects/EE58A-2025/subblock_detect/subblock_dataset/test/labels.cache... 315 images, 0 backgrounds, 0 corrupt: 100%|██████████| 315/315 [00:00<?, ?it/s]\n",
      "                 Class     Images  Instances      Box(P          R      mAP50  mAP50-95): 100%|██████████| 20/20 [00:06<00:00,  2.97it/s]\n"
     ]
    },
    {
     "name": "stdout",
     "output_type": "stream",
     "text": [
      "                   all        315        491      0.965      0.993      0.991      0.789\n",
      "Speed: 0.4ms preprocess, 5.1ms inference, 0.0ms loss, 6.2ms postprocess per image\n",
      "Results saved to \u001b[1m/Users/fatihbasturk/Projects/EE58A-2025/runs/detect/val29\u001b[0m\n"
     ]
    },
    {
     "data": {
      "text/html": [
       "<div>\n",
       "<style scoped>\n",
       "    .dataframe tbody tr th:only-of-type {\n",
       "        vertical-align: middle;\n",
       "    }\n",
       "\n",
       "    .dataframe tbody tr th {\n",
       "        vertical-align: top;\n",
       "    }\n",
       "\n",
       "    .dataframe thead th {\n",
       "        text-align: right;\n",
       "    }\n",
       "</style>\n",
       "<table border=\"1\" class=\"dataframe\">\n",
       "  <thead>\n",
       "    <tr style=\"text-align: right;\">\n",
       "      <th></th>\n",
       "      <th>test_mAP50</th>\n",
       "      <th>test_mAP50-95</th>\n",
       "      <th>Precision</th>\n",
       "      <th>Recall</th>\n",
       "    </tr>\n",
       "    <tr>\n",
       "      <th>model</th>\n",
       "      <th></th>\n",
       "      <th></th>\n",
       "      <th></th>\n",
       "      <th></th>\n",
       "    </tr>\n",
       "  </thead>\n",
       "  <tbody>\n",
       "    <tr>\n",
       "      <th>Stage1+2</th>\n",
       "      <td>0.990481</td>\n",
       "      <td>0.766651</td>\n",
       "      <td>0.969495</td>\n",
       "      <td>0.975845</td>\n",
       "    </tr>\n",
       "    <tr>\n",
       "      <th>One-Shot</th>\n",
       "      <td>0.990813</td>\n",
       "      <td>0.789095</td>\n",
       "      <td>0.965254</td>\n",
       "      <td>0.992776</td>\n",
       "    </tr>\n",
       "  </tbody>\n",
       "</table>\n",
       "</div>"
      ],
      "text/plain": [
       "          test_mAP50  test_mAP50-95  Precision    Recall\n",
       "model                                                   \n",
       "Stage1+2    0.990481       0.766651   0.969495  0.975845\n",
       "One-Shot    0.990813       0.789095   0.965254  0.992776"
      ]
     },
     "metadata": {},
     "output_type": "display_data"
    }
   ],
   "source": [
    "# Cell Y: Final Test‐Set Evaluation Comparison\n",
    "\n",
    "from ultralytics import YOLO\n",
    "import pandas as pd\n",
    "\n",
    "# Map friendly tags to your actual run names\n",
    "comparison_runs = [\n",
    "    (\"Stage1+2\", STAGE2_NAME),   # two‐stage fine-tune\n",
    "    (\"One-Shot\", \"exp_orig_full50\")  # one‐shot full unfreeze\n",
    "]\n",
    "\n",
    "results = []\n",
    "for tag, run_name in comparison_runs:\n",
    "    ckpt = get_checkpoint(run_name)\n",
    "    model = YOLO(ckpt)\n",
    "    print(f\"▶️ Evaluating {tag} ({run_name}) on TEST split…\")\n",
    "    res = model.val(\n",
    "        data=DATA_YAML,\n",
    "        device=DEVICE,\n",
    "        split=\"test\",\n",
    "        verbose=False\n",
    "    )\n",
    "    results.append({\n",
    "        \"model\":        tag,\n",
    "        \"test_mAP50\":   float(res.box.map50),\n",
    "        \"test_mAP50-95\":float(res.box.map),\n",
    "        \"Precision\":    float(res.box.p.mean()),\n",
    "        \"Recall\":       float(res.box.r.mean())\n",
    "    })\n",
    "\n",
    "# Build and display the comparison table\n",
    "df_compare = pd.DataFrame(results).set_index(\"model\")\n",
    "display(df_compare)\n"
   ]
  },
  {
   "cell_type": "code",
   "execution_count": 32,
   "id": "40a1a601",
   "metadata": {},
   "outputs": [
    {
     "data": {
      "image/png": "[encoded data removed]",
      "text/plain": [
       "<Figure size 1000x500 with 1 Axes>"
      ]
     },
     "metadata": {},
     "output_type": "display_data"
    }
   ],
   "source": [
    "# Cell X: Plot Stage-1+2 (50 epochs) vs One-Shot (50 epochs)\n",
    "\n",
    "import matplotlib.pyplot as plt\n",
    "import pandas as pd\n",
    "\n",
    "# Run names\n",
    "run_stage1 = STAGE1_NAME       # e.g. \"subblock_stage1_mps\"\n",
    "run_stage2 = STAGE2_NAME       # e.g. \"subblock_stage2_mps\"\n",
    "run_bench  = \"exp_orig_full50\" # your one-shot run\n",
    "\n",
    "# 1) Load metrics\n",
    "df1 = load_metrics(run_stage1)              # head-only warmup epochs\n",
    "df2 = load_metrics(run_stage2)              # full fine-tune epochs\n",
    "df_b = load_metrics(run_bench)              # one-shot epochs\n",
    "\n",
    "# 2) Offset Stage-2 epochs so they follow Stage-1\n",
    "df2_off = df2.copy()\n",
    "df2_off.index = df2_off.index + df1.index.max()\n",
    "\n",
    "# 3) Concatenate the two-stage series\n",
    "series_stage12 = pd.concat([\n",
    "    df1[\"metrics/mAP50(B)\"],\n",
    "    df2_off[\"metrics/mAP50(B)\"]\n",
    "])\n",
    "\n",
    "# 4) Plot\n",
    "plt.figure(figsize=(10,5))\n",
    "plt.plot(series_stage12.index, series_stage12.values, marker='o', label=\"Stage-1+2 mAP@0.5\")\n",
    "plt.plot(df_b.index, df_b[\"metrics/mAP50(B)\"].values, marker='x', label=\"One-Shot mAP@0.5\")\n",
    "plt.xlabel(\"Epoch\")\n",
    "plt.ylabel(\"mAP@0.5\")\n",
    "plt.title(\"Stage-1+2 (50 epochs) vs One-Shot (50 epochs)\")\n",
    "plt.legend()\n",
    "plt.grid(True)\n",
    "plt.show()\n"
   ]
  },
  {
   "cell_type": "code",
   "execution_count": null,
   "id": "1ea6ac97",
   "metadata": {},
   "outputs": [
    {
     "name": "stdout",
     "output_type": "stream",
     "text": [
      "⚠️ Missing exp_warmup_lr_metrics.csv\n"
     ]
    },
    {
     "data": {
      "image/png": "[encoded data removed]",
      "text/plain": [
       "<Figure size 800x500 with 1 Axes>"
      ]
     },
     "metadata": {},
     "output_type": "display_data"
    }
   ],
   "source": [
    "import pandas as pd\n",
    "import matplotlib.pyplot as plt\n",
    "from pathlib import Path\n",
    "\n",
    "# 1) List your sweep tags (the same tags you used in Cell 7)\n",
    "sweep_tags = [\n",
    "    \"exp_lr_1e-3\", \"exp_lr_5e-4\", \"exp_lr_1e-4\",\n",
    "    \"exp_wd_1e-2\", \"exp_wd_1e-3\", \"exp_wd_1e-4\",\n",
    "    \"exp_mosaic_off\", \"exp_mixup_on\", \"exp_label_smooth\",\n",
    "    \"exp_cosine_lr\"\n",
    "]\n",
    "\n",
    "# 2) Define the One-Shot tag\n",
    "one_shot_tag = \"exp_orig_full50\"\n",
    "\n",
    "# 3) Path to your trained_models folder\n",
    "tm = Path(trained_dir)\n",
    "\n",
    "# 4) Gather final mAP50 from metrics CSVs\n",
    "summary = {}\n",
    "for tag in sweep_tags + [one_shot_tag]:\n",
    "    csv = tm / f\"{tag}_metrics.csv\"\n",
    "    if not csv.exists():\n",
    "        print(f\"⚠️ Missing {csv.name}\")\n",
    "        continue\n",
    "    df = pd.read_csv(csv, index_col=\"epoch\")\n",
    "    # dedupe Stage 2 if duplicates (optional)\n",
    "    df = df[~df.index.duplicated(keep=\"first\")]\n",
    "    summary[tag] = df[\"metrics/mAP50(B)\"].iloc[-1]\n",
    "\n",
    "# 5) Build a Series and sort (optional)\n",
    "s = pd.Series(summary).sort_values()\n",
    "\n",
    "# 6) Plot bar chart\n",
    "plt.figure(figsize=(8, 5))\n",
    "s.plot.barh()\n",
    "plt.xlabel(\"Final mAP@0.5\")\n",
    "plt.title(\"Parameter Sweep vs One-Shot Final mAP@0.5\")\n",
    "plt.grid(axis=\"x\", linestyle=\"--\", alpha=0.5)\n",
    "plt.tight_layout()\n",
    "plt.show()\n"
   ]
  },
  {
   "cell_type": "code",
   "execution_count": 44,
   "id": "6ba1d68e",
   "metadata": {},
   "outputs": [
    {
     "data": {
      "text/html": [
       "<div>\n",
       "<style scoped>\n",
       "    .dataframe tbody tr th:only-of-type {\n",
       "        vertical-align: middle;\n",
       "    }\n",
       "\n",
       "    .dataframe tbody tr th {\n",
       "        vertical-align: top;\n",
       "    }\n",
       "\n",
       "    .dataframe thead th {\n",
       "        text-align: right;\n",
       "    }\n",
       "</style>\n",
       "<table border=\"1\" class=\"dataframe\">\n",
       "  <thead>\n",
       "    <tr style=\"text-align: right;\">\n",
       "      <th></th>\n",
       "      <th>final_mAP50</th>\n",
       "    </tr>\n",
       "    <tr>\n",
       "      <th>model</th>\n",
       "      <th></th>\n",
       "    </tr>\n",
       "  </thead>\n",
       "  <tbody>\n",
       "    <tr>\n",
       "      <th>exp_mixup_on</th>\n",
       "      <td>0.98626</td>\n",
       "    </tr>\n",
       "    <tr>\n",
       "      <th>exp_orig_full50</th>\n",
       "      <td>0.98960</td>\n",
       "    </tr>\n",
       "    <tr>\n",
       "      <th>exp_cosine_lr</th>\n",
       "      <td>0.99101</td>\n",
       "    </tr>\n",
       "    <tr>\n",
       "      <th>exp_lr_1e-3</th>\n",
       "      <td>0.99212</td>\n",
       "    </tr>\n",
       "    <tr>\n",
       "      <th>exp_lr_5e-4</th>\n",
       "      <td>0.99212</td>\n",
       "    </tr>\n",
       "    <tr>\n",
       "      <th>exp_lr_1e-4</th>\n",
       "      <td>0.99212</td>\n",
       "    </tr>\n",
       "    <tr>\n",
       "      <th>exp_label_smooth</th>\n",
       "      <td>0.99212</td>\n",
       "    </tr>\n",
       "    <tr>\n",
       "      <th>exp_wd_1e-2</th>\n",
       "      <td>0.99273</td>\n",
       "    </tr>\n",
       "    <tr>\n",
       "      <th>exp_wd_1e-3</th>\n",
       "      <td>0.99290</td>\n",
       "    </tr>\n",
       "    <tr>\n",
       "      <th>exp_wd_1e-4</th>\n",
       "      <td>0.99301</td>\n",
       "    </tr>\n",
       "    <tr>\n",
       "      <th>exp_mosaic_off</th>\n",
       "      <td>0.99446</td>\n",
       "    </tr>\n",
       "  </tbody>\n",
       "</table>\n",
       "</div>"
      ],
      "text/plain": [
       "                  final_mAP50\n",
       "model                        \n",
       "exp_mixup_on          0.98626\n",
       "exp_orig_full50       0.98960\n",
       "exp_cosine_lr         0.99101\n",
       "exp_lr_1e-3           0.99212\n",
       "exp_lr_5e-4           0.99212\n",
       "exp_lr_1e-4           0.99212\n",
       "exp_label_smooth      0.99212\n",
       "exp_wd_1e-2           0.99273\n",
       "exp_wd_1e-3           0.99290\n",
       "exp_wd_1e-4           0.99301\n",
       "exp_mosaic_off        0.99446"
      ]
     },
     "metadata": {},
     "output_type": "display_data"
    },
    {
     "name": "stdout",
     "output_type": "stream",
     "text": [
      "🔍 Best sweep run: exp_mosaic_off with mAP@0.5 = 0.994\n",
      "Ultralytics 8.3.122 🚀 Python-3.11.4 torch-2.6.0 MPS (Apple M4)\n",
      "Model summary (fused): 72 layers, 3,006,233 parameters, 0 gradients, 8.1 GFLOPs\n",
      "\u001b[34m\u001b[1mval: \u001b[0mFast image access ✅ (ping: 0.0±0.0 ms, read: 30.5±15.7 MB/s, size: 10.4 KB)\n"
     ]
    },
    {
     "name": "stderr",
     "output_type": "stream",
     "text": [
      "\u001b[34m\u001b[1mval: \u001b[0mScanning /Users/fatihbasturk/Projects/EE58A-2025/subblock_detect/subblock_dataset/test/labels.cache... 315 images, 0 backgrounds, 0 corrupt: 100%|██████████| 315/315 [00:00<?, ?it/s]\n",
      "                 Class     Images  Instances      Box(P          R      mAP50  mAP50-95): 100%|██████████| 20/20 [00:07<00:00,  2.74it/s]\n"
     ]
    },
    {
     "name": "stdout",
     "output_type": "stream",
     "text": [
      "                   all        315        491      0.969      0.976       0.99      0.767\n",
      "Speed: 0.5ms preprocess, 5.0ms inference, 0.0ms loss, 6.8ms postprocess per image\n",
      "Results saved to \u001b[1m/Users/fatihbasturk/Projects/EE58A-2025/runs/detect/val39\u001b[0m\n",
      "Ultralytics 8.3.122 🚀 Python-3.11.4 torch-2.6.0 MPS (Apple M4)\n",
      "Model summary (fused): 72 layers, 3,006,233 parameters, 0 gradients, 8.1 GFLOPs\n",
      "\u001b[34m\u001b[1mval: \u001b[0mFast image access ✅ (ping: 0.0±0.0 ms, read: 539.8±230.2 MB/s, size: 9.3 KB)\n"
     ]
    },
    {
     "name": "stderr",
     "output_type": "stream",
     "text": [
      "\u001b[34m\u001b[1mval: \u001b[0mScanning /Users/fatihbasturk/Projects/EE58A-2025/subblock_detect/subblock_dataset/test/labels.cache... 315 images, 0 backgrounds, 0 corrupt: 100%|██████████| 315/315 [00:00<?, ?it/s]\n",
      "                 Class     Images  Instances      Box(P          R      mAP50  mAP50-95): 100%|██████████| 20/20 [00:06<00:00,  2.97it/s]\n"
     ]
    },
    {
     "name": "stdout",
     "output_type": "stream",
     "text": [
      "                   all        315        491      0.967      0.993      0.991      0.789\n",
      "Speed: 0.5ms preprocess, 4.9ms inference, 0.0ms loss, 5.9ms postprocess per image\n",
      "Results saved to \u001b[1m/Users/fatihbasturk/Projects/EE58A-2025/runs/detect/val40\u001b[0m\n",
      "Ultralytics 8.3.122 🚀 Python-3.11.4 torch-2.6.0 MPS (Apple M4)\n",
      "Model summary (fused): 72 layers, 3,006,233 parameters, 0 gradients, 8.1 GFLOPs\n",
      "\u001b[34m\u001b[1mval: \u001b[0mFast image access ✅ (ping: 0.0±0.0 ms, read: 767.8±153.4 MB/s, size: 13.1 KB)\n"
     ]
    },
    {
     "name": "stderr",
     "output_type": "stream",
     "text": [
      "\u001b[34m\u001b[1mval: \u001b[0mScanning /Users/fatihbasturk/Projects/EE58A-2025/subblock_detect/subblock_dataset/test/labels.cache... 315 images, 0 backgrounds, 0 corrupt: 100%|██████████| 315/315 [00:00<?, ?it/s]\n",
      "                 Class     Images  Instances      Box(P          R      mAP50  mAP50-95): 100%|██████████| 20/20 [00:06<00:00,  3.05it/s]\n"
     ]
    },
    {
     "name": "stdout",
     "output_type": "stream",
     "text": [
      "                   all        315        491      0.974      0.998      0.994      0.817\n",
      "Speed: 0.4ms preprocess, 4.8ms inference, 0.0ms loss, 5.7ms postprocess per image\n",
      "Results saved to \u001b[1m/Users/fatihbasturk/Projects/EE58A-2025/runs/detect/val41\u001b[0m\n"
     ]
    },
    {
     "data": {
      "text/html": [
       "<div>\n",
       "<style scoped>\n",
       "    .dataframe tbody tr th:only-of-type {\n",
       "        vertical-align: middle;\n",
       "    }\n",
       "\n",
       "    .dataframe tbody tr th {\n",
       "        vertical-align: top;\n",
       "    }\n",
       "\n",
       "    .dataframe thead th {\n",
       "        text-align: right;\n",
       "    }\n",
       "</style>\n",
       "<table border=\"1\" class=\"dataframe\">\n",
       "  <thead>\n",
       "    <tr style=\"text-align: right;\">\n",
       "      <th></th>\n",
       "      <th>test_mAP50</th>\n",
       "      <th>test_mAP50-95</th>\n",
       "      <th>Precision</th>\n",
       "      <th>Recall</th>\n",
       "    </tr>\n",
       "    <tr>\n",
       "      <th>model</th>\n",
       "      <th></th>\n",
       "      <th></th>\n",
       "      <th></th>\n",
       "      <th></th>\n",
       "    </tr>\n",
       "  </thead>\n",
       "  <tbody>\n",
       "    <tr>\n",
       "      <th>Stage1+2 (default)</th>\n",
       "      <td>0.990481</td>\n",
       "      <td>0.766651</td>\n",
       "      <td>0.969495</td>\n",
       "      <td>0.975845</td>\n",
       "    </tr>\n",
       "    <tr>\n",
       "      <th>One-Shot</th>\n",
       "      <td>0.990813</td>\n",
       "      <td>0.788794</td>\n",
       "      <td>0.966695</td>\n",
       "      <td>0.992700</td>\n",
       "    </tr>\n",
       "    <tr>\n",
       "      <th>Tuned (exp_mosaic_off)</th>\n",
       "      <td>0.993530</td>\n",
       "      <td>0.817057</td>\n",
       "      <td>0.974176</td>\n",
       "      <td>0.998075</td>\n",
       "    </tr>\n",
       "  </tbody>\n",
       "</table>\n",
       "</div>"
      ],
      "text/plain": [
       "                        test_mAP50  test_mAP50-95  Precision    Recall\n",
       "model                                                                 \n",
       "Stage1+2 (default)        0.990481       0.766651   0.969495  0.975845\n",
       "One-Shot                  0.990813       0.788794   0.966695  0.992700\n",
       "Tuned (exp_mosaic_off)    0.993530       0.817057   0.974176  0.998075"
      ]
     },
     "metadata": {},
     "output_type": "display_data"
    }
   ],
   "source": [
    "# Re‐import and re‐define everything you need\n",
    "import pandas as pd\n",
    "import matplotlib.pyplot as plt\n",
    "from ultralytics import YOLO\n",
    "from pathlib import Path\n",
    "\n",
    "# 0) Config\n",
    "trained_dir   = Path(proj_root) / \"trained_models\"\n",
    "sweep_tags    = [\n",
    "    \"exp_lr_1e-3\", \"exp_lr_5e-4\", \"exp_lr_1e-4\",\n",
    "    \"exp_wd_1e-2\",\"exp_wd_1e-3\",\"exp_wd_1e-4\",\n",
    "    \"exp_mosaic_off\",\"exp_mixup_on\",\"exp_label_smooth\",\n",
    "    \"exp_cosine_lr\",\"exp_warmup_lr\"\n",
    "]\n",
    "one_shot_tag  = \"exp_orig_full50\"\n",
    "default_tag   = STAGE2_NAME        # your two‐stage fine-tune baseline\n",
    "\n",
    "# 1) Build summary of final epoch mAP50 for sweep + one-shot\n",
    "summary = []\n",
    "for tag in sweep_tags + [one_shot_tag]:\n",
    "    csv = trained_dir / f\"{tag}_metrics.csv\"\n",
    "    if not csv.exists(): continue\n",
    "    df = pd.read_csv(csv, index_col=\"epoch\")\n",
    "    df = df[~df.index.duplicated(keep=\"first\")]\n",
    "    summary.append({\n",
    "        \"model\": tag,\n",
    "        \"final_mAP50\": df[\"metrics/mAP50(B)\"].iloc[-1]\n",
    "    })\n",
    "summary_df = pd.DataFrame(summary).set_index(\"model\").sort_values(\"final_mAP50\")\n",
    "display(summary_df)\n",
    "\n",
    "# 2) Identify best sweep run\n",
    "best_tag = summary_df[\"final_mAP50\"].idxmax()\n",
    "best_val = summary_df[\"final_mAP50\"].max()\n",
    "print(f\"🔍 Best sweep run: {best_tag} with mAP@0.5 = {best_val:.3f}\")\n",
    "\n",
    "# 3) Test‐set comparison table (default Stage1+2, One-Shot, Best-Tuned)\n",
    "cmp = []\n",
    "for label, tag in [\n",
    "    (\"Stage1+2 (default)\", default_tag),\n",
    "    (\"One-Shot\", one_shot_tag),\n",
    "    (f\"Tuned ({best_tag})\", best_tag)\n",
    "]:\n",
    "    ckpt = get_checkpoint(tag)\n",
    "    res  = YOLO(ckpt).val(data=DATA_YAML, device=DEVICE, split=\"test\", verbose=False)\n",
    "    cmp.append({\n",
    "        \"model\": label,\n",
    "        \"test_mAP50\":    float(res.box.map50),\n",
    "        \"test_mAP50-95\": float(res.box.map),\n",
    "        \"Precision\":     float(res.box.p.mean()),\n",
    "        \"Recall\":        float(res.box.r.mean())\n",
    "    })\n",
    "cmp_df = pd.DataFrame(cmp).set_index(\"model\")\n",
    "display(cmp_df)\n",
    "\n"
   ]
  },
  {
   "cell_type": "code",
   "execution_count": 40,
   "id": "2b5ea828",
   "metadata": {},
   "outputs": [
    {
     "data": {
      "image/png": "[encoded data removed]",
      "text/plain": [
       "<Figure size 1200x600 with 1 Axes>"
      ]
     },
     "metadata": {},
     "output_type": "display_data"
    }
   ],
   "source": [
    "import pandas as pd\n",
    "import matplotlib.pyplot as plt\n",
    "from pathlib import Path\n",
    "\n",
    "# 1) Paths & run names\n",
    "tm = Path(trained_dir)\n",
    "stage1_csv     = tm / f\"{STAGE1_NAME}_metrics.csv\"\n",
    "stage2_csv     = tm / f\"{STAGE2_NAME}_metrics.csv\"\n",
    "one_shot_csv   = tm / \"exp_orig_full50_metrics.csv\"\n",
    "sweep_tags     = [\n",
    "    \"exp_lr_1e-3\", \"exp_lr_5e-4\", \"exp_lr_1e-4\",\n",
    "    \"exp_wd_1e-2\",\"exp_wd_1e-3\",\"exp_wd_1e-4\",\n",
    "    \"exp_mosaic_off\",\"exp_mixup_on\",\"exp_label_smooth\",\n",
    "    \"exp_cosine_lr\",\"exp_warmup_lr\"\n",
    "]\n",
    "\n",
    "# 2) Load DataFrames\n",
    "df1 = pd.read_csv(stage1_csv, index_col=\"epoch\")   # Stage1: epochs 1–30\n",
    "df2 = pd.read_csv(stage2_csv, index_col=\"epoch\")   # Stage2 default: epochs 1–20\n",
    "# Dedupe Stage1 if needed:\n",
    "df1 = df1[~df1.index.duplicated(keep=\"first\")]\n",
    "\n",
    "# 3) Prepare axes\n",
    "map50    = \"metrics/mAP50(B)\"\n",
    "e1       = df1.index                                    # 1–30\n",
    "offset   = e1.max()                                     # 30\n",
    "e2       = df2.index + offset                           # 31–50\n",
    "\n",
    "# 4) Begin plot\n",
    "plt.figure(figsize=(12,6))\n",
    "\n",
    "# Stage 1\n",
    "plt.plot(e1, df1[map50], 'o-', color='C0', label=f\"Stage 1 (1–{offset})\")\n",
    "\n",
    "# Stage 2 default\n",
    "plt.plot(e2, df2[map50], 's--', color='C0', alpha=0.7, label=f\"Stage 2 default ({offset+1}–{offset+len(df2)})\")\n",
    "\n",
    "# Swept runs (only their 20-epoch runs, offset by +30)\n",
    "for tag in sweep_tags:\n",
    "    csv = tm / f\"{tag}_metrics.csv\"\n",
    "    if not csv.exists(): \n",
    "        continue\n",
    "    df = pd.read_csv(csv, index_col=\"epoch\")\n",
    "    df = df[~df.index.duplicated(keep=\"first\")]\n",
    "    plt.plot(df.index + offset,\n",
    "             df[map50],\n",
    "             linewidth=1,\n",
    "             alpha=0.5,\n",
    "             label=tag)\n",
    "\n",
    "# (Optional) One-Shot full 1–50\n",
    "if (one_shot_csv).exists():\n",
    "    df_os = pd.read_csv(one_shot_csv, index_col=\"epoch\")\n",
    "    plt.plot(df_os.index,\n",
    "             df_os[map50],\n",
    "             'k-.',\n",
    "             linewidth=2,\n",
    "             label=\"One-Shot (1–50)\")\n",
    "\n",
    "# 5) Formatting\n",
    "plt.axvline(offset, color='gray', linestyle='--', label=\"Stage switch\")\n",
    "plt.xlabel(\"Epoch\")\n",
    "plt.ylabel(\"mAP@0.5\")\n",
    "plt.title(\"Epoch-wise mAP@0.5: Stage1 (1–30) vs Stage2 & Sweeps (31–50)\")\n",
    "plt.xticks(range(0, 51, 5))\n",
    "plt.grid(True)\n",
    "plt.legend(bbox_to_anchor=(1.02,1), loc='upper left', ncol=1)\n",
    "plt.tight_layout()\n",
    "plt.show()\n"
   ]
  },
  {
   "cell_type": "code",
   "execution_count": 46,
   "id": "ad41a40a",
   "metadata": {},
   "outputs": [
    {
     "data": {
      "image/png": "[encoded data removed]",
      "text/plain": [
       "<Figure size 1000x500 with 1 Axes>"
      ]
     },
     "metadata": {},
     "output_type": "display_data"
    }
   ],
   "source": [
    "import pandas as pd\n",
    "import matplotlib.pyplot as plt\n",
    "from pathlib import Path\n",
    "\n",
    "# 0) Configuration: adjust if your names differ\n",
    "base_path     = Path(\"/Users/fatihbasturk/Projects/EE58A-2025\") / \"trained_models\"\n",
    "stage1_name   = \"exp_stage1\"\n",
    "stage2_name   = \"exp_stage2\"\n",
    "one_shot_name = \"exp_orig_full50\"\n",
    "sweep_tags    = [\n",
    "    \"exp_lr_1e-3\", \"exp_lr_5e-4\", \"exp_lr_1e-4\",\n",
    "    \"exp_wd_1e-2\", \"exp_wd_1e-3\", \"exp_wd_1e-4\",\n",
    "    \"exp_mosaic_off\", \"exp_mixup_on\", \"exp_label_smooth\",\n",
    "    \"exp_cosine_lr\"\n",
    "]\n",
    "\n",
    "# 1) Load Stage 1 & Stage 2 data\n",
    "df1 = pd.read_csv(base_path / f\"{stage1_name}_metrics.csv\", index_col=\"epoch\")\n",
    "df1 = df1[~df1.index.duplicated(keep=\"first\")]  # dedupe\n",
    "df2 = pd.read_csv(base_path / f\"{stage2_name}_metrics.csv\", index_col=\"epoch\")\n",
    "df2 = df2[~df2.index.duplicated(keep=\"first\")]\n",
    "\n",
    "# 2) Load One-Shot\n",
    "df_one = pd.read_csv(base_path / f\"{one_shot_name}_metrics.csv\", index_col=\"epoch\")\n",
    "df_one = df_one[~df_one.index.duplicated(keep=\"first\")]\n",
    "\n",
    "# 3) Load sweeps into a dict\n",
    "sweeps = {}\n",
    "for tag in sweep_tags:\n",
    "    path = base_path / f\"{tag}_metrics.csv\"\n",
    "    if path.exists():\n",
    "        df = pd.read_csv(path, index_col=\"epoch\")\n",
    "        df = df[~df.index.duplicated(keep=\"first\")]\n",
    "        sweeps[tag] = df\n",
    "\n",
    "\n",
    "# 5) Plot fine-tune window (31–50)\n",
    "offset = 30\n",
    "plt.figure(figsize=(10,5))\n",
    "\n",
    "# Stage 2 default\n",
    "plt.plot(df2.index + offset, df2[\"metrics/mAP50(B)\"],\n",
    "         'o-', color='C0', lw=2, label=\"Stage2 default\")\n",
    "\n",
    "# One-Shot\n",
    "df_one_slice = df_one[df_one.index >= offset]\n",
    "plt.plot(df_one_slice.index, df_one_slice[\"metrics/mAP50(B)\"],\n",
    "         'k--', lw=2, label=\"One-Shot\")\n",
    "\n",
    "# Sweeps\n",
    "for tag, df in sweeps.items():\n",
    "    plt.plot(df.index + offset, df[\"metrics/mAP50(B)\"],\n",
    "             alpha=0.5, label=tag)\n",
    "\n",
    "plt.xlim(31, 50)\n",
    "plt.xlabel(\"Epoch\")\n",
    "plt.ylabel(\"mAP@0.5\")\n",
    "plt.title(\"Fine-Tune Epochs (31–50): Stage2, One-Shot & Sweeps\")\n",
    "plt.grid(True)\n",
    "plt.legend(bbox_to_anchor=(1.02,1), loc='upper left')\n",
    "plt.tight_layout()\n",
    "plt.show()\n"
   ]
  }
 ],
 "metadata": {
  "kernelspec": {
   "display_name": ".venv",
   "language": "python",
   "name": "python3"
  },
  "language_info": {
   "codemirror_mode": {
    "name": "ipython",
    "version": 3
   },
   "file_extension": ".py",
   "mimetype": "text/x-python",
   "name": "python",
   "nbconvert_exporter": "python",
   "pygments_lexer": "ipython3",
   "version": "3.11.4"
  }
 },
 "nbformat": 4,
 "nbformat_minor": 5
}
